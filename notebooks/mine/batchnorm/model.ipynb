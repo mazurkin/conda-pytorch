{
 "cells": [
  {
   "cell_type": "markdown",
   "metadata": {},
   "source": [
    "### TOC"
   ]
  },
  {
   "cell_type": "markdown",
   "metadata": {},
   "source": [
    "https://www.kaggle.com/datasets/mexwell/heart-disease-dataset"
   ]
  },
  {
   "cell_type": "code",
   "execution_count": 1,
   "metadata": {},
   "outputs": [],
   "source": [
    "%matplotlib inline"
   ]
  },
  {
   "cell_type": "code",
   "execution_count": 2,
   "metadata": {},
   "outputs": [],
   "source": [
    "%load_ext tensorboard"
   ]
  },
  {
   "cell_type": "code",
   "execution_count": 3,
   "metadata": {},
   "outputs": [],
   "source": [
    "import pandas as pd\n",
    "import numpy as np\n",
    "import functools\n",
    "import json\n",
    "import matplotlib.pyplot as plt\n",
    "import itertools\n",
    "import os\n",
    "import re\n",
    "import pickle\n",
    "import joblib\n",
    "import json\n",
    "import pathlib\n",
    "import typing as t\n",
    "import datetime\n",
    "import tqdm.notebook as tqdm\n",
    "import dataclasses\n",
    "import ipdb\n",
    "import warnings\n",
    "import pickle\n",
    "import logging\n",
    "import copy\n",
    "import math\n",
    "import pprint\n",
    "import random"
   ]
  },
  {
   "cell_type": "code",
   "execution_count": 4,
   "metadata": {},
   "outputs": [],
   "source": [
    "import IPython.display "
   ]
  },
  {
   "cell_type": "code",
   "execution_count": 5,
   "metadata": {},
   "outputs": [],
   "source": [
    "import tensorboard\n",
    "import tensorboard.backend\n",
    "import tensorboard.backend.event_processing.event_file_inspector"
   ]
  },
  {
   "cell_type": "code",
   "execution_count": 6,
   "metadata": {},
   "outputs": [],
   "source": [
    "import sklearn\n",
    "import sklearn.metrics\n",
    "import sklearn.calibration"
   ]
  },
  {
   "cell_type": "code",
   "execution_count": 7,
   "metadata": {},
   "outputs": [],
   "source": [
    "import torch\n",
    "import torch.nn\n",
    "import torch.nn.utils.rnn\n",
    "import torch.nn.init\n",
    "import torch.cuda\n",
    "import torch.utils.data\n",
    "import torch.optim\n",
    "import torch.optim.lr_scheduler\n",
    "import torch.utils.tensorboard"
   ]
  },
  {
   "cell_type": "markdown",
   "metadata": {},
   "source": [
    "# init"
   ]
  },
  {
   "cell_type": "code",
   "execution_count": 8,
   "metadata": {},
   "outputs": [],
   "source": [
    "warnings.filterwarnings(action='ignore', category=UserWarning)"
   ]
  },
  {
   "cell_type": "code",
   "execution_count": 9,
   "metadata": {},
   "outputs": [],
   "source": [
    "pd.set_option('display.max_rows', 500)\n",
    "pd.set_option('display.max_columns', 500)\n",
    "pd.set_option('display.width', 1000)"
   ]
  },
  {
   "cell_type": "code",
   "execution_count": 10,
   "metadata": {},
   "outputs": [],
   "source": [
    "plt.rcParams['figure.figsize'] = [10, 6]\n",
    "plt.rcParams['figure.dpi'] = 80\n",
    "plt.rcParams['figure.max_open_warning'] = 100\n",
    "plt.rcParams['figure.autolayout'] = False\n",
    "plt.rcParams['figure.constrained_layout.use'] = False\n",
    "plt.rcParams['savefig.dpi'] = 80"
   ]
  },
  {
   "cell_type": "code",
   "execution_count": 11,
   "metadata": {},
   "outputs": [],
   "source": [
    "# https://matplotlib.org/stable/tutorials/introductory/usage.html#what-is-interactive-mode\n",
    "plt.ioff();"
   ]
  },
  {
   "cell_type": "code",
   "execution_count": 12,
   "metadata": {},
   "outputs": [],
   "source": [
    "def random_seed(seed: int):\n",
    "    torch.manual_seed(seed)\n",
    "    if torch.cuda.is_available():\n",
    "        torch.cuda.manual_seed_all(seed)\n",
    "    np.random.seed(seed)\n",
    "    random.seed(seed)"
   ]
  },
  {
   "cell_type": "code",
   "execution_count": 13,
   "metadata": {},
   "outputs": [],
   "source": [
    "random_seed(1)"
   ]
  },
  {
   "cell_type": "markdown",
   "metadata": {},
   "source": [
    "# dataset"
   ]
  },
  {
   "cell_type": "code",
   "execution_count": 14,
   "metadata": {},
   "outputs": [],
   "source": [
    "df = pd.read_csv('data/heart_statlog_cleveland_hungary_final.csv.gz', sep=',', low_memory=False)"
   ]
  },
  {
   "cell_type": "code",
   "execution_count": 15,
   "metadata": {},
   "outputs": [
    {
     "data": {
      "text/html": [
       "<div>\n",
       "<style scoped>\n",
       "    .dataframe tbody tr th:only-of-type {\n",
       "        vertical-align: middle;\n",
       "    }\n",
       "\n",
       "    .dataframe tbody tr th {\n",
       "        vertical-align: top;\n",
       "    }\n",
       "\n",
       "    .dataframe thead th {\n",
       "        text-align: right;\n",
       "    }\n",
       "</style>\n",
       "<table border=\"1\" class=\"dataframe\">\n",
       "  <thead>\n",
       "    <tr style=\"text-align: right;\">\n",
       "      <th></th>\n",
       "      <th>age</th>\n",
       "      <th>sex</th>\n",
       "      <th>chest pain type</th>\n",
       "      <th>resting bp s</th>\n",
       "      <th>cholesterol</th>\n",
       "      <th>fasting blood sugar</th>\n",
       "      <th>resting ecg</th>\n",
       "      <th>max heart rate</th>\n",
       "      <th>exercise angina</th>\n",
       "      <th>oldpeak</th>\n",
       "      <th>ST slope</th>\n",
       "      <th>target</th>\n",
       "    </tr>\n",
       "  </thead>\n",
       "  <tbody>\n",
       "    <tr>\n",
       "      <th>49</th>\n",
       "      <td>41</td>\n",
       "      <td>1</td>\n",
       "      <td>4</td>\n",
       "      <td>110</td>\n",
       "      <td>289</td>\n",
       "      <td>0</td>\n",
       "      <td>0</td>\n",
       "      <td>170</td>\n",
       "      <td>0</td>\n",
       "      <td>0.0</td>\n",
       "      <td>2</td>\n",
       "      <td>1</td>\n",
       "    </tr>\n",
       "    <tr>\n",
       "      <th>382</th>\n",
       "      <td>50</td>\n",
       "      <td>1</td>\n",
       "      <td>4</td>\n",
       "      <td>115</td>\n",
       "      <td>0</td>\n",
       "      <td>0</td>\n",
       "      <td>0</td>\n",
       "      <td>120</td>\n",
       "      <td>1</td>\n",
       "      <td>0.5</td>\n",
       "      <td>2</td>\n",
       "      <td>1</td>\n",
       "    </tr>\n",
       "    <tr>\n",
       "      <th>304</th>\n",
       "      <td>62</td>\n",
       "      <td>0</td>\n",
       "      <td>4</td>\n",
       "      <td>120</td>\n",
       "      <td>0</td>\n",
       "      <td>1</td>\n",
       "      <td>1</td>\n",
       "      <td>123</td>\n",
       "      <td>1</td>\n",
       "      <td>1.7</td>\n",
       "      <td>3</td>\n",
       "      <td>1</td>\n",
       "    </tr>\n",
       "    <tr>\n",
       "      <th>1010</th>\n",
       "      <td>55</td>\n",
       "      <td>1</td>\n",
       "      <td>4</td>\n",
       "      <td>140</td>\n",
       "      <td>217</td>\n",
       "      <td>0</td>\n",
       "      <td>0</td>\n",
       "      <td>111</td>\n",
       "      <td>1</td>\n",
       "      <td>5.6</td>\n",
       "      <td>3</td>\n",
       "      <td>1</td>\n",
       "    </tr>\n",
       "    <tr>\n",
       "      <th>798</th>\n",
       "      <td>56</td>\n",
       "      <td>0</td>\n",
       "      <td>4</td>\n",
       "      <td>134</td>\n",
       "      <td>409</td>\n",
       "      <td>0</td>\n",
       "      <td>2</td>\n",
       "      <td>150</td>\n",
       "      <td>1</td>\n",
       "      <td>1.9</td>\n",
       "      <td>2</td>\n",
       "      <td>1</td>\n",
       "    </tr>\n",
       "    <tr>\n",
       "      <th>1012</th>\n",
       "      <td>45</td>\n",
       "      <td>0</td>\n",
       "      <td>2</td>\n",
       "      <td>130</td>\n",
       "      <td>234</td>\n",
       "      <td>0</td>\n",
       "      <td>2</td>\n",
       "      <td>175</td>\n",
       "      <td>0</td>\n",
       "      <td>0.6</td>\n",
       "      <td>2</td>\n",
       "      <td>0</td>\n",
       "    </tr>\n",
       "    <tr>\n",
       "      <th>310</th>\n",
       "      <td>57</td>\n",
       "      <td>1</td>\n",
       "      <td>4</td>\n",
       "      <td>95</td>\n",
       "      <td>0</td>\n",
       "      <td>1</td>\n",
       "      <td>0</td>\n",
       "      <td>182</td>\n",
       "      <td>0</td>\n",
       "      <td>0.7</td>\n",
       "      <td>3</td>\n",
       "      <td>1</td>\n",
       "    </tr>\n",
       "    <tr>\n",
       "      <th>390</th>\n",
       "      <td>61</td>\n",
       "      <td>1</td>\n",
       "      <td>4</td>\n",
       "      <td>160</td>\n",
       "      <td>0</td>\n",
       "      <td>1</td>\n",
       "      <td>1</td>\n",
       "      <td>145</td>\n",
       "      <td>0</td>\n",
       "      <td>1.0</td>\n",
       "      <td>2</td>\n",
       "      <td>1</td>\n",
       "    </tr>\n",
       "    <tr>\n",
       "      <th>678</th>\n",
       "      <td>51</td>\n",
       "      <td>0</td>\n",
       "      <td>4</td>\n",
       "      <td>130</td>\n",
       "      <td>305</td>\n",
       "      <td>0</td>\n",
       "      <td>0</td>\n",
       "      <td>142</td>\n",
       "      <td>1</td>\n",
       "      <td>1.2</td>\n",
       "      <td>2</td>\n",
       "      <td>1</td>\n",
       "    </tr>\n",
       "    <tr>\n",
       "      <th>274</th>\n",
       "      <td>55</td>\n",
       "      <td>1</td>\n",
       "      <td>3</td>\n",
       "      <td>120</td>\n",
       "      <td>220</td>\n",
       "      <td>0</td>\n",
       "      <td>2</td>\n",
       "      <td>134</td>\n",
       "      <td>0</td>\n",
       "      <td>0.0</td>\n",
       "      <td>1</td>\n",
       "      <td>0</td>\n",
       "    </tr>\n",
       "  </tbody>\n",
       "</table>\n",
       "</div>"
      ],
      "text/plain": [
       "      age  sex  chest pain type  resting bp s  cholesterol  fasting blood sugar  resting ecg  max heart rate  exercise angina  oldpeak  ST slope  target\n",
       "49     41    1                4           110          289                    0            0             170                0      0.0         2       1\n",
       "382    50    1                4           115            0                    0            0             120                1      0.5         2       1\n",
       "304    62    0                4           120            0                    1            1             123                1      1.7         3       1\n",
       "1010   55    1                4           140          217                    0            0             111                1      5.6         3       1\n",
       "798    56    0                4           134          409                    0            2             150                1      1.9         2       1\n",
       "1012   45    0                2           130          234                    0            2             175                0      0.6         2       0\n",
       "310    57    1                4            95            0                    1            0             182                0      0.7         3       1\n",
       "390    61    1                4           160            0                    1            1             145                0      1.0         2       1\n",
       "678    51    0                4           130          305                    0            0             142                1      1.2         2       1\n",
       "274    55    1                3           120          220                    0            2             134                0      0.0         1       0"
      ]
     },
     "execution_count": 15,
     "metadata": {},
     "output_type": "execute_result"
    }
   ],
   "source": [
    "df.sample(10)"
   ]
  },
  {
   "cell_type": "code",
   "execution_count": 16,
   "metadata": {},
   "outputs": [
    {
     "data": {
      "text/plain": [
       "age                      int64\n",
       "sex                      int64\n",
       "chest pain type          int64\n",
       "resting bp s             int64\n",
       "cholesterol              int64\n",
       "fasting blood sugar      int64\n",
       "resting ecg              int64\n",
       "max heart rate           int64\n",
       "exercise angina          int64\n",
       "oldpeak                float64\n",
       "ST slope                 int64\n",
       "target                   int64\n",
       "dtype: object"
      ]
     },
     "execution_count": 16,
     "metadata": {},
     "output_type": "execute_result"
    }
   ],
   "source": [
    "df.dtypes"
   ]
  },
  {
   "cell_type": "code",
   "execution_count": 17,
   "metadata": {},
   "outputs": [
    {
     "data": {
      "text/html": [
       "<div>\n",
       "<style scoped>\n",
       "    .dataframe tbody tr th:only-of-type {\n",
       "        vertical-align: middle;\n",
       "    }\n",
       "\n",
       "    .dataframe tbody tr th {\n",
       "        vertical-align: top;\n",
       "    }\n",
       "\n",
       "    .dataframe thead th {\n",
       "        text-align: right;\n",
       "    }\n",
       "</style>\n",
       "<table border=\"1\" class=\"dataframe\">\n",
       "  <thead>\n",
       "    <tr style=\"text-align: right;\">\n",
       "      <th></th>\n",
       "      <th>count</th>\n",
       "      <th>mean</th>\n",
       "      <th>std</th>\n",
       "      <th>min</th>\n",
       "      <th>25%</th>\n",
       "      <th>50%</th>\n",
       "      <th>75%</th>\n",
       "      <th>max</th>\n",
       "    </tr>\n",
       "  </thead>\n",
       "  <tbody>\n",
       "    <tr>\n",
       "      <th>age</th>\n",
       "      <td>1190.0</td>\n",
       "      <td>53.720168</td>\n",
       "      <td>9.358203</td>\n",
       "      <td>28.0</td>\n",
       "      <td>47.0</td>\n",
       "      <td>54.0</td>\n",
       "      <td>60.00</td>\n",
       "      <td>77.0</td>\n",
       "    </tr>\n",
       "    <tr>\n",
       "      <th>sex</th>\n",
       "      <td>1190.0</td>\n",
       "      <td>0.763866</td>\n",
       "      <td>0.424884</td>\n",
       "      <td>0.0</td>\n",
       "      <td>1.0</td>\n",
       "      <td>1.0</td>\n",
       "      <td>1.00</td>\n",
       "      <td>1.0</td>\n",
       "    </tr>\n",
       "    <tr>\n",
       "      <th>chest pain type</th>\n",
       "      <td>1190.0</td>\n",
       "      <td>3.232773</td>\n",
       "      <td>0.935480</td>\n",
       "      <td>1.0</td>\n",
       "      <td>3.0</td>\n",
       "      <td>4.0</td>\n",
       "      <td>4.00</td>\n",
       "      <td>4.0</td>\n",
       "    </tr>\n",
       "    <tr>\n",
       "      <th>resting bp s</th>\n",
       "      <td>1190.0</td>\n",
       "      <td>132.153782</td>\n",
       "      <td>18.368823</td>\n",
       "      <td>0.0</td>\n",
       "      <td>120.0</td>\n",
       "      <td>130.0</td>\n",
       "      <td>140.00</td>\n",
       "      <td>200.0</td>\n",
       "    </tr>\n",
       "    <tr>\n",
       "      <th>cholesterol</th>\n",
       "      <td>1190.0</td>\n",
       "      <td>210.363866</td>\n",
       "      <td>101.420489</td>\n",
       "      <td>0.0</td>\n",
       "      <td>188.0</td>\n",
       "      <td>229.0</td>\n",
       "      <td>269.75</td>\n",
       "      <td>603.0</td>\n",
       "    </tr>\n",
       "    <tr>\n",
       "      <th>fasting blood sugar</th>\n",
       "      <td>1190.0</td>\n",
       "      <td>0.213445</td>\n",
       "      <td>0.409912</td>\n",
       "      <td>0.0</td>\n",
       "      <td>0.0</td>\n",
       "      <td>0.0</td>\n",
       "      <td>0.00</td>\n",
       "      <td>1.0</td>\n",
       "    </tr>\n",
       "    <tr>\n",
       "      <th>resting ecg</th>\n",
       "      <td>1190.0</td>\n",
       "      <td>0.698319</td>\n",
       "      <td>0.870359</td>\n",
       "      <td>0.0</td>\n",
       "      <td>0.0</td>\n",
       "      <td>0.0</td>\n",
       "      <td>2.00</td>\n",
       "      <td>2.0</td>\n",
       "    </tr>\n",
       "    <tr>\n",
       "      <th>max heart rate</th>\n",
       "      <td>1190.0</td>\n",
       "      <td>139.732773</td>\n",
       "      <td>25.517636</td>\n",
       "      <td>60.0</td>\n",
       "      <td>121.0</td>\n",
       "      <td>140.5</td>\n",
       "      <td>160.00</td>\n",
       "      <td>202.0</td>\n",
       "    </tr>\n",
       "    <tr>\n",
       "      <th>exercise angina</th>\n",
       "      <td>1190.0</td>\n",
       "      <td>0.387395</td>\n",
       "      <td>0.487360</td>\n",
       "      <td>0.0</td>\n",
       "      <td>0.0</td>\n",
       "      <td>0.0</td>\n",
       "      <td>1.00</td>\n",
       "      <td>1.0</td>\n",
       "    </tr>\n",
       "    <tr>\n",
       "      <th>oldpeak</th>\n",
       "      <td>1190.0</td>\n",
       "      <td>0.922773</td>\n",
       "      <td>1.086337</td>\n",
       "      <td>-2.6</td>\n",
       "      <td>0.0</td>\n",
       "      <td>0.6</td>\n",
       "      <td>1.60</td>\n",
       "      <td>6.2</td>\n",
       "    </tr>\n",
       "    <tr>\n",
       "      <th>ST slope</th>\n",
       "      <td>1190.0</td>\n",
       "      <td>1.624370</td>\n",
       "      <td>0.610459</td>\n",
       "      <td>0.0</td>\n",
       "      <td>1.0</td>\n",
       "      <td>2.0</td>\n",
       "      <td>2.00</td>\n",
       "      <td>3.0</td>\n",
       "    </tr>\n",
       "    <tr>\n",
       "      <th>target</th>\n",
       "      <td>1190.0</td>\n",
       "      <td>0.528571</td>\n",
       "      <td>0.499393</td>\n",
       "      <td>0.0</td>\n",
       "      <td>0.0</td>\n",
       "      <td>1.0</td>\n",
       "      <td>1.00</td>\n",
       "      <td>1.0</td>\n",
       "    </tr>\n",
       "  </tbody>\n",
       "</table>\n",
       "</div>"
      ],
      "text/plain": [
       "                      count        mean         std   min    25%    50%     75%    max\n",
       "age                  1190.0   53.720168    9.358203  28.0   47.0   54.0   60.00   77.0\n",
       "sex                  1190.0    0.763866    0.424884   0.0    1.0    1.0    1.00    1.0\n",
       "chest pain type      1190.0    3.232773    0.935480   1.0    3.0    4.0    4.00    4.0\n",
       "resting bp s         1190.0  132.153782   18.368823   0.0  120.0  130.0  140.00  200.0\n",
       "cholesterol          1190.0  210.363866  101.420489   0.0  188.0  229.0  269.75  603.0\n",
       "fasting blood sugar  1190.0    0.213445    0.409912   0.0    0.0    0.0    0.00    1.0\n",
       "resting ecg          1190.0    0.698319    0.870359   0.0    0.0    0.0    2.00    2.0\n",
       "max heart rate       1190.0  139.732773   25.517636  60.0  121.0  140.5  160.00  202.0\n",
       "exercise angina      1190.0    0.387395    0.487360   0.0    0.0    0.0    1.00    1.0\n",
       "oldpeak              1190.0    0.922773    1.086337  -2.6    0.0    0.6    1.60    6.2\n",
       "ST slope             1190.0    1.624370    0.610459   0.0    1.0    2.0    2.00    3.0\n",
       "target               1190.0    0.528571    0.499393   0.0    0.0    1.0    1.00    1.0"
      ]
     },
     "execution_count": 17,
     "metadata": {},
     "output_type": "execute_result"
    }
   ],
   "source": [
    "df.describe().transpose()"
   ]
  },
  {
   "cell_type": "markdown",
   "metadata": {},
   "source": [
    "# split to train and set"
   ]
  },
  {
   "cell_type": "code",
   "execution_count": 18,
   "metadata": {},
   "outputs": [],
   "source": [
    "df_trn, df_tst = sklearn.model_selection.train_test_split(df, test_size=0.2, random_state=42, stratify=df['target'])"
   ]
  },
  {
   "cell_type": "code",
   "execution_count": 19,
   "metadata": {},
   "outputs": [
    {
     "data": {
      "text/plain": [
       "952"
      ]
     },
     "execution_count": 19,
     "metadata": {},
     "output_type": "execute_result"
    }
   ],
   "source": [
    "len(df_trn)"
   ]
  },
  {
   "cell_type": "code",
   "execution_count": 20,
   "metadata": {},
   "outputs": [
    {
     "data": {
      "text/plain": [
       "238"
      ]
     },
     "execution_count": 20,
     "metadata": {},
     "output_type": "execute_result"
    }
   ],
   "source": [
    "len(df_tst)"
   ]
  },
  {
   "cell_type": "markdown",
   "metadata": {},
   "source": [
    "# model"
   ]
  },
  {
   "cell_type": "markdown",
   "metadata": {},
   "source": [
    "## event dataset"
   ]
  },
  {
   "cell_type": "code",
   "execution_count": 21,
   "metadata": {},
   "outputs": [],
   "source": [
    "@dataclasses.dataclass(frozen=True)\n",
    "class SampleRow:\n",
    "    \n",
    "    data: pd.Series"
   ]
  },
  {
   "cell_type": "code",
   "execution_count": 22,
   "metadata": {},
   "outputs": [],
   "source": [
    "@dataclasses.dataclass(frozen=True)\n",
    "class SampleBatch:\n",
    "\n",
    "    size: int\n",
    "\n",
    "    features: torch.FloatTensor\n",
    "    \n",
    "    targets: torch.FloatTensor"
   ]
  },
  {
   "cell_type": "code",
   "execution_count": 23,
   "metadata": {},
   "outputs": [],
   "source": [
    "class SampleDataset(torch.utils.data.Dataset):\n",
    "\n",
    "    FEATURES: t.List[str] = [\n",
    "        'age', 'sex', 'chest pain type', 'resting bp s', \n",
    "        'cholesterol', 'fasting blood sugar', 'resting ecg', 'max heart rate', \n",
    "        'exercise angina', 'oldpeak', 'ST slope',\n",
    "    ]\n",
    "    \n",
    "    def __init__(self, df: pd.DataFrame, device: torch.device):\n",
    "        super(SampleDataset).__init__()\n",
    "\n",
    "        self.df = df\n",
    "        self.device = device\n",
    "\n",
    "    def __len__(self):\n",
    "        return len(self.df)\n",
    "\n",
    "    def __getitem__(self, idx: int) -> SampleRow:\n",
    "        return SampleRow(data=self.df.iloc[idx])\n",
    "\n",
    "    def loader(self, batch_size: int = 1024) -> torch.utils.data.DataLoader:\n",
    "        return torch.utils.data.DataLoader(self, batch_size=batch_size, shuffle=True, collate_fn=self.collate)\n",
    "\n",
    "    def load(self, batch_size: int = 1024, title: str = 'procesing') -> t.Iterator[SampleBatch]:\n",
    "        loader: torch.utils.data.DataLoader = self.loader(batch_size)\n",
    "\n",
    "        with tqdm.tqdm(total=len(self.df), desc=title, mininterval=30, maxinterval=120, delay=20) as pbar:\n",
    "            for batch in loader:\n",
    "                yield batch\n",
    "                pbar.update(batch.size)\n",
    "        \n",
    "    def collate(self, batch: t.List[SampleRow]) -> SampleBatch:\n",
    "        features: t.List[t.List[float]] = [row.data[self.FEATURES].astype(float).values for row in batch]\n",
    "        \n",
    "        targets: t.List[float] = [float(row.data['target']) for row in batch]\n",
    "\n",
    "        return SampleBatch(\n",
    "            size=len(batch),\n",
    "            features=torch.FloatTensor(features).to(self.device),\n",
    "            targets=torch.FloatTensor(targets).to(self.device),\n",
    "        )"
   ]
  },
  {
   "cell_type": "markdown",
   "metadata": {},
   "source": [
    "## dataset example"
   ]
  },
  {
   "cell_type": "code",
   "execution_count": 24,
   "metadata": {},
   "outputs": [],
   "source": [
    "example_dataset = SampleDataset(df, device=torch.device('cpu:0'))"
   ]
  },
  {
   "cell_type": "code",
   "execution_count": 25,
   "metadata": {},
   "outputs": [],
   "source": [
    "example_dataloader = example_dataset.loader(batch_size=3)"
   ]
  },
  {
   "cell_type": "code",
   "execution_count": 26,
   "metadata": {},
   "outputs": [],
   "source": [
    "example_batch = next(iter(example_dataloader))"
   ]
  },
  {
   "cell_type": "code",
   "execution_count": 27,
   "metadata": {},
   "outputs": [
    {
     "name": "stdout",
     "output_type": "stream",
     "text": [
      "SampleBatch(size=3,\n",
      "            features=tensor([[ 57.0000,   1.0000,   4.0000, 150.0000, 276.0000,   0.0000,   2.0000,\n",
      "         112.0000,   1.0000,   0.6000,   2.0000],\n",
      "        [ 58.0000,   1.0000,   2.0000, 120.0000, 284.0000,   0.0000,   2.0000,\n",
      "         160.0000,   0.0000,   1.8000,   2.0000],\n",
      "        [ 66.0000,   1.0000,   4.0000, 150.0000,   0.0000,   0.0000,   0.0000,\n",
      "         108.0000,   1.0000,   2.0000,   2.0000]]),\n",
      "            targets=tensor([1., 1., 1.]))\n"
     ]
    }
   ],
   "source": [
    "pprint.pprint(example_batch, indent=4, width=120)"
   ]
  },
  {
   "cell_type": "markdown",
   "metadata": {},
   "source": [
    "## event model"
   ]
  },
  {
   "cell_type": "code",
   "execution_count": 28,
   "metadata": {},
   "outputs": [],
   "source": [
    "class SampleModel(torch.nn.Module):\n",
    "\n",
    "    DIMENSION_INPUT = len(SampleDataset.FEATURES)\n",
    "\n",
    "    DIMENSION_HIDDEN_1 = 128\n",
    "\n",
    "    DIMENSION_HIDDEN_2 = 64\n",
    "\n",
    "    DIMENSION_HIDDEN_3 = 8\n",
    "\n",
    "    DIMENSION_OUTPUT = 1\n",
    "\n",
    "    def __init__(self):\n",
    "        super(SampleModel, self).__init__()\n",
    "\n",
    "        # hidden layers\n",
    "        self.fc = torch.nn.Sequential(\n",
    "            # fc layers\n",
    "            self.make_fc_layer(self.DIMENSION_INPUT,    self.DIMENSION_HIDDEN_1),\n",
    "            self.make_fc_layer(self.DIMENSION_HIDDEN_1, self.DIMENSION_HIDDEN_2),\n",
    "            self.make_fc_layer(self.DIMENSION_HIDDEN_2, self.DIMENSION_HIDDEN_3),\n",
    "            # output\n",
    "            self.make_linear_layer(self.DIMENSION_HIDDEN_3, self.DIMENSION_OUTPUT),\n",
    "        )\n",
    "\n",
    "    @classmethod\n",
    "    def make_fc_layer(cls, in_size: int, out_size: int) -> torch.nn.Module: \n",
    "        return torch.nn.Sequential(\n",
    "            cls.make_linear_layer(in_size, out_size),\n",
    "            torch.nn.BatchNorm1d(out_size),\n",
    "            torch.nn.LeakyReLU(),\n",
    "            torch.nn.Dropout(0.5),\n",
    "        )\n",
    "    \n",
    "    @classmethod\n",
    "    def make_linear_layer(cls, in_size: int, out_size: int) -> torch.nn.Module: \n",
    "        layer: torch.nn.Module = torch.nn.Linear(in_size, out_size)\n",
    "        torch.nn.init.xavier_uniform_(layer.weight)\n",
    "        torch.nn.init.zeros_(layer.bias)\n",
    "        return layer        \n",
    "        \n",
    "    def forward(self, batch: SampleBatch) -> torch.Tensor:\n",
    "        return self.fc(batch.features)"
   ]
  },
  {
   "cell_type": "code",
   "execution_count": 29,
   "metadata": {},
   "outputs": [],
   "source": [
    "class SampleModelManager:\n",
    "\n",
    "    BATCH_SIZE: int = 256\n",
    "\n",
    "    LR_STEP: float = 0.95\n",
    "\n",
    "    LR_DEFAULT: float = 0.001\n",
    "\n",
    "    DEVICE_DEFAULT: torch.device = torch.device('cpu')\n",
    "\n",
    "    def __init__(self, device: torch.device = DEVICE_DEFAULT, lr: float = LR_DEFAULT):\n",
    "        self.model: SampleModel = SampleModel()\n",
    "        self.model.to(device)\n",
    "\n",
    "        if device.type == 'cuda':\n",
    "            if torch.cuda.get_device_properties(device.index).multi_processor_count >= 80:\n",
    "                self.model.compile()\n",
    "        \n",
    "        self.optimizer = torch.optim.Adam(self.model.parameters(), lr=lr)\n",
    "        self.scheduler = torch.optim.lr_scheduler.StepLR(self.optimizer, step_size=1, gamma=self.LR_STEP)\n",
    "        \n",
    "        self.criterion = torch.nn.BCEWithLogitsLoss()\n",
    "\n",
    "        self.trn_dataset: SampleDataset = SampleDataset(df_trn, device=device)\n",
    "        self.tst_dataset: SampleDataset = SampleDataset(df_tst, device=device)\n",
    "        \n",
    "        self.tag_time: datetime.datetime = datetime.datetime.now()\n",
    "        self.tag_name: str = self.tag_time.strftime(\"%Y%m%d-%H%M%S\")\n",
    "        \n",
    "        self.summary_folder = f'runs/{self.tag_name}'\n",
    "        self.summary_writer = torch.utils.tensorboard.SummaryWriter(log_dir=self.summary_folder, flush_secs=15)\n",
    "\n",
    "        self.train_epoch = 0\n",
    "        self.train_step = 0\n",
    "    \n",
    "    def train(self):\n",
    "        self.model.train()\n",
    "\n",
    "        batches: t.Iterator[SampleBatch] = self.trn_dataset.load(\n",
    "            batch_size=self.BATCH_SIZE,\n",
    "            title='training',\n",
    "        )\n",
    "\n",
    "        for batch in batches:\n",
    "            outputs = self.model(batch)\n",
    "\n",
    "            self.optimizer.zero_grad()\n",
    "\n",
    "            loss = self.criterion(outputs[:, 0], batch.targets)\n",
    "            loss.backward()\n",
    "\n",
    "            self.optimizer.step()\n",
    "\n",
    "            self.train_step += batch.size\n",
    "\n",
    "            self.summary_writer.add_scalars('loss', {'trn': loss.item()}, self.train_step)\n",
    "        \n",
    "    def loss(self, dataset: SampleDataset) -> float:\n",
    "        self.model.eval()\n",
    "\n",
    "        dataset_loss: float = 0.0\n",
    "        dataset_rows: int = 0        \n",
    "\n",
    "        batches: t.Iterator[SampleBatch] = dataset.load(\n",
    "            batch_size=self.BATCH_SIZE, \n",
    "            title='testing',\n",
    "        )\n",
    "\n",
    "        with torch.no_grad():\n",
    "            for batch in batches:\n",
    "                outputs = self.model(batch)\n",
    "                \n",
    "                loss = self.criterion(outputs[:, 0], batch.targets)\n",
    "                \n",
    "                dataset_loss += batch.size * loss.item()\n",
    "                dataset_rows += batch.size\n",
    "\n",
    "        return dataset_loss / dataset_rows\n",
    "\n",
    "    def loop(self, epochs: int):\n",
    "        for i in range(epochs):\n",
    "            print('start of epoch {} with lr={}'.format(self.train_epoch, self.scheduler.get_last_lr()))\n",
    "            \n",
    "            self.train() \n",
    "            self.scheduler.step()\n",
    "            \n",
    "            trn_loss: float = self.loss(self.trn_dataset)\n",
    "            tst_loss: float = self.loss(self.tst_dataset)\n",
    "            print('epoch: {:d}, step: {:d}, train: {:.3f}, test: {:.3f}'.format(self.train_epoch, self.train_step, trn_loss, tst_loss))\n",
    "\n",
    "            self.summary_writer.add_scalars('loss', {'epoch_trn': trn_loss, 'epoch_tst': tst_loss}, self.train_step)\n",
    "            self.summary_writer.flush()\n",
    "\n",
    "            self.train_epoch += 1\n",
    "\n",
    "    def sample(self, limit: int) -> t.Tuple[t.List[float], t.List[float]]:\n",
    "        self.model.eval()\n",
    "\n",
    "        actual: t.List[float] = []\n",
    "        predicted: t.List[float] = []\n",
    "\n",
    "        batches: t.Iterator[SampleBatch] = self.tst_dataset.loader(batch_size=self.BATCH_SIZE)\n",
    "        \n",
    "        with torch.no_grad():\n",
    "            for batch in batches:\n",
    "                outputs = self.model(batch)\n",
    "                classes = torch.sigmoid(outputs[:, 0])\n",
    "\n",
    "                actual.extend(batch.targets.cpu().numpy())\n",
    "                predicted.extend(classes.cpu().numpy())\n",
    "\n",
    "                if len(actual) >= limit:\n",
    "                    break\n",
    "\n",
    "        return actual[:limit], predicted[:limit]\n",
    "   \n",
    "    def save(self, path: str):\n",
    "        state = self.model.state_dict()\n",
    "        torch.save(state, path)\n",
    "\n",
    "    def load(self, path: str):\n",
    "        state = torch.load(path, weights_only=True)\n",
    "        self.model.load_state_dict(state)"
   ]
  },
  {
   "cell_type": "markdown",
   "metadata": {},
   "source": [
    "# train"
   ]
  },
  {
   "cell_type": "code",
   "execution_count": 30,
   "metadata": {},
   "outputs": [
    {
     "data": {
      "text/plain": [
       "True"
      ]
     },
     "execution_count": 30,
     "metadata": {},
     "output_type": "execute_result"
    }
   ],
   "source": [
    "torch.cuda.is_available()"
   ]
  },
  {
   "cell_type": "code",
   "execution_count": 31,
   "metadata": {},
   "outputs": [
    {
     "data": {
      "text/plain": [
       "(8, 9)"
      ]
     },
     "execution_count": 31,
     "metadata": {},
     "output_type": "execute_result"
    }
   ],
   "source": [
    "torch.cuda.get_device_capability()"
   ]
  },
  {
   "cell_type": "code",
   "execution_count": 32,
   "metadata": {},
   "outputs": [
    {
     "data": {
      "text/plain": [
       "_CudaDeviceProperties(name='NVIDIA RTX 3500 Ada Generation Laptop GPU', major=8, minor=9, total_memory=12002MB, multi_processor_count=40, uuid=96c349c6-7ea5-f8c7-3628-7cd40658958e, L2_cache_size=48MB)"
      ]
     },
     "execution_count": 32,
     "metadata": {},
     "output_type": "execute_result"
    }
   ],
   "source": [
    "torch.cuda.get_device_properties(0)"
   ]
  },
  {
   "cell_type": "code",
   "execution_count": 33,
   "metadata": {},
   "outputs": [],
   "source": [
    "device = torch.device('cuda:0')"
   ]
  },
  {
   "cell_type": "code",
   "execution_count": 34,
   "metadata": {},
   "outputs": [
    {
     "data": {
      "text/plain": [
       "device(type='cuda', index=0)"
      ]
     },
     "execution_count": 34,
     "metadata": {},
     "output_type": "execute_result"
    }
   ],
   "source": [
    "device"
   ]
  },
  {
   "cell_type": "code",
   "execution_count": 35,
   "metadata": {},
   "outputs": [],
   "source": [
    "manager = SampleModelManager(lr=0.05, device=device)"
   ]
  },
  {
   "cell_type": "code",
   "execution_count": 36,
   "metadata": {},
   "outputs": [
    {
     "data": {
      "text/plain": [
       "'runs/20250514-124300'"
      ]
     },
     "execution_count": 36,
     "metadata": {},
     "output_type": "execute_result"
    }
   ],
   "source": [
    "manager.summary_folder"
   ]
  },
  {
   "cell_type": "code",
   "execution_count": 37,
   "metadata": {},
   "outputs": [
    {
     "data": {
      "text/plain": [
       "SampleModel(\n",
       "  (fc): Sequential(\n",
       "    (0): Sequential(\n",
       "      (0): Linear(in_features=11, out_features=128, bias=True)\n",
       "      (1): BatchNorm1d(128, eps=1e-05, momentum=0.1, affine=True, track_running_stats=True)\n",
       "      (2): LeakyReLU(negative_slope=0.01)\n",
       "      (3): Dropout(p=0.5, inplace=False)\n",
       "    )\n",
       "    (1): Sequential(\n",
       "      (0): Linear(in_features=128, out_features=64, bias=True)\n",
       "      (1): BatchNorm1d(64, eps=1e-05, momentum=0.1, affine=True, track_running_stats=True)\n",
       "      (2): LeakyReLU(negative_slope=0.01)\n",
       "      (3): Dropout(p=0.5, inplace=False)\n",
       "    )\n",
       "    (2): Sequential(\n",
       "      (0): Linear(in_features=64, out_features=8, bias=True)\n",
       "      (1): BatchNorm1d(8, eps=1e-05, momentum=0.1, affine=True, track_running_stats=True)\n",
       "      (2): LeakyReLU(negative_slope=0.01)\n",
       "      (3): Dropout(p=0.5, inplace=False)\n",
       "    )\n",
       "    (3): Linear(in_features=8, out_features=1, bias=True)\n",
       "  )\n",
       ")"
      ]
     },
     "execution_count": 37,
     "metadata": {},
     "output_type": "execute_result"
    }
   ],
   "source": [
    "manager.model"
   ]
  },
  {
   "cell_type": "code",
   "execution_count": 38,
   "metadata": {
    "scrolled": true
   },
   "outputs": [
    {
     "name": "stdout",
     "output_type": "stream",
     "text": [
      "start of epoch 0 with lr=[0.05]\n",
      "epoch: 0, step: 952, train: 2.159, test: 2.152\n",
      "start of epoch 1 with lr=[0.0475]\n",
      "epoch: 1, step: 1904, train: 1.369, test: 1.281\n",
      "start of epoch 2 with lr=[0.045125]\n",
      "epoch: 2, step: 2856, train: 0.964, test: 0.868\n",
      "start of epoch 3 with lr=[0.04286875]\n",
      "epoch: 3, step: 3808, train: 0.609, test: 0.547\n",
      "start of epoch 4 with lr=[0.04072531249999999]\n",
      "epoch: 4, step: 4760, train: 0.542, test: 0.502\n",
      "start of epoch 5 with lr=[0.038689046874999994]\n",
      "epoch: 5, step: 5712, train: 0.579, test: 0.545\n",
      "start of epoch 6 with lr=[0.03675459453124999]\n",
      "epoch: 6, step: 6664, train: 0.616, test: 0.590\n",
      "start of epoch 7 with lr=[0.03491686480468749]\n",
      "epoch: 7, step: 7616, train: 0.718, test: 0.698\n",
      "start of epoch 8 with lr=[0.03317102156445311]\n",
      "epoch: 8, step: 8568, train: 0.633, test: 0.613\n",
      "start of epoch 9 with lr=[0.03151247048623045]\n",
      "epoch: 9, step: 9520, train: 0.498, test: 0.480\n",
      "start of epoch 10 with lr=[0.02993684696191893]\n",
      "epoch: 10, step: 10472, train: 0.585, test: 0.548\n",
      "start of epoch 11 with lr=[0.028440004613822983]\n",
      "epoch: 11, step: 11424, train: 0.817, test: 0.791\n",
      "start of epoch 12 with lr=[0.027018004383131834]\n",
      "epoch: 12, step: 12376, train: 0.720, test: 0.703\n",
      "start of epoch 13 with lr=[0.02566710416397524]\n",
      "epoch: 13, step: 13328, train: 0.671, test: 0.656\n",
      "start of epoch 14 with lr=[0.024383748955776476]\n",
      "epoch: 14, step: 14280, train: 0.624, test: 0.603\n",
      "start of epoch 15 with lr=[0.023164561507987652]\n",
      "epoch: 15, step: 15232, train: 0.590, test: 0.572\n",
      "start of epoch 16 with lr=[0.02200633343258827]\n",
      "epoch: 16, step: 16184, train: 0.695, test: 0.659\n",
      "start of epoch 17 with lr=[0.020906016760958854]\n",
      "epoch: 17, step: 17136, train: 0.565, test: 0.522\n",
      "start of epoch 18 with lr=[0.019860715922910912]\n",
      "epoch: 18, step: 18088, train: 0.407, test: 0.397\n",
      "start of epoch 19 with lr=[0.018867680126765367]\n",
      "epoch: 19, step: 19040, train: 0.391, test: 0.397\n",
      "start of epoch 20 with lr=[0.017924296120427098]\n",
      "epoch: 20, step: 19992, train: 0.481, test: 0.452\n",
      "start of epoch 21 with lr=[0.01702808131440574]\n",
      "epoch: 21, step: 20944, train: 0.568, test: 0.537\n",
      "start of epoch 22 with lr=[0.016176677248685455]\n",
      "epoch: 22, step: 21896, train: 0.429, test: 0.408\n",
      "start of epoch 23 with lr=[0.015367843386251181]\n",
      "epoch: 23, step: 22848, train: 0.383, test: 0.375\n",
      "start of epoch 24 with lr=[0.014599451216938621]\n",
      "epoch: 24, step: 23800, train: 0.386, test: 0.380\n",
      "start of epoch 25 with lr=[0.013869478656091689]\n",
      "epoch: 25, step: 24752, train: 0.452, test: 0.438\n",
      "start of epoch 26 with lr=[0.013176004723287104]\n",
      "epoch: 26, step: 25704, train: 0.402, test: 0.390\n",
      "start of epoch 27 with lr=[0.012517204487122747]\n",
      "epoch: 27, step: 26656, train: 0.382, test: 0.376\n",
      "start of epoch 28 with lr=[0.011891344262766609]\n",
      "epoch: 28, step: 27608, train: 0.416, test: 0.411\n",
      "start of epoch 29 with lr=[0.011296777049628278]\n",
      "epoch: 29, step: 28560, train: 0.418, test: 0.414\n",
      "start of epoch 30 with lr=[0.010731938197146863]\n",
      "epoch: 30, step: 29512, train: 0.384, test: 0.377\n",
      "start of epoch 31 with lr=[0.010195341287289519]\n",
      "epoch: 31, step: 30464, train: 0.366, test: 0.371\n",
      "start of epoch 32 with lr=[0.009685574222925042]\n",
      "epoch: 32, step: 31416, train: 0.365, test: 0.371\n",
      "start of epoch 33 with lr=[0.00920129551177879]\n",
      "epoch: 33, step: 32368, train: 0.365, test: 0.369\n",
      "start of epoch 34 with lr=[0.00874123073618985]\n",
      "epoch: 34, step: 33320, train: 0.362, test: 0.356\n",
      "start of epoch 35 with lr=[0.008304169199380356]\n",
      "epoch: 35, step: 34272, train: 0.360, test: 0.357\n",
      "start of epoch 36 with lr=[0.007888960739411338]\n",
      "epoch: 36, step: 35224, train: 0.367, test: 0.376\n",
      "start of epoch 37 with lr=[0.0074945127024407705]\n",
      "epoch: 37, step: 36176, train: 0.372, test: 0.391\n",
      "start of epoch 38 with lr=[0.007119787067318732]\n",
      "epoch: 38, step: 37128, train: 0.360, test: 0.372\n",
      "start of epoch 39 with lr=[0.006763797713952795]\n",
      "epoch: 39, step: 38080, train: 0.356, test: 0.367\n",
      "start of epoch 40 with lr=[0.006425607828255154]\n",
      "epoch: 40, step: 39032, train: 0.354, test: 0.370\n",
      "start of epoch 41 with lr=[0.006104327436842396]\n",
      "epoch: 41, step: 39984, train: 0.352, test: 0.365\n",
      "start of epoch 42 with lr=[0.005799111065000276]\n",
      "epoch: 42, step: 40936, train: 0.359, test: 0.364\n",
      "start of epoch 43 with lr=[0.005509155511750262]\n",
      "epoch: 43, step: 41888, train: 0.366, test: 0.366\n",
      "start of epoch 44 with lr=[0.005233697736162749]\n",
      "epoch: 44, step: 42840, train: 0.358, test: 0.364\n",
      "start of epoch 45 with lr=[0.0049720128493546106]\n",
      "epoch: 45, step: 43792, train: 0.359, test: 0.368\n",
      "start of epoch 46 with lr=[0.00472341220688688]\n",
      "epoch: 46, step: 44744, train: 0.355, test: 0.366\n",
      "start of epoch 47 with lr=[0.004487241596542535]\n",
      "epoch: 47, step: 45696, train: 0.351, test: 0.372\n",
      "start of epoch 48 with lr=[0.004262879516715408]\n",
      "epoch: 48, step: 46648, train: 0.349, test: 0.367\n",
      "start of epoch 49 with lr=[0.004049735540879638]\n",
      "epoch: 49, step: 47600, train: 0.353, test: 0.361\n",
      "start of epoch 50 with lr=[0.0038472487638356555]\n",
      "epoch: 50, step: 48552, train: 0.358, test: 0.365\n",
      "start of epoch 51 with lr=[0.0036548863256438725]\n",
      "epoch: 51, step: 49504, train: 0.351, test: 0.358\n",
      "start of epoch 52 with lr=[0.0034721420093616786]\n",
      "epoch: 52, step: 50456, train: 0.348, test: 0.358\n",
      "start of epoch 53 with lr=[0.0032985349088935946]\n",
      "epoch: 53, step: 51408, train: 0.349, test: 0.360\n",
      "start of epoch 54 with lr=[0.0031336081634489145]\n",
      "epoch: 54, step: 52360, train: 0.346, test: 0.361\n",
      "start of epoch 55 with lr=[0.002976927755276469]\n",
      "epoch: 55, step: 53312, train: 0.346, test: 0.365\n",
      "start of epoch 56 with lr=[0.0028280813675126454]\n",
      "epoch: 56, step: 54264, train: 0.347, test: 0.369\n",
      "start of epoch 57 with lr=[0.002686677299137013]\n",
      "epoch: 57, step: 55216, train: 0.348, test: 0.375\n",
      "start of epoch 58 with lr=[0.002552343434180162]\n",
      "epoch: 58, step: 56168, train: 0.346, test: 0.370\n",
      "start of epoch 59 with lr=[0.002424726262471154]\n",
      "epoch: 59, step: 57120, train: 0.342, test: 0.358\n",
      "start of epoch 60 with lr=[0.0023034899493475963]\n",
      "epoch: 60, step: 58072, train: 0.342, test: 0.359\n",
      "start of epoch 61 with lr=[0.0021883154518802165]\n",
      "epoch: 61, step: 59024, train: 0.341, test: 0.359\n",
      "start of epoch 62 with lr=[0.0020788996792862058]\n",
      "epoch: 62, step: 59976, train: 0.340, test: 0.358\n",
      "start of epoch 63 with lr=[0.0019749546953218952]\n",
      "epoch: 63, step: 60928, train: 0.341, test: 0.368\n",
      "start of epoch 64 with lr=[0.0018762069605558003]\n",
      "epoch: 64, step: 61880, train: 0.343, test: 0.374\n",
      "start of epoch 65 with lr=[0.0017823966125280102]\n",
      "epoch: 65, step: 62832, train: 0.340, test: 0.371\n",
      "start of epoch 66 with lr=[0.0016932767819016095]\n",
      "epoch: 66, step: 63784, train: 0.337, test: 0.362\n",
      "start of epoch 67 with lr=[0.001608612942806529]\n",
      "epoch: 67, step: 64736, train: 0.337, test: 0.358\n",
      "start of epoch 68 with lr=[0.0015281822956662023]\n",
      "epoch: 68, step: 65688, train: 0.338, test: 0.356\n",
      "start of epoch 69 with lr=[0.0014517731808828922]\n",
      "epoch: 69, step: 66640, train: 0.341, test: 0.355\n",
      "start of epoch 70 with lr=[0.0013791845218387474]\n",
      "epoch: 70, step: 67592, train: 0.343, test: 0.356\n",
      "start of epoch 71 with lr=[0.00131022529574681]\n",
      "epoch: 71, step: 68544, train: 0.340, test: 0.355\n",
      "start of epoch 72 with lr=[0.0012447140309594694]\n",
      "epoch: 72, step: 69496, train: 0.337, test: 0.356\n",
      "start of epoch 73 with lr=[0.001182478329411496]\n",
      "epoch: 73, step: 70448, train: 0.336, test: 0.358\n",
      "start of epoch 74 with lr=[0.001123354412940921]\n",
      "epoch: 74, step: 71400, train: 0.337, test: 0.361\n",
      "start of epoch 75 with lr=[0.001067186692293875]\n",
      "epoch: 75, step: 72352, train: 0.337, test: 0.363\n",
      "start of epoch 76 with lr=[0.0010138273576791811]\n",
      "epoch: 76, step: 73304, train: 0.337, test: 0.366\n",
      "start of epoch 77 with lr=[0.000963135989795222]\n",
      "epoch: 77, step: 74256, train: 0.337, test: 0.368\n",
      "start of epoch 78 with lr=[0.0009149791903054609]\n",
      "epoch: 78, step: 75208, train: 0.336, test: 0.366\n",
      "start of epoch 79 with lr=[0.0008692302307901878]\n",
      "epoch: 79, step: 76160, train: 0.335, test: 0.363\n",
      "start of epoch 80 with lr=[0.0008257687192506784]\n",
      "epoch: 80, step: 77112, train: 0.335, test: 0.362\n",
      "start of epoch 81 with lr=[0.0007844802832881444]\n",
      "epoch: 81, step: 78064, train: 0.335, test: 0.361\n",
      "start of epoch 82 with lr=[0.0007452562691237371]\n",
      "epoch: 82, step: 79016, train: 0.334, test: 0.361\n",
      "start of epoch 83 with lr=[0.0007079934556675502]\n",
      "epoch: 83, step: 79968, train: 0.335, test: 0.360\n",
      "start of epoch 84 with lr=[0.0006725937828841727]\n",
      "epoch: 84, step: 80920, train: 0.335, test: 0.360\n",
      "start of epoch 85 with lr=[0.000638964093739964]\n",
      "epoch: 85, step: 81872, train: 0.334, test: 0.360\n",
      "start of epoch 86 with lr=[0.0006070158890529658]\n",
      "epoch: 86, step: 82824, train: 0.334, test: 0.360\n",
      "start of epoch 87 with lr=[0.0005766650946003175]\n",
      "epoch: 87, step: 83776, train: 0.334, test: 0.360\n",
      "start of epoch 88 with lr=[0.0005478318398703016]\n",
      "epoch: 88, step: 84728, train: 0.333, test: 0.359\n",
      "start of epoch 89 with lr=[0.0005204402478767865]\n",
      "epoch: 89, step: 85680, train: 0.334, test: 0.360\n",
      "start of epoch 90 with lr=[0.0004944182354829472]\n",
      "epoch: 90, step: 86632, train: 0.333, test: 0.360\n",
      "start of epoch 91 with lr=[0.0004696973237087998]\n",
      "epoch: 91, step: 87584, train: 0.333, test: 0.360\n",
      "start of epoch 92 with lr=[0.00044621245752335983]\n",
      "epoch: 92, step: 88536, train: 0.332, test: 0.359\n",
      "start of epoch 93 with lr=[0.0004239018346471918]\n",
      "epoch: 93, step: 89488, train: 0.332, test: 0.360\n",
      "start of epoch 94 with lr=[0.0004027067429148322]\n",
      "epoch: 94, step: 90440, train: 0.332, test: 0.359\n",
      "start of epoch 95 with lr=[0.0003825714057690906]\n",
      "epoch: 95, step: 91392, train: 0.333, test: 0.358\n",
      "start of epoch 96 with lr=[0.000363442835480636]\n",
      "epoch: 96, step: 92344, train: 0.332, test: 0.358\n",
      "start of epoch 97 with lr=[0.0003452706937066042]\n",
      "epoch: 97, step: 93296, train: 0.332, test: 0.358\n",
      "start of epoch 98 with lr=[0.00032800715902127396]\n",
      "epoch: 98, step: 94248, train: 0.332, test: 0.358\n",
      "start of epoch 99 with lr=[0.00031160680107021024]\n",
      "epoch: 99, step: 95200, train: 0.332, test: 0.357\n",
      "start of epoch 100 with lr=[0.0002960264610166997]\n",
      "epoch: 100, step: 96152, train: 0.332, test: 0.357\n",
      "start of epoch 101 with lr=[0.0002812251379658647]\n",
      "epoch: 101, step: 97104, train: 0.332, test: 0.358\n",
      "start of epoch 102 with lr=[0.00026716388106757144]\n",
      "epoch: 102, step: 98056, train: 0.332, test: 0.358\n",
      "start of epoch 103 with lr=[0.00025380568701419284]\n",
      "epoch: 103, step: 99008, train: 0.332, test: 0.358\n",
      "start of epoch 104 with lr=[0.00024111540266348318]\n",
      "epoch: 104, step: 99960, train: 0.332, test: 0.358\n",
      "start of epoch 105 with lr=[0.00022905963253030902]\n",
      "epoch: 105, step: 100912, train: 0.332, test: 0.358\n",
      "start of epoch 106 with lr=[0.00021760665090379355]\n",
      "epoch: 106, step: 101864, train: 0.332, test: 0.358\n",
      "start of epoch 107 with lr=[0.00020672631835860387]\n",
      "epoch: 107, step: 102816, train: 0.332, test: 0.358\n",
      "start of epoch 108 with lr=[0.00019639000244067368]\n",
      "epoch: 108, step: 103768, train: 0.332, test: 0.357\n",
      "start of epoch 109 with lr=[0.00018657050231864]\n",
      "epoch: 109, step: 104720, train: 0.332, test: 0.357\n",
      "start of epoch 110 with lr=[0.000177241977202708]\n",
      "epoch: 110, step: 105672, train: 0.332, test: 0.357\n",
      "start of epoch 111 with lr=[0.00016837987834257258]\n",
      "epoch: 111, step: 106624, train: 0.332, test: 0.357\n",
      "start of epoch 112 with lr=[0.00015996088442544394]\n",
      "epoch: 112, step: 107576, train: 0.331, test: 0.357\n",
      "start of epoch 113 with lr=[0.00015196284020417173]\n",
      "epoch: 113, step: 108528, train: 0.331, test: 0.356\n",
      "start of epoch 114 with lr=[0.00014436469819396314]\n",
      "epoch: 114, step: 109480, train: 0.332, test: 0.357\n",
      "start of epoch 115 with lr=[0.00013714646328426497]\n",
      "epoch: 115, step: 110432, train: 0.332, test: 0.357\n",
      "start of epoch 116 with lr=[0.00013028914012005172]\n",
      "epoch: 116, step: 111384, train: 0.332, test: 0.357\n",
      "start of epoch 117 with lr=[0.00012377468311404913]\n",
      "epoch: 117, step: 112336, train: 0.332, test: 0.357\n",
      "start of epoch 118 with lr=[0.00011758594895834667]\n",
      "epoch: 118, step: 113288, train: 0.331, test: 0.356\n",
      "start of epoch 119 with lr=[0.00011170665151042934]\n",
      "epoch: 119, step: 114240, train: 0.331, test: 0.357\n",
      "start of epoch 120 with lr=[0.00010612131893490787]\n",
      "epoch: 120, step: 115192, train: 0.331, test: 0.356\n",
      "start of epoch 121 with lr=[0.00010081525298816247]\n",
      "epoch: 121, step: 116144, train: 0.331, test: 0.356\n",
      "start of epoch 122 with lr=[9.577449033875435e-05]\n",
      "epoch: 122, step: 117096, train: 0.331, test: 0.357\n",
      "start of epoch 123 with lr=[9.098576582181663e-05]\n",
      "epoch: 123, step: 118048, train: 0.331, test: 0.357\n",
      "start of epoch 124 with lr=[8.64364775307258e-05]\n",
      "epoch: 124, step: 119000, train: 0.331, test: 0.357\n",
      "start of epoch 125 with lr=[8.211465365418951e-05]\n",
      "epoch: 125, step: 119952, train: 0.331, test: 0.357\n",
      "start of epoch 126 with lr=[7.800892097148003e-05]\n",
      "epoch: 126, step: 120904, train: 0.331, test: 0.357\n",
      "start of epoch 127 with lr=[7.410847492290603e-05]\n",
      "epoch: 127, step: 121856, train: 0.331, test: 0.357\n",
      "start of epoch 128 with lr=[7.040305117676073e-05]\n",
      "epoch: 128, step: 122808, train: 0.331, test: 0.356\n",
      "start of epoch 129 with lr=[6.68828986179227e-05]\n",
      "epoch: 129, step: 123760, train: 0.331, test: 0.357\n",
      "start of epoch 130 with lr=[6.353875368702655e-05]\n",
      "epoch: 130, step: 124712, train: 0.331, test: 0.356\n",
      "start of epoch 131 with lr=[6.036181600267522e-05]\n",
      "epoch: 131, step: 125664, train: 0.331, test: 0.357\n",
      "start of epoch 132 with lr=[5.7343725202541454e-05]\n",
      "epoch: 132, step: 126616, train: 0.331, test: 0.357\n",
      "start of epoch 133 with lr=[5.4476538942414376e-05]\n",
      "epoch: 133, step: 127568, train: 0.331, test: 0.356\n",
      "start of epoch 134 with lr=[5.175271199529366e-05]\n",
      "epoch: 134, step: 128520, train: 0.331, test: 0.357\n",
      "start of epoch 135 with lr=[4.916507639552897e-05]\n",
      "epoch: 135, step: 129472, train: 0.331, test: 0.357\n",
      "start of epoch 136 with lr=[4.670682257575252e-05]\n",
      "epoch: 136, step: 130424, train: 0.331, test: 0.356\n",
      "start of epoch 137 with lr=[4.437148144696489e-05]\n",
      "epoch: 137, step: 131376, train: 0.331, test: 0.356\n",
      "start of epoch 138 with lr=[4.2152907374616645e-05]\n",
      "epoch: 138, step: 132328, train: 0.331, test: 0.356\n",
      "start of epoch 139 with lr=[4.004526200588581e-05]\n",
      "epoch: 139, step: 133280, train: 0.331, test: 0.356\n",
      "start of epoch 140 with lr=[3.804299890559152e-05]\n",
      "epoch: 140, step: 134232, train: 0.331, test: 0.356\n",
      "start of epoch 141 with lr=[3.6140848960311945e-05]\n",
      "epoch: 141, step: 135184, train: 0.331, test: 0.356\n",
      "start of epoch 142 with lr=[3.4333806512296344e-05]\n",
      "epoch: 142, step: 136136, train: 0.331, test: 0.356\n",
      "start of epoch 143 with lr=[3.261711618668153e-05]\n",
      "epoch: 143, step: 137088, train: 0.331, test: 0.356\n",
      "start of epoch 144 with lr=[3.098626037734745e-05]\n",
      "epoch: 144, step: 138040, train: 0.331, test: 0.356\n",
      "start of epoch 145 with lr=[2.9436947358480072e-05]\n",
      "epoch: 145, step: 138992, train: 0.331, test: 0.356\n",
      "start of epoch 146 with lr=[2.7965099990556068e-05]\n",
      "epoch: 146, step: 139944, train: 0.331, test: 0.357\n",
      "start of epoch 147 with lr=[2.6566844991028262e-05]\n",
      "epoch: 147, step: 140896, train: 0.331, test: 0.357\n",
      "start of epoch 148 with lr=[2.5238502741476848e-05]\n",
      "epoch: 148, step: 141848, train: 0.331, test: 0.357\n",
      "start of epoch 149 with lr=[2.3976577604403003e-05]\n",
      "epoch: 149, step: 142800, train: 0.331, test: 0.357\n",
      "start of epoch 150 with lr=[2.277774872418285e-05]\n",
      "epoch: 150, step: 143752, train: 0.331, test: 0.356\n",
      "start of epoch 151 with lr=[2.1638861287973706e-05]\n",
      "epoch: 151, step: 144704, train: 0.331, test: 0.356\n",
      "start of epoch 152 with lr=[2.055691822357502e-05]\n",
      "epoch: 152, step: 145656, train: 0.331, test: 0.357\n",
      "start of epoch 153 with lr=[1.9529072312396267e-05]\n",
      "epoch: 153, step: 146608, train: 0.331, test: 0.356\n",
      "start of epoch 154 with lr=[1.8552618696776453e-05]\n",
      "epoch: 154, step: 147560, train: 0.331, test: 0.356\n",
      "start of epoch 155 with lr=[1.762498776193763e-05]\n",
      "epoch: 155, step: 148512, train: 0.331, test: 0.356\n",
      "start of epoch 156 with lr=[1.674373837384075e-05]\n",
      "epoch: 156, step: 149464, train: 0.331, test: 0.356\n",
      "start of epoch 157 with lr=[1.5906551455148713e-05]\n",
      "epoch: 157, step: 150416, train: 0.331, test: 0.356\n",
      "start of epoch 158 with lr=[1.5111223882391277e-05]\n",
      "epoch: 158, step: 151368, train: 0.331, test: 0.356\n",
      "start of epoch 159 with lr=[1.4355662688271712e-05]\n",
      "epoch: 159, step: 152320, train: 0.331, test: 0.356\n",
      "start of epoch 160 with lr=[1.3637879553858125e-05]\n",
      "epoch: 160, step: 153272, train: 0.331, test: 0.357\n",
      "start of epoch 161 with lr=[1.2955985576165217e-05]\n",
      "epoch: 161, step: 154224, train: 0.332, test: 0.357\n",
      "start of epoch 162 with lr=[1.2308186297356956e-05]\n",
      "epoch: 162, step: 155176, train: 0.331, test: 0.357\n",
      "start of epoch 163 with lr=[1.1692776982489108e-05]\n",
      "epoch: 163, step: 156128, train: 0.331, test: 0.357\n",
      "start of epoch 164 with lr=[1.1108138133364652e-05]\n",
      "epoch: 164, step: 157080, train: 0.331, test: 0.357\n",
      "start of epoch 165 with lr=[1.0552731226696418e-05]\n",
      "epoch: 165, step: 158032, train: 0.331, test: 0.356\n",
      "start of epoch 166 with lr=[1.0025094665361597e-05]\n",
      "epoch: 166, step: 158984, train: 0.331, test: 0.356\n",
      "start of epoch 167 with lr=[9.523839932093517e-06]\n",
      "epoch: 167, step: 159936, train: 0.331, test: 0.357\n",
      "start of epoch 168 with lr=[9.047647935488842e-06]\n",
      "epoch: 168, step: 160888, train: 0.331, test: 0.356\n",
      "start of epoch 169 with lr=[8.5952655387144e-06]\n",
      "epoch: 169, step: 161840, train: 0.331, test: 0.357\n",
      "start of epoch 170 with lr=[8.165502261778679e-06]\n",
      "epoch: 170, step: 162792, train: 0.331, test: 0.357\n",
      "start of epoch 171 with lr=[7.757227148689744e-06]\n",
      "epoch: 171, step: 163744, train: 0.332, test: 0.357\n",
      "start of epoch 172 with lr=[7.369365791255256e-06]\n",
      "epoch: 172, step: 164696, train: 0.332, test: 0.357\n",
      "start of epoch 173 with lr=[7.000897501692493e-06]\n",
      "epoch: 173, step: 165648, train: 0.332, test: 0.357\n",
      "start of epoch 174 with lr=[6.650852626607868e-06]\n",
      "epoch: 174, step: 166600, train: 0.331, test: 0.357\n",
      "start of epoch 175 with lr=[6.3183099952774745e-06]\n",
      "epoch: 175, step: 167552, train: 0.331, test: 0.357\n",
      "start of epoch 176 with lr=[6.0023944955136005e-06]\n",
      "epoch: 176, step: 168504, train: 0.331, test: 0.357\n",
      "start of epoch 177 with lr=[5.70227477073792e-06]\n",
      "epoch: 177, step: 169456, train: 0.331, test: 0.357\n",
      "start of epoch 178 with lr=[5.4171610322010235e-06]\n",
      "epoch: 178, step: 170408, train: 0.330, test: 0.356\n",
      "start of epoch 179 with lr=[5.146302980590972e-06]\n",
      "epoch: 179, step: 171360, train: 0.331, test: 0.356\n",
      "start of epoch 180 with lr=[4.888987831561423e-06]\n",
      "epoch: 180, step: 172312, train: 0.331, test: 0.356\n",
      "start of epoch 181 with lr=[4.644538439983352e-06]\n",
      "epoch: 181, step: 173264, train: 0.331, test: 0.356\n",
      "start of epoch 182 with lr=[4.412311517984185e-06]\n",
      "epoch: 182, step: 174216, train: 0.331, test: 0.356\n",
      "start of epoch 183 with lr=[4.191695942084975e-06]\n",
      "epoch: 183, step: 175168, train: 0.331, test: 0.356\n",
      "start of epoch 184 with lr=[3.982111144980726e-06]\n",
      "epoch: 184, step: 176120, train: 0.331, test: 0.356\n",
      "start of epoch 185 with lr=[3.7830055877316896e-06]\n",
      "epoch: 185, step: 177072, train: 0.331, test: 0.356\n",
      "start of epoch 186 with lr=[3.593855308345105e-06]\n",
      "epoch: 186, step: 178024, train: 0.331, test: 0.357\n",
      "start of epoch 187 with lr=[3.4141625429278498e-06]\n",
      "epoch: 187, step: 178976, train: 0.330, test: 0.356\n",
      "start of epoch 188 with lr=[3.2434544157814572e-06]\n",
      "epoch: 188, step: 179928, train: 0.331, test: 0.356\n",
      "start of epoch 189 with lr=[3.081281694992384e-06]\n",
      "epoch: 189, step: 180880, train: 0.331, test: 0.356\n",
      "start of epoch 190 with lr=[2.927217610242765e-06]\n",
      "epoch: 190, step: 181832, train: 0.331, test: 0.356\n",
      "start of epoch 191 with lr=[2.7808567297306265e-06]\n",
      "epoch: 191, step: 182784, train: 0.331, test: 0.357\n",
      "start of epoch 192 with lr=[2.641813893244095e-06]\n",
      "epoch: 192, step: 183736, train: 0.331, test: 0.356\n",
      "start of epoch 193 with lr=[2.5097231985818904e-06]\n",
      "epoch: 193, step: 184688, train: 0.331, test: 0.357\n",
      "start of epoch 194 with lr=[2.384237038652796e-06]\n",
      "epoch: 194, step: 185640, train: 0.331, test: 0.356\n",
      "start of epoch 195 with lr=[2.265025186720156e-06]\n",
      "epoch: 195, step: 186592, train: 0.331, test: 0.356\n",
      "start of epoch 196 with lr=[2.151773927384148e-06]\n",
      "epoch: 196, step: 187544, train: 0.331, test: 0.356\n",
      "start of epoch 197 with lr=[2.0441852310149406e-06]\n",
      "epoch: 197, step: 188496, train: 0.331, test: 0.356\n",
      "start of epoch 198 with lr=[1.9419759694641933e-06]\n",
      "epoch: 198, step: 189448, train: 0.331, test: 0.356\n",
      "start of epoch 199 with lr=[1.8448771709909835e-06]\n",
      "epoch: 199, step: 190400, train: 0.331, test: 0.357\n"
     ]
    }
   ],
   "source": [
    "manager.loop(epochs=200)"
   ]
  },
  {
   "cell_type": "code",
   "execution_count": 39,
   "metadata": {},
   "outputs": [],
   "source": [
    "manager.save('data/model.pth')"
   ]
  },
  {
   "cell_type": "markdown",
   "metadata": {},
   "source": [
    "# tensorboard"
   ]
  },
  {
   "cell_type": "code",
   "execution_count": 40,
   "metadata": {},
   "outputs": [],
   "source": [
    "def load_scalars(metric_name: str) -> t.List[t.Tuple[int, float]]:\n",
    "    metric_path: str = os.path.join(manager.summary_folder, metric_name)\n",
    "    \n",
    "    generators = tensorboard.backend.event_processing.event_file_inspector.generators_from_logdir(metric_path)\n",
    "    if len(generators) == 1:\n",
    "        return np.array([\n",
    "            (event.step, event.summary.value[0].simple_value)\n",
    "            for event in generators[0]\n",
    "            if event.HasField(\"summary\")\n",
    "        ])\n",
    "    else:\n",
    "        raise ValueError('There are must be the single and only generator for ' + metric_name)\n"
   ]
  },
  {
   "cell_type": "code",
   "execution_count": 41,
   "metadata": {},
   "outputs": [],
   "source": [
    "run_losses = load_scalars('loss_trn')\n",
    "trn_losses = load_scalars('loss_epoch_trn')\n",
    "tst_losses = load_scalars('loss_epoch_tst')"
   ]
  },
  {
   "cell_type": "code",
   "execution_count": 42,
   "metadata": {},
   "outputs": [
    {
     "data": {
      "image/png": "[encoded data removed]",
      "text/plain": [
       "<Figure size 480x480 with 1 Axes>"
      ]
     },
     "execution_count": 42,
     "metadata": {},
     "output_type": "execute_result"
    }
   ],
   "source": [
    "fig, ax = plt.subplots(1, 1, squeeze=True, figsize=(6, 6))\n",
    "\n",
    "ax.plot(run_losses[:,0], run_losses[:, 1], label='run', color='gray', alpha=0.2)\n",
    "ax.plot(trn_losses[:,0], trn_losses[:, 1], label='train', color='green')\n",
    "ax.plot(tst_losses[:,0], tst_losses[:, 1], label='test', color='red')\n",
    "\n",
    "ax.set_ylim([-0.05, 1.05])\n",
    "\n",
    "fig.suptitle('losses')\n",
    "fig.legend(loc='upper right', borderaxespad=4)\n",
    "fig.tight_layout()\n",
    "fig"
   ]
  },
  {
   "cell_type": "code",
   "execution_count": 43,
   "metadata": {},
   "outputs": [
    {
     "data": {
      "text/html": [
       "\n",
       "      <iframe id=\"tensorboard-frame-91b7584a2265b1f5\" width=\"100%\" height=\"800\" frameborder=\"0\">\n",
       "      </iframe>\n",
       "      <script>\n",
       "        (function() {\n",
       "          const frame = document.getElementById(\"tensorboard-frame-91b7584a2265b1f5\");\n",
       "          const url = new URL(\"/\", window.location);\n",
       "          const port = 6006;\n",
       "          if (port) {\n",
       "            url.port = port;\n",
       "          }\n",
       "          frame.src = url;\n",
       "        })();\n",
       "      </script>\n",
       "    "
      ],
      "text/plain": [
       "<IPython.core.display.HTML object>"
      ]
     },
     "metadata": {},
     "output_type": "display_data"
    }
   ],
   "source": [
    "%tensorboard --logdir $manager.summary_folder"
   ]
  },
  {
   "cell_type": "markdown",
   "metadata": {},
   "source": [
    "# test"
   ]
  },
  {
   "cell_type": "code",
   "execution_count": 44,
   "metadata": {},
   "outputs": [],
   "source": [
    "actual, predicted = manager.sample(50000)"
   ]
  },
  {
   "cell_type": "code",
   "execution_count": 45,
   "metadata": {},
   "outputs": [
    {
     "data": {
      "text/plain": [
       "[0.0, 0.0, 1.0, 0.0]"
      ]
     },
     "execution_count": 45,
     "metadata": {},
     "output_type": "execute_result"
    }
   ],
   "source": [
    "actual[:4]"
   ]
  },
  {
   "cell_type": "code",
   "execution_count": 46,
   "metadata": {},
   "outputs": [
    {
     "data": {
      "text/plain": [
       "[0.06624231, 0.073567465, 0.9036379, 0.3094926]"
      ]
     },
     "execution_count": 46,
     "metadata": {},
     "output_type": "execute_result"
    }
   ],
   "source": [
    "predicted[:4]"
   ]
  },
  {
   "cell_type": "markdown",
   "metadata": {},
   "source": [
    "## classes"
   ]
  },
  {
   "cell_type": "code",
   "execution_count": 47,
   "metadata": {},
   "outputs": [
    {
     "data": {
      "image/png": "[encoded data removed]",
      "text/plain": [
       "<Figure size 480x480 with 1 Axes>"
      ]
     },
     "execution_count": 47,
     "metadata": {},
     "output_type": "execute_result"
    }
   ],
   "source": [
    "fig, ax = plt.subplots(1, 1, squeeze=True, figsize=(6, 6))\n",
    "\n",
    "ax.scatter(actual, predicted, alpha=0.05)\n",
    "\n",
    "ax.plot([0.0, 1.0], [0.0, 1.0], linestyle='--', color='r', alpha=0.2)\n",
    "ax.plot([0.0, 1.0], [0.5, 0.5], linestyle='--', color='r', alpha=0.2)\n",
    "\n",
    "ax.set_xlim([-0.05, 1.05])\n",
    "ax.set_ylim([-0.05, 1.05])\n",
    "\n",
    "ax.set_xlabel('actual')\n",
    "ax.set_ylabel('predicted')\n",
    "\n",
    "fig.suptitle('classes')\n",
    "fig.tight_layout()\n",
    "fig"
   ]
  },
  {
   "cell_type": "markdown",
   "metadata": {},
   "source": [
    "## roc-auc"
   ]
  },
  {
   "cell_type": "code",
   "execution_count": 48,
   "metadata": {},
   "outputs": [
    {
     "data": {
      "image/png": "[encoded data removed]",
      "text/plain": [
       "<Figure size 480x480 with 1 Axes>"
      ]
     },
     "execution_count": 48,
     "metadata": {},
     "output_type": "execute_result"
    }
   ],
   "source": [
    "fig, ax = plt.subplots(1, 1, squeeze=True, figsize=(6, 6))\n",
    "\n",
    "sklearn.metrics.RocCurveDisplay.from_predictions(\n",
    "    [int(label >= 0.5) for label in actual], \n",
    "    predicted,\n",
    "    ax=ax,\n",
    ")\n",
    "\n",
    "fig.suptitle('roc-auc')\n",
    "fig.tight_layout()\n",
    "fig"
   ]
  },
  {
   "cell_type": "markdown",
   "metadata": {},
   "source": [
    "## precision-recall"
   ]
  },
  {
   "cell_type": "code",
   "execution_count": 49,
   "metadata": {},
   "outputs": [
    {
     "data": {
      "image/png": "[encoded data removed]",
      "text/plain": [
       "<Figure size 800x480 with 1 Axes>"
      ]
     },
     "execution_count": 49,
     "metadata": {},
     "output_type": "execute_result"
    }
   ],
   "source": [
    "fig, ax = plt.subplots(1, 1, squeeze=True, figsize=(10, 6))\n",
    "\n",
    "sklearn.metrics.PrecisionRecallDisplay.from_predictions(\n",
    "    [int(label >= 0.5) for label in actual], \n",
    "    predicted,\n",
    "    ax=ax,\n",
    ")\n",
    "\n",
    "fig.suptitle('precision-recall')\n",
    "fig.tight_layout()\n",
    "fig"
   ]
  },
  {
   "cell_type": "markdown",
   "metadata": {},
   "source": [
    "## error rates"
   ]
  },
  {
   "cell_type": "code",
   "execution_count": 50,
   "metadata": {},
   "outputs": [
    {
     "data": {
      "image/png": "[encoded data removed]",
      "text/plain": [
       "<Figure size 800x480 with 1 Axes>"
      ]
     },
     "execution_count": 50,
     "metadata": {},
     "output_type": "execute_result"
    }
   ],
   "source": [
    "fig, ax = plt.subplots(1, 1, squeeze=True, figsize=(10, 6))\n",
    "\n",
    "sklearn.metrics.DetCurveDisplay.from_predictions(\n",
    "    [int(label >= 0.5) for label in actual], \n",
    "    predicted,\n",
    "    ax=ax,\n",
    ")\n",
    "\n",
    "fig.suptitle('DET')\n",
    "fig.tight_layout()\n",
    "fig"
   ]
  },
  {
   "cell_type": "markdown",
   "metadata": {},
   "source": [
    "## calibration"
   ]
  },
  {
   "cell_type": "code",
   "execution_count": 51,
   "metadata": {},
   "outputs": [
    {
     "data": {
      "image/png": "[encoded data removed]",
      "text/plain": [
       "<Figure size 800x480 with 1 Axes>"
      ]
     },
     "execution_count": 51,
     "metadata": {},
     "output_type": "execute_result"
    }
   ],
   "source": [
    "fig, ax = plt.subplots(1, 1, squeeze=True, figsize=(10, 6))\n",
    "\n",
    "sklearn.calibration.CalibrationDisplay.from_predictions(\n",
    "    [int(label >= 0.5) for label in actual], \n",
    "    predicted,\n",
    "    ax=ax,\n",
    ")\n",
    "\n",
    "fig.suptitle('calibration')\n",
    "fig.tight_layout()\n",
    "fig"
   ]
  },
  {
   "cell_type": "markdown",
   "metadata": {},
   "source": [
    "## confusion matrix"
   ]
  },
  {
   "cell_type": "code",
   "execution_count": 52,
   "metadata": {},
   "outputs": [
    {
     "data": {
      "image/png": "[encoded data removed]",
      "text/plain": [
       "<Figure size 480x480 with 2 Axes>"
      ]
     },
     "execution_count": 52,
     "metadata": {},
     "output_type": "execute_result"
    }
   ],
   "source": [
    "fig, ax = plt.subplots(1, 1, squeeze=True, figsize=(6, 6))\n",
    "\n",
    "sklearn.metrics.ConfusionMatrixDisplay.from_predictions(\n",
    "    [int(label >= 0.5) for label in actual], \n",
    "    [int(label >= 0.5) for label in predicted],\n",
    "    ax=ax, normalize='all', cmap='Accent'\n",
    ")\n",
    "\n",
    "fig.suptitle('confusion matrix')\n",
    "fig.tight_layout()\n",
    "fig"
   ]
  },
  {
   "cell_type": "code",
   "execution_count": null,
   "metadata": {},
   "outputs": [],
   "source": []
  }
 ],
 "metadata": {
  "kernelspec": {
   "display_name": "Python 3 (ipykernel)",
   "language": "python",
   "name": "python3"
  },
  "language_info": {
   "codemirror_mode": {
    "name": "ipython",
    "version": 3
   },
   "file_extension": ".py",
   "mimetype": "text/x-python",
   "name": "python",
   "nbconvert_exporter": "python",
   "pygments_lexer": "ipython3",
   "version": "3.10.16"
  }
 },
 "nbformat": 4,
 "nbformat_minor": 4
}
