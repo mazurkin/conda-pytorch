{
 "cells": [
  {
   "cell_type": "markdown",
   "metadata": {},
   "source": [
    "### TOC"
   ]
  },
  {
   "cell_type": "code",
   "execution_count": 1,
   "metadata": {},
   "outputs": [],
   "source": [
    "%matplotlib inline"
   ]
  },
  {
   "cell_type": "code",
   "execution_count": 2,
   "metadata": {},
   "outputs": [],
   "source": [
    "import pandas as pd\n",
    "import numpy as np\n",
    "import functools\n",
    "import json\n",
    "import matplotlib.pyplot as plt\n",
    "import itertools\n",
    "import os\n",
    "import re\n",
    "import pickle\n",
    "import joblib\n",
    "import json\n",
    "import pathlib\n",
    "import typing as t\n",
    "import datetime\n",
    "import tqdm.notebook as tqdm\n",
    "import dataclasses\n",
    "import ipdb\n",
    "import warnings\n",
    "import pickle\n",
    "import logging\n",
    "import copy\n",
    "import math\n",
    "import pprint"
   ]
  },
  {
   "cell_type": "code",
   "execution_count": 3,
   "metadata": {},
   "outputs": [],
   "source": [
    "import sklearn\n",
    "import sklearn.metrics"
   ]
  },
  {
   "cell_type": "code",
   "execution_count": 4,
   "metadata": {},
   "outputs": [],
   "source": [
    "import IPython.display "
   ]
  },
  {
   "cell_type": "code",
   "execution_count": 5,
   "metadata": {},
   "outputs": [],
   "source": [
    "warnings.filterwarnings(action='ignore', category=UserWarning)"
   ]
  },
  {
   "cell_type": "code",
   "execution_count": 6,
   "metadata": {},
   "outputs": [],
   "source": [
    "pd.set_option('display.max_rows', 500)\n",
    "pd.set_option('display.max_columns', 500)\n",
    "pd.set_option('display.width', 1000)"
   ]
  },
  {
   "cell_type": "code",
   "execution_count": 7,
   "metadata": {},
   "outputs": [],
   "source": [
    "plt.rcParams['figure.figsize'] = [10, 6]\n",
    "plt.rcParams['figure.dpi'] = 80\n",
    "plt.rcParams['figure.max_open_warning'] = 100\n",
    "plt.rcParams['figure.autolayout'] = False\n",
    "plt.rcParams['figure.constrained_layout.use'] = False\n",
    "plt.rcParams['savefig.dpi'] = 80"
   ]
  },
  {
   "cell_type": "code",
   "execution_count": 8,
   "metadata": {},
   "outputs": [],
   "source": [
    "# https://matplotlib.org/stable/tutorials/introductory/usage.html#what-is-interactive-mode\n",
    "plt.ioff();"
   ]
  },
  {
   "cell_type": "markdown",
   "metadata": {},
   "source": [
    "# dataset"
   ]
  },
  {
   "cell_type": "code",
   "execution_count": 9,
   "metadata": {},
   "outputs": [],
   "source": [
    "df = pd.read_csv('data/heart_statlog_cleveland_hungary_final.csv.gz', sep=',', low_memory=False)"
   ]
  },
  {
   "cell_type": "code",
   "execution_count": 10,
   "metadata": {},
   "outputs": [
    {
     "data": {
      "text/html": [
       "<div>\n",
       "<style scoped>\n",
       "    .dataframe tbody tr th:only-of-type {\n",
       "        vertical-align: middle;\n",
       "    }\n",
       "\n",
       "    .dataframe tbody tr th {\n",
       "        vertical-align: top;\n",
       "    }\n",
       "\n",
       "    .dataframe thead th {\n",
       "        text-align: right;\n",
       "    }\n",
       "</style>\n",
       "<table border=\"1\" class=\"dataframe\">\n",
       "  <thead>\n",
       "    <tr style=\"text-align: right;\">\n",
       "      <th></th>\n",
       "      <th>age</th>\n",
       "      <th>sex</th>\n",
       "      <th>chest pain type</th>\n",
       "      <th>resting bp s</th>\n",
       "      <th>cholesterol</th>\n",
       "      <th>fasting blood sugar</th>\n",
       "      <th>resting ecg</th>\n",
       "      <th>max heart rate</th>\n",
       "      <th>exercise angina</th>\n",
       "      <th>oldpeak</th>\n",
       "      <th>ST slope</th>\n",
       "      <th>target</th>\n",
       "    </tr>\n",
       "  </thead>\n",
       "  <tbody>\n",
       "    <tr>\n",
       "      <th>129</th>\n",
       "      <td>42</td>\n",
       "      <td>1</td>\n",
       "      <td>3</td>\n",
       "      <td>120</td>\n",
       "      <td>228</td>\n",
       "      <td>0</td>\n",
       "      <td>0</td>\n",
       "      <td>152</td>\n",
       "      <td>1</td>\n",
       "      <td>1.5</td>\n",
       "      <td>2</td>\n",
       "      <td>0</td>\n",
       "    </tr>\n",
       "    <tr>\n",
       "      <th>415</th>\n",
       "      <td>54</td>\n",
       "      <td>1</td>\n",
       "      <td>4</td>\n",
       "      <td>130</td>\n",
       "      <td>0</td>\n",
       "      <td>1</td>\n",
       "      <td>0</td>\n",
       "      <td>110</td>\n",
       "      <td>1</td>\n",
       "      <td>3.0</td>\n",
       "      <td>2</td>\n",
       "      <td>1</td>\n",
       "    </tr>\n",
       "    <tr>\n",
       "      <th>331</th>\n",
       "      <td>60</td>\n",
       "      <td>1</td>\n",
       "      <td>3</td>\n",
       "      <td>115</td>\n",
       "      <td>0</td>\n",
       "      <td>1</td>\n",
       "      <td>0</td>\n",
       "      <td>143</td>\n",
       "      <td>0</td>\n",
       "      <td>2.4</td>\n",
       "      <td>1</td>\n",
       "      <td>1</td>\n",
       "    </tr>\n",
       "    <tr>\n",
       "      <th>614</th>\n",
       "      <td>55</td>\n",
       "      <td>1</td>\n",
       "      <td>4</td>\n",
       "      <td>122</td>\n",
       "      <td>223</td>\n",
       "      <td>1</td>\n",
       "      <td>1</td>\n",
       "      <td>100</td>\n",
       "      <td>0</td>\n",
       "      <td>0.0</td>\n",
       "      <td>2</td>\n",
       "      <td>1</td>\n",
       "    </tr>\n",
       "    <tr>\n",
       "      <th>835</th>\n",
       "      <td>54</td>\n",
       "      <td>1</td>\n",
       "      <td>3</td>\n",
       "      <td>120</td>\n",
       "      <td>258</td>\n",
       "      <td>0</td>\n",
       "      <td>2</td>\n",
       "      <td>147</td>\n",
       "      <td>0</td>\n",
       "      <td>0.4</td>\n",
       "      <td>2</td>\n",
       "      <td>0</td>\n",
       "    </tr>\n",
       "    <tr>\n",
       "      <th>148</th>\n",
       "      <td>50</td>\n",
       "      <td>1</td>\n",
       "      <td>2</td>\n",
       "      <td>120</td>\n",
       "      <td>168</td>\n",
       "      <td>0</td>\n",
       "      <td>0</td>\n",
       "      <td>160</td>\n",
       "      <td>0</td>\n",
       "      <td>0.0</td>\n",
       "      <td>1</td>\n",
       "      <td>0</td>\n",
       "    </tr>\n",
       "    <tr>\n",
       "      <th>791</th>\n",
       "      <td>34</td>\n",
       "      <td>1</td>\n",
       "      <td>1</td>\n",
       "      <td>118</td>\n",
       "      <td>182</td>\n",
       "      <td>0</td>\n",
       "      <td>2</td>\n",
       "      <td>174</td>\n",
       "      <td>0</td>\n",
       "      <td>0.0</td>\n",
       "      <td>1</td>\n",
       "      <td>0</td>\n",
       "    </tr>\n",
       "    <tr>\n",
       "      <th>269</th>\n",
       "      <td>54</td>\n",
       "      <td>1</td>\n",
       "      <td>4</td>\n",
       "      <td>130</td>\n",
       "      <td>242</td>\n",
       "      <td>0</td>\n",
       "      <td>0</td>\n",
       "      <td>91</td>\n",
       "      <td>1</td>\n",
       "      <td>1.0</td>\n",
       "      <td>2</td>\n",
       "      <td>1</td>\n",
       "    </tr>\n",
       "    <tr>\n",
       "      <th>661</th>\n",
       "      <td>59</td>\n",
       "      <td>1</td>\n",
       "      <td>3</td>\n",
       "      <td>126</td>\n",
       "      <td>218</td>\n",
       "      <td>1</td>\n",
       "      <td>0</td>\n",
       "      <td>134</td>\n",
       "      <td>0</td>\n",
       "      <td>2.2</td>\n",
       "      <td>2</td>\n",
       "      <td>1</td>\n",
       "    </tr>\n",
       "    <tr>\n",
       "      <th>158</th>\n",
       "      <td>44</td>\n",
       "      <td>1</td>\n",
       "      <td>4</td>\n",
       "      <td>130</td>\n",
       "      <td>290</td>\n",
       "      <td>0</td>\n",
       "      <td>0</td>\n",
       "      <td>100</td>\n",
       "      <td>1</td>\n",
       "      <td>2.0</td>\n",
       "      <td>2</td>\n",
       "      <td>1</td>\n",
       "    </tr>\n",
       "  </tbody>\n",
       "</table>\n",
       "</div>"
      ],
      "text/plain": [
       "     age  sex  chest pain type  resting bp s  cholesterol  fasting blood sugar  resting ecg  max heart rate  exercise angina  oldpeak  ST slope  target\n",
       "129   42    1                3           120          228                    0            0             152                1      1.5         2       0\n",
       "415   54    1                4           130            0                    1            0             110                1      3.0         2       1\n",
       "331   60    1                3           115            0                    1            0             143                0      2.4         1       1\n",
       "614   55    1                4           122          223                    1            1             100                0      0.0         2       1\n",
       "835   54    1                3           120          258                    0            2             147                0      0.4         2       0\n",
       "148   50    1                2           120          168                    0            0             160                0      0.0         1       0\n",
       "791   34    1                1           118          182                    0            2             174                0      0.0         1       0\n",
       "269   54    1                4           130          242                    0            0              91                1      1.0         2       1\n",
       "661   59    1                3           126          218                    1            0             134                0      2.2         2       1\n",
       "158   44    1                4           130          290                    0            0             100                1      2.0         2       1"
      ]
     },
     "execution_count": 10,
     "metadata": {},
     "output_type": "execute_result"
    }
   ],
   "source": [
    "df.sample(10)"
   ]
  },
  {
   "cell_type": "code",
   "execution_count": 11,
   "metadata": {},
   "outputs": [
    {
     "data": {
      "text/plain": [
       "age                      int64\n",
       "sex                      int64\n",
       "chest pain type          int64\n",
       "resting bp s             int64\n",
       "cholesterol              int64\n",
       "fasting blood sugar      int64\n",
       "resting ecg              int64\n",
       "max heart rate           int64\n",
       "exercise angina          int64\n",
       "oldpeak                float64\n",
       "ST slope                 int64\n",
       "target                   int64\n",
       "dtype: object"
      ]
     },
     "execution_count": 11,
     "metadata": {},
     "output_type": "execute_result"
    }
   ],
   "source": [
    "df.dtypes"
   ]
  },
  {
   "cell_type": "code",
   "execution_count": 12,
   "metadata": {},
   "outputs": [
    {
     "data": {
      "text/html": [
       "<div>\n",
       "<style scoped>\n",
       "    .dataframe tbody tr th:only-of-type {\n",
       "        vertical-align: middle;\n",
       "    }\n",
       "\n",
       "    .dataframe tbody tr th {\n",
       "        vertical-align: top;\n",
       "    }\n",
       "\n",
       "    .dataframe thead th {\n",
       "        text-align: right;\n",
       "    }\n",
       "</style>\n",
       "<table border=\"1\" class=\"dataframe\">\n",
       "  <thead>\n",
       "    <tr style=\"text-align: right;\">\n",
       "      <th></th>\n",
       "      <th>count</th>\n",
       "      <th>mean</th>\n",
       "      <th>std</th>\n",
       "      <th>min</th>\n",
       "      <th>25%</th>\n",
       "      <th>50%</th>\n",
       "      <th>75%</th>\n",
       "      <th>max</th>\n",
       "    </tr>\n",
       "  </thead>\n",
       "  <tbody>\n",
       "    <tr>\n",
       "      <th>age</th>\n",
       "      <td>1190.0</td>\n",
       "      <td>53.720168</td>\n",
       "      <td>9.358203</td>\n",
       "      <td>28.0</td>\n",
       "      <td>47.0</td>\n",
       "      <td>54.0</td>\n",
       "      <td>60.00</td>\n",
       "      <td>77.0</td>\n",
       "    </tr>\n",
       "    <tr>\n",
       "      <th>sex</th>\n",
       "      <td>1190.0</td>\n",
       "      <td>0.763866</td>\n",
       "      <td>0.424884</td>\n",
       "      <td>0.0</td>\n",
       "      <td>1.0</td>\n",
       "      <td>1.0</td>\n",
       "      <td>1.00</td>\n",
       "      <td>1.0</td>\n",
       "    </tr>\n",
       "    <tr>\n",
       "      <th>chest pain type</th>\n",
       "      <td>1190.0</td>\n",
       "      <td>3.232773</td>\n",
       "      <td>0.935480</td>\n",
       "      <td>1.0</td>\n",
       "      <td>3.0</td>\n",
       "      <td>4.0</td>\n",
       "      <td>4.00</td>\n",
       "      <td>4.0</td>\n",
       "    </tr>\n",
       "    <tr>\n",
       "      <th>resting bp s</th>\n",
       "      <td>1190.0</td>\n",
       "      <td>132.153782</td>\n",
       "      <td>18.368823</td>\n",
       "      <td>0.0</td>\n",
       "      <td>120.0</td>\n",
       "      <td>130.0</td>\n",
       "      <td>140.00</td>\n",
       "      <td>200.0</td>\n",
       "    </tr>\n",
       "    <tr>\n",
       "      <th>cholesterol</th>\n",
       "      <td>1190.0</td>\n",
       "      <td>210.363866</td>\n",
       "      <td>101.420489</td>\n",
       "      <td>0.0</td>\n",
       "      <td>188.0</td>\n",
       "      <td>229.0</td>\n",
       "      <td>269.75</td>\n",
       "      <td>603.0</td>\n",
       "    </tr>\n",
       "    <tr>\n",
       "      <th>fasting blood sugar</th>\n",
       "      <td>1190.0</td>\n",
       "      <td>0.213445</td>\n",
       "      <td>0.409912</td>\n",
       "      <td>0.0</td>\n",
       "      <td>0.0</td>\n",
       "      <td>0.0</td>\n",
       "      <td>0.00</td>\n",
       "      <td>1.0</td>\n",
       "    </tr>\n",
       "    <tr>\n",
       "      <th>resting ecg</th>\n",
       "      <td>1190.0</td>\n",
       "      <td>0.698319</td>\n",
       "      <td>0.870359</td>\n",
       "      <td>0.0</td>\n",
       "      <td>0.0</td>\n",
       "      <td>0.0</td>\n",
       "      <td>2.00</td>\n",
       "      <td>2.0</td>\n",
       "    </tr>\n",
       "    <tr>\n",
       "      <th>max heart rate</th>\n",
       "      <td>1190.0</td>\n",
       "      <td>139.732773</td>\n",
       "      <td>25.517636</td>\n",
       "      <td>60.0</td>\n",
       "      <td>121.0</td>\n",
       "      <td>140.5</td>\n",
       "      <td>160.00</td>\n",
       "      <td>202.0</td>\n",
       "    </tr>\n",
       "    <tr>\n",
       "      <th>exercise angina</th>\n",
       "      <td>1190.0</td>\n",
       "      <td>0.387395</td>\n",
       "      <td>0.487360</td>\n",
       "      <td>0.0</td>\n",
       "      <td>0.0</td>\n",
       "      <td>0.0</td>\n",
       "      <td>1.00</td>\n",
       "      <td>1.0</td>\n",
       "    </tr>\n",
       "    <tr>\n",
       "      <th>oldpeak</th>\n",
       "      <td>1190.0</td>\n",
       "      <td>0.922773</td>\n",
       "      <td>1.086337</td>\n",
       "      <td>-2.6</td>\n",
       "      <td>0.0</td>\n",
       "      <td>0.6</td>\n",
       "      <td>1.60</td>\n",
       "      <td>6.2</td>\n",
       "    </tr>\n",
       "    <tr>\n",
       "      <th>ST slope</th>\n",
       "      <td>1190.0</td>\n",
       "      <td>1.624370</td>\n",
       "      <td>0.610459</td>\n",
       "      <td>0.0</td>\n",
       "      <td>1.0</td>\n",
       "      <td>2.0</td>\n",
       "      <td>2.00</td>\n",
       "      <td>3.0</td>\n",
       "    </tr>\n",
       "    <tr>\n",
       "      <th>target</th>\n",
       "      <td>1190.0</td>\n",
       "      <td>0.528571</td>\n",
       "      <td>0.499393</td>\n",
       "      <td>0.0</td>\n",
       "      <td>0.0</td>\n",
       "      <td>1.0</td>\n",
       "      <td>1.00</td>\n",
       "      <td>1.0</td>\n",
       "    </tr>\n",
       "  </tbody>\n",
       "</table>\n",
       "</div>"
      ],
      "text/plain": [
       "                      count        mean         std   min    25%    50%     75%    max\n",
       "age                  1190.0   53.720168    9.358203  28.0   47.0   54.0   60.00   77.0\n",
       "sex                  1190.0    0.763866    0.424884   0.0    1.0    1.0    1.00    1.0\n",
       "chest pain type      1190.0    3.232773    0.935480   1.0    3.0    4.0    4.00    4.0\n",
       "resting bp s         1190.0  132.153782   18.368823   0.0  120.0  130.0  140.00  200.0\n",
       "cholesterol          1190.0  210.363866  101.420489   0.0  188.0  229.0  269.75  603.0\n",
       "fasting blood sugar  1190.0    0.213445    0.409912   0.0    0.0    0.0    0.00    1.0\n",
       "resting ecg          1190.0    0.698319    0.870359   0.0    0.0    0.0    2.00    2.0\n",
       "max heart rate       1190.0  139.732773   25.517636  60.0  121.0  140.5  160.00  202.0\n",
       "exercise angina      1190.0    0.387395    0.487360   0.0    0.0    0.0    1.00    1.0\n",
       "oldpeak              1190.0    0.922773    1.086337  -2.6    0.0    0.6    1.60    6.2\n",
       "ST slope             1190.0    1.624370    0.610459   0.0    1.0    2.0    2.00    3.0\n",
       "target               1190.0    0.528571    0.499393   0.0    0.0    1.0    1.00    1.0"
      ]
     },
     "execution_count": 12,
     "metadata": {},
     "output_type": "execute_result"
    }
   ],
   "source": [
    "df.describe().transpose()"
   ]
  },
  {
   "cell_type": "markdown",
   "metadata": {},
   "source": [
    "# split to train and set"
   ]
  },
  {
   "cell_type": "code",
   "execution_count": 13,
   "metadata": {},
   "outputs": [],
   "source": [
    "df_trn, df_tst = sklearn.model_selection.train_test_split(df, test_size=0.2, random_state=42, stratify=df['target'])"
   ]
  },
  {
   "cell_type": "code",
   "execution_count": 14,
   "metadata": {},
   "outputs": [
    {
     "data": {
      "text/plain": [
       "952"
      ]
     },
     "execution_count": 14,
     "metadata": {},
     "output_type": "execute_result"
    }
   ],
   "source": [
    "len(df_trn)"
   ]
  },
  {
   "cell_type": "code",
   "execution_count": 15,
   "metadata": {},
   "outputs": [
    {
     "data": {
      "text/plain": [
       "238"
      ]
     },
     "execution_count": 15,
     "metadata": {},
     "output_type": "execute_result"
    }
   ],
   "source": [
    "len(df_tst)"
   ]
  },
  {
   "cell_type": "markdown",
   "metadata": {},
   "source": [
    "# model"
   ]
  },
  {
   "cell_type": "code",
   "execution_count": 16,
   "metadata": {},
   "outputs": [],
   "source": [
    "import torch\n",
    "import torch.nn\n",
    "import torch.nn.utils.rnn\n",
    "import torch.nn.init\n",
    "import torch.cuda\n",
    "import torch.utils.data\n",
    "import torch.optim\n",
    "import torch.optim.lr_scheduler\n",
    "import torch.utils.tensorboard"
   ]
  },
  {
   "cell_type": "markdown",
   "metadata": {},
   "source": [
    "## event dataset"
   ]
  },
  {
   "cell_type": "code",
   "execution_count": 17,
   "metadata": {},
   "outputs": [],
   "source": [
    "@dataclasses.dataclass(frozen=True)\n",
    "class SampleRow:\n",
    "    \n",
    "    data: pd.Series"
   ]
  },
  {
   "cell_type": "code",
   "execution_count": 18,
   "metadata": {},
   "outputs": [],
   "source": [
    "@dataclasses.dataclass(frozen=True)\n",
    "class SampleBatch:\n",
    "\n",
    "    size: int\n",
    "\n",
    "    features: torch.FloatTensor\n",
    "    \n",
    "    targets: torch.FloatTensor"
   ]
  },
  {
   "cell_type": "code",
   "execution_count": 19,
   "metadata": {},
   "outputs": [],
   "source": [
    "class SampleDataset(torch.utils.data.Dataset):\n",
    "\n",
    "    FEATURES: t.List[str] = [\n",
    "        'age', 'sex', 'chest pain type', 'resting bp s', \n",
    "        'cholesterol', 'fasting blood sugar', 'resting ecg', 'max heart rate', \n",
    "        'exercise angina', 'oldpeak', 'ST slope',\n",
    "    ]\n",
    "    \n",
    "    def __init__(self, df: pd.DataFrame, device: torch.device):\n",
    "        super(SampleDataset).__init__()\n",
    "\n",
    "        self.df = df\n",
    "        self.device = device\n",
    "\n",
    "    def __len__(self):\n",
    "        return len(self.df)\n",
    "\n",
    "    def __getitem__(self, idx: int) -> SampleRow:\n",
    "        return SampleRow(data=self.df.iloc[idx])\n",
    "\n",
    "    def loader(self, batch_size: int = 1024) -> torch.utils.data.DataLoader:\n",
    "        return torch.utils.data.DataLoader(self, batch_size=batch_size, shuffle=True, collate_fn=self.collate)\n",
    "\n",
    "    def load(self, \n",
    "             batch_size: int = 1024, \n",
    "             title: str = 'procesing', \n",
    "             report: t.Optional[t.Callable[[], None]] = None,\n",
    "            ) -> t.Iterator[SampleBatch]:\n",
    "        loader: torch.utils.data.DataLoader = self.loader(batch_size)\n",
    "\n",
    "        with tqdm.tqdm(total=len(self.df), desc=title, mininterval=30, maxinterval=120) as pbar:\n",
    "            for batch in loader:\n",
    "                yield batch\n",
    "\n",
    "                if pbar.update(batch.size):\n",
    "                    if report:\n",
    "                        report()\n",
    "\n",
    "            if report:\n",
    "                report()\n",
    "        \n",
    "    def collate(self, batch: t.List[SampleRow]) -> SampleBatch:\n",
    "        features: t.List[t.List[float]] = [row.data[self.FEATURES].astype(float).values for row in batch]\n",
    "        targets: t.List[float] = [float(row.data['target']) for row in batch]\n",
    "\n",
    "        # convert sample bean into a map of tensors\n",
    "        return SampleBatch(\n",
    "            size=len(batch),\n",
    "            features=torch.FloatTensor(features).to(self.device),\n",
    "            targets=torch.FloatTensor(targets).to(self.device),\n",
    "        )"
   ]
  },
  {
   "cell_type": "markdown",
   "metadata": {},
   "source": [
    "## dataset example"
   ]
  },
  {
   "cell_type": "code",
   "execution_count": 20,
   "metadata": {},
   "outputs": [],
   "source": [
    "example_dataset = SampleDataset(df, device=torch.device('cpu:0'))"
   ]
  },
  {
   "cell_type": "code",
   "execution_count": 21,
   "metadata": {},
   "outputs": [],
   "source": [
    "example_dataloader = example_dataset.loader(batch_size=5)"
   ]
  },
  {
   "cell_type": "code",
   "execution_count": 22,
   "metadata": {},
   "outputs": [],
   "source": [
    "example_batch = next(iter(example_dataloader))"
   ]
  },
  {
   "cell_type": "code",
   "execution_count": 23,
   "metadata": {},
   "outputs": [
    {
     "name": "stdout",
     "output_type": "stream",
     "text": [
      "SampleBatch(size=5,\n",
      "            features=tensor([[ 29.0000,   1.0000,   2.0000, 130.0000, 204.0000,   0.0000,   2.0000,\n",
      "         202.0000,   0.0000,   0.0000,   1.0000],\n",
      "        [ 48.0000,   1.0000,   4.0000, 122.0000, 222.0000,   0.0000,   2.0000,\n",
      "         186.0000,   0.0000,   0.0000,   1.0000],\n",
      "        [ 56.0000,   1.0000,   4.0000, 130.0000, 203.0000,   1.0000,   0.0000,\n",
      "          98.0000,   0.0000,   1.5000,   2.0000],\n",
      "        [ 54.0000,   0.0000,   3.0000, 108.0000, 267.0000,   0.0000,   2.0000,\n",
      "         167.0000,   0.0000,   0.0000,   1.0000],\n",
      "        [ 46.0000,   1.0000,   4.0000, 100.0000,   0.0000,   1.0000,   1.0000,\n",
      "         133.0000,   0.0000,  -2.6000,   2.0000]]),\n",
      "            targets=tensor([0., 0., 1., 0., 1.]))\n"
     ]
    }
   ],
   "source": [
    "pprint.pprint(example_batch, indent=4, width=120)"
   ]
  },
  {
   "cell_type": "markdown",
   "metadata": {},
   "source": [
    "## event model"
   ]
  },
  {
   "cell_type": "code",
   "execution_count": 24,
   "metadata": {},
   "outputs": [],
   "source": [
    "class SampleModel(torch.nn.Module):\n",
    "\n",
    "    DIMENSION_INPUT = len(SampleDataset.FEATURES)\n",
    "\n",
    "    DIMENSION_HIDDEN_1 = 128\n",
    "\n",
    "    DIMENSION_HIDDEN_2 = 64\n",
    "\n",
    "    DIMENSION_HIDDEN_3 = 8\n",
    "\n",
    "    DIMENSION_OUTPUT = 1\n",
    "\n",
    "    def __init__(self):\n",
    "        super(SampleModel, self).__init__()\n",
    "\n",
    "        # hidden layers\n",
    "        self.fc = torch.nn.Sequential(\n",
    "            # fc layers\n",
    "            self.make_fc_layer(self.DIMENSION_INPUT,    self.DIMENSION_HIDDEN_1),\n",
    "            self.make_fc_layer(self.DIMENSION_HIDDEN_1, self.DIMENSION_HIDDEN_2),\n",
    "            self.make_fc_layer(self.DIMENSION_HIDDEN_2, self.DIMENSION_HIDDEN_3),\n",
    "            # output\n",
    "            self.make_linear_layer(self.DIMENSION_HIDDEN_3, self.DIMENSION_OUTPUT),\n",
    "        )\n",
    "\n",
    "    @classmethod\n",
    "    def make_fc_layer(cls, in_size: int, out_size: int) -> torch.nn.Module: \n",
    "        return torch.nn.Sequential(\n",
    "            cls.make_linear_layer(in_size, out_size),\n",
    "            torch.nn.BatchNorm1d(out_size),\n",
    "            torch.nn.LeakyReLU(),\n",
    "            torch.nn.Dropout(0.5),\n",
    "        )\n",
    "    \n",
    "    @classmethod\n",
    "    def make_linear_layer(cls, in_size: int, out_size: int) -> torch.nn.Module: \n",
    "        layer: torch.nn.Module = torch.nn.Linear(in_size, out_size)\n",
    "        torch.nn.init.xavier_uniform_(layer.weight)\n",
    "        torch.nn.init.zeros_(layer.bias)\n",
    "        return layer        \n",
    "        \n",
    "    def forward(self, batch: SampleBatch) -> torch.Tensor:\n",
    "        return self.fc(batch.features)"
   ]
  },
  {
   "cell_type": "code",
   "execution_count": 25,
   "metadata": {},
   "outputs": [],
   "source": [
    "class SampleModelLoss:\n",
    "\n",
    "    def __init__(self,\n",
    "                 summary_metric: str = 'loss/unknown',\n",
    "                 summary_writer: t.Optional[torch.utils.tensorboard.SummaryWriter] = None\n",
    "                ):\n",
    "        self.summary_metric = summary_metric\n",
    "        self.summary_writer = summary_writer\n",
    "        \n",
    "        self.loss: float = 0.0\n",
    "        self.rows: int = 0\n",
    "\n",
    "        self.x: t.List[int] = []\n",
    "        self.y: t.List[float] = []\n",
    "\n",
    "    def update(self, loss: float, batch_size: int):\n",
    "        self.rows += batch_size\n",
    "        self.loss += loss * batch_size\n",
    "        \n",
    "    def report(self, epoch: int, step: int, reset: bool = True):        \n",
    "        if self.rows > 0:\n",
    "            avg_loss = self.loss / self.rows\n",
    "        else:\n",
    "            avg_loss = 0.0\n",
    "        \n",
    "        print('epoch {}, step {}, loss: {}'.format(epoch, step, avg_loss))\n",
    "\n",
    "        if self.summary_writer:\n",
    "            self.summary_writer.add_scalar(self.summary_metric, avg_loss, step)\n",
    "\n",
    "        self.x.append(step)\n",
    "        self.y.append(avg_loss)\n",
    "\n",
    "        if reset:\n",
    "            self.loss = 0.0\n",
    "            self.rows = 0"
   ]
  },
  {
   "cell_type": "code",
   "execution_count": 26,
   "metadata": {},
   "outputs": [],
   "source": [
    "class SampleModelManager:\n",
    "\n",
    "    def __init__(self, device: torch.device, lr: float = 0.001):\n",
    "        self.model: SampleModel = SampleModel()\n",
    "        self.model.to(device)\n",
    "\n",
    "        if device.type == 'cuda':\n",
    "            if torch.cuda.get_device_properties(device.index).multi_processor_count >= 80:\n",
    "                self.model.compile()\n",
    "        \n",
    "        self.optimizer = torch.optim.Adam(self.model.parameters(), lr=lr)\n",
    "        self.scheduler = torch.optim.lr_scheduler.StepLR(self.optimizer, step_size=1, gamma=0.90)\n",
    "        \n",
    "        self.criterion = torch.nn.BCEWithLogitsLoss()\n",
    "\n",
    "        self.trn_dataset: SampleDataset = SampleDataset(df_trn, device=device)\n",
    "        self.tst_dataset: SampleDataset = SampleDataset(df_tst, device=device)\n",
    "        \n",
    "        self.tag_time: datetime.datetime = datetime.datetime.now()\n",
    "        self.tag_name: str = self.tag_time.strftime(\"%Y%m%d-%H%M%S\")\n",
    "        \n",
    "        self.summary = torch.utils.tensorboard.SummaryWriter(log_dir=f'runs/{self.tag_name}', flush_secs=30)\n",
    "\n",
    "        self.train_epoch = 0\n",
    "        self.train_step = 0\n",
    "\n",
    "        self.trn_loss: SampleModelLoss = SampleModelLoss('loss/trn', self.summary)\n",
    "        self.tst_loss: SampleModelLoss = SampleModelLoss('loss/tst', self.summary)\n",
    "    \n",
    "    def train(self):\n",
    "        self.model.train()\n",
    "\n",
    "        batches: t.Iterator[SampleBatch] = self.trn_dataset.load(\n",
    "            batch_size=256,\n",
    "            title='training',\n",
    "            report=lambda: self.trn_loss.report(self.train_epoch, self.train_step),\n",
    "        )\n",
    "\n",
    "        for batch in batches:\n",
    "            outputs = self.model(batch)\n",
    "\n",
    "            self.optimizer.zero_grad()\n",
    "\n",
    "            loss = self.criterion(outputs[:, 0], batch.targets)\n",
    "            loss.backward()\n",
    "\n",
    "            self.optimizer.step()\n",
    "\n",
    "            self.trn_loss.update(loss.item(), batch.size)\n",
    "\n",
    "            self.train_step += batch.size\n",
    "        \n",
    "    def test(self):\n",
    "        self.model.eval()\n",
    "\n",
    "        batches: t.Iterator[SampleBatch] = self.tst_dataset.load(\n",
    "            batch_size=256, \n",
    "            title='testing',\n",
    "        )\n",
    "\n",
    "        with torch.no_grad():\n",
    "            for batch in batches:\n",
    "                outputs = self.model(batch)\n",
    "                \n",
    "                loss = self.criterion(outputs[:, 0], batch.targets)\n",
    "                \n",
    "                self.tst_loss.update(loss.item(), batch.size)\n",
    "\n",
    "        self.tst_loss.report(self.train_epoch, self.train_step)\n",
    "\n",
    "    def sample(self, limit: int) -> t.Tuple[t.List[float], t.List[float]]:\n",
    "        self.model.eval()\n",
    "\n",
    "        actual: t.List[float] = []\n",
    "        predicted: t.List[float] = []\n",
    "\n",
    "        batches: t.Iterator[SampleBatch] = self.tst_dataset.loader(batch_size=1024)\n",
    "        \n",
    "        with torch.no_grad():\n",
    "            for batch in batches:\n",
    "                outputs = self.model(batch)\n",
    "                classes = torch.sigmoid(outputs[:, 0])\n",
    "\n",
    "                actual.extend(batch.targets.cpu().numpy())\n",
    "                predicted.extend(classes.cpu().numpy())\n",
    "\n",
    "                if len(actual) >= limit:\n",
    "                    break\n",
    "\n",
    "        return actual[:limit], predicted[:limit]\n",
    "    \n",
    "    def loop(self, epochs: int):\n",
    "        for i in range(epochs):\n",
    "            print('start of epoch {} with lr={}'.format(self.train_epoch, self.scheduler.get_last_lr()))\n",
    "            \n",
    "            self.train() \n",
    "            self.test()\n",
    "\n",
    "            self.summary.flush()\n",
    "\n",
    "            self.scheduler.step()\n",
    "\n",
    "            self.train_epoch += 1\n",
    "\n",
    "    def save(self, path: str):\n",
    "        state = self.model.state_dict()\n",
    "        torch.save(state, path)\n",
    "\n",
    "    def load(self, path: str):\n",
    "        state = torch.load(path, weights_only=True)\n",
    "        self.model.load_state_dict(state)"
   ]
  },
  {
   "cell_type": "markdown",
   "metadata": {},
   "source": [
    "# train"
   ]
  },
  {
   "cell_type": "code",
   "execution_count": 27,
   "metadata": {},
   "outputs": [
    {
     "data": {
      "text/plain": [
       "True"
      ]
     },
     "execution_count": 27,
     "metadata": {},
     "output_type": "execute_result"
    }
   ],
   "source": [
    "torch.cuda.is_available()"
   ]
  },
  {
   "cell_type": "code",
   "execution_count": 28,
   "metadata": {},
   "outputs": [
    {
     "data": {
      "text/plain": [
       "(8, 9)"
      ]
     },
     "execution_count": 28,
     "metadata": {},
     "output_type": "execute_result"
    }
   ],
   "source": [
    "torch.cuda.get_device_capability()"
   ]
  },
  {
   "cell_type": "code",
   "execution_count": 29,
   "metadata": {},
   "outputs": [
    {
     "data": {
      "text/plain": [
       "_CudaDeviceProperties(name='NVIDIA RTX 3500 Ada Generation Laptop GPU', major=8, minor=9, total_memory=12002MB, multi_processor_count=40, uuid=96c349c6-7ea5-f8c7-3628-7cd40658958e, L2_cache_size=48MB)"
      ]
     },
     "execution_count": 29,
     "metadata": {},
     "output_type": "execute_result"
    }
   ],
   "source": [
    "torch.cuda.get_device_properties(0)"
   ]
  },
  {
   "cell_type": "code",
   "execution_count": 30,
   "metadata": {},
   "outputs": [],
   "source": [
    "device = torch.device('cuda:0')"
   ]
  },
  {
   "cell_type": "code",
   "execution_count": 31,
   "metadata": {},
   "outputs": [
    {
     "data": {
      "text/plain": [
       "device(type='cuda', index=0)"
      ]
     },
     "execution_count": 31,
     "metadata": {},
     "output_type": "execute_result"
    }
   ],
   "source": [
    "device"
   ]
  },
  {
   "cell_type": "code",
   "execution_count": 32,
   "metadata": {},
   "outputs": [],
   "source": [
    "manager = SampleModelManager(lr=0.05, device=device)"
   ]
  },
  {
   "cell_type": "code",
   "execution_count": 33,
   "metadata": {},
   "outputs": [
    {
     "data": {
      "text/plain": [
       "SampleModel(\n",
       "  (fc): Sequential(\n",
       "    (0): Sequential(\n",
       "      (0): Linear(in_features=11, out_features=128, bias=True)\n",
       "      (1): BatchNorm1d(128, eps=1e-05, momentum=0.1, affine=True, track_running_stats=True)\n",
       "      (2): LeakyReLU(negative_slope=0.01)\n",
       "      (3): Dropout(p=0.5, inplace=False)\n",
       "    )\n",
       "    (1): Sequential(\n",
       "      (0): Linear(in_features=128, out_features=64, bias=True)\n",
       "      (1): BatchNorm1d(64, eps=1e-05, momentum=0.1, affine=True, track_running_stats=True)\n",
       "      (2): LeakyReLU(negative_slope=0.01)\n",
       "      (3): Dropout(p=0.5, inplace=False)\n",
       "    )\n",
       "    (2): Sequential(\n",
       "      (0): Linear(in_features=64, out_features=8, bias=True)\n",
       "      (1): BatchNorm1d(8, eps=1e-05, momentum=0.1, affine=True, track_running_stats=True)\n",
       "      (2): LeakyReLU(negative_slope=0.01)\n",
       "      (3): Dropout(p=0.5, inplace=False)\n",
       "    )\n",
       "    (3): Linear(in_features=8, out_features=1, bias=True)\n",
       "  )\n",
       ")"
      ]
     },
     "execution_count": 33,
     "metadata": {},
     "output_type": "execute_result"
    }
   ],
   "source": [
    "manager.model"
   ]
  },
  {
   "cell_type": "code",
   "execution_count": 34,
   "metadata": {},
   "outputs": [
    {
     "name": "stdout",
     "output_type": "stream",
     "text": [
      "start of epoch 0 with lr=[0.05]\n"
     ]
    },
    {
     "data": {
      "application/vnd.jupyter.widget-view+json": {
       "model_id": "35fb3cb648de44508e4521517ad8608f",
       "version_major": 2,
       "version_minor": 0
      },
      "text/plain": [
       "training:   0%|          | 0/952 [00:00<?, ?it/s]"
      ]
     },
     "metadata": {},
     "output_type": "display_data"
    },
    {
     "name": "stdout",
     "output_type": "stream",
     "text": [
      "epoch 0, step 952, loss: 0.7660218577425019\n"
     ]
    },
    {
     "data": {
      "application/vnd.jupyter.widget-view+json": {
       "model_id": "e92000fe782441de8961117b25e1e334",
       "version_major": 2,
       "version_minor": 0
      },
      "text/plain": [
       "testing:   0%|          | 0/238 [00:00<?, ?it/s]"
      ]
     },
     "metadata": {},
     "output_type": "display_data"
    },
    {
     "name": "stdout",
     "output_type": "stream",
     "text": [
      "epoch 0, step 952, loss: 2.9400646686553955\n",
      "start of epoch 1 with lr=[0.045000000000000005]\n"
     ]
    },
    {
     "data": {
      "application/vnd.jupyter.widget-view+json": {
       "model_id": "4e1f3cc335bc45e4823c2c201dd56aa5",
       "version_major": 2,
       "version_minor": 0
      },
      "text/plain": [
       "training:   0%|          | 0/952 [00:00<?, ?it/s]"
      ]
     },
     "metadata": {},
     "output_type": "display_data"
    },
    {
     "name": "stdout",
     "output_type": "stream",
     "text": [
      "epoch 1, step 1904, loss: 0.6369123604117322\n"
     ]
    },
    {
     "data": {
      "application/vnd.jupyter.widget-view+json": {
       "model_id": "cde46888bcf4493587ceeb85bfa12486",
       "version_major": 2,
       "version_minor": 0
      },
      "text/plain": [
       "testing:   0%|          | 0/238 [00:00<?, ?it/s]"
      ]
     },
     "metadata": {},
     "output_type": "display_data"
    },
    {
     "name": "stdout",
     "output_type": "stream",
     "text": [
      "epoch 1, step 1904, loss: 1.1982274055480957\n",
      "start of epoch 2 with lr=[0.04050000000000001]\n"
     ]
    },
    {
     "data": {
      "application/vnd.jupyter.widget-view+json": {
       "model_id": "dd5ef1468e434055a9989d9275dec3f3",
       "version_major": 2,
       "version_minor": 0
      },
      "text/plain": [
       "training:   0%|          | 0/952 [00:00<?, ?it/s]"
      ]
     },
     "metadata": {},
     "output_type": "display_data"
    },
    {
     "name": "stdout",
     "output_type": "stream",
     "text": [
      "epoch 2, step 2856, loss: 0.640637214945144\n"
     ]
    },
    {
     "data": {
      "application/vnd.jupyter.widget-view+json": {
       "model_id": "36fe02050a064a8b9183ce0a913435a8",
       "version_major": 2,
       "version_minor": 0
      },
      "text/plain": [
       "testing:   0%|          | 0/238 [00:00<?, ?it/s]"
      ]
     },
     "metadata": {},
     "output_type": "display_data"
    },
    {
     "name": "stdout",
     "output_type": "stream",
     "text": [
      "epoch 2, step 2856, loss: 0.5730785131454468\n",
      "start of epoch 3 with lr=[0.03645000000000001]\n"
     ]
    },
    {
     "data": {
      "application/vnd.jupyter.widget-view+json": {
       "model_id": "f45a22068327402ab96c109b8302ef95",
       "version_major": 2,
       "version_minor": 0
      },
      "text/plain": [
       "training:   0%|          | 0/952 [00:00<?, ?it/s]"
      ]
     },
     "metadata": {},
     "output_type": "display_data"
    },
    {
     "name": "stdout",
     "output_type": "stream",
     "text": [
      "epoch 3, step 3808, loss: 0.6145004204341343\n"
     ]
    },
    {
     "data": {
      "application/vnd.jupyter.widget-view+json": {
       "model_id": "00ed7c19986d4b198aa9975bf5ff21bc",
       "version_major": 2,
       "version_minor": 0
      },
      "text/plain": [
       "testing:   0%|          | 0/238 [00:00<?, ?it/s]"
      ]
     },
     "metadata": {},
     "output_type": "display_data"
    },
    {
     "name": "stdout",
     "output_type": "stream",
     "text": [
      "epoch 3, step 3808, loss: 0.5250691175460815\n",
      "start of epoch 4 with lr=[0.03280500000000001]\n"
     ]
    },
    {
     "data": {
      "application/vnd.jupyter.widget-view+json": {
       "model_id": "bf8711b3a7104053b3c7291f8bff5206",
       "version_major": 2,
       "version_minor": 0
      },
      "text/plain": [
       "training:   0%|          | 0/952 [00:00<?, ?it/s]"
      ]
     },
     "metadata": {},
     "output_type": "display_data"
    },
    {
     "name": "stdout",
     "output_type": "stream",
     "text": [
      "epoch 4, step 4760, loss: 0.5978607074553225\n"
     ]
    },
    {
     "data": {
      "application/vnd.jupyter.widget-view+json": {
       "model_id": "1a863b2cf3364dac937646ac0d4e88c3",
       "version_major": 2,
       "version_minor": 0
      },
      "text/plain": [
       "testing:   0%|          | 0/238 [00:00<?, ?it/s]"
      ]
     },
     "metadata": {},
     "output_type": "display_data"
    },
    {
     "name": "stdout",
     "output_type": "stream",
     "text": [
      "epoch 4, step 4760, loss: 0.535614013671875\n",
      "start of epoch 5 with lr=[0.02952450000000001]\n"
     ]
    },
    {
     "data": {
      "application/vnd.jupyter.widget-view+json": {
       "model_id": "f7f7f09bd9304d708cfcf62ca638f7cb",
       "version_major": 2,
       "version_minor": 0
      },
      "text/plain": [
       "training:   0%|          | 0/952 [00:00<?, ?it/s]"
      ]
     },
     "metadata": {},
     "output_type": "display_data"
    },
    {
     "name": "stdout",
     "output_type": "stream",
     "text": [
      "epoch 5, step 5712, loss: 0.5886360787543929\n"
     ]
    },
    {
     "data": {
      "application/vnd.jupyter.widget-view+json": {
       "model_id": "b83573128f324aa4a1fb61e47c3da30f",
       "version_major": 2,
       "version_minor": 0
      },
      "text/plain": [
       "testing:   0%|          | 0/238 [00:00<?, ?it/s]"
      ]
     },
     "metadata": {},
     "output_type": "display_data"
    },
    {
     "name": "stdout",
     "output_type": "stream",
     "text": [
      "epoch 5, step 5712, loss: 0.5434423685073853\n",
      "start of epoch 6 with lr=[0.02657205000000001]\n"
     ]
    },
    {
     "data": {
      "application/vnd.jupyter.widget-view+json": {
       "model_id": "44f456fc722640529cd927ee03b826b2",
       "version_major": 2,
       "version_minor": 0
      },
      "text/plain": [
       "training:   0%|          | 0/952 [00:00<?, ?it/s]"
      ]
     },
     "metadata": {},
     "output_type": "display_data"
    },
    {
     "name": "stdout",
     "output_type": "stream",
     "text": [
      "epoch 6, step 6664, loss: 0.5840636101089606\n"
     ]
    },
    {
     "data": {
      "application/vnd.jupyter.widget-view+json": {
       "model_id": "c54505dad82e4f5595d5150e75d2528e",
       "version_major": 2,
       "version_minor": 0
      },
      "text/plain": [
       "testing:   0%|          | 0/238 [00:00<?, ?it/s]"
      ]
     },
     "metadata": {},
     "output_type": "display_data"
    },
    {
     "name": "stdout",
     "output_type": "stream",
     "text": [
      "epoch 6, step 6664, loss: 0.5644016861915588\n",
      "start of epoch 7 with lr=[0.02391484500000001]\n"
     ]
    },
    {
     "data": {
      "application/vnd.jupyter.widget-view+json": {
       "model_id": "c7922982d5444b28ad763744f26264d3",
       "version_major": 2,
       "version_minor": 0
      },
      "text/plain": [
       "training:   0%|          | 0/952 [00:00<?, ?it/s]"
      ]
     },
     "metadata": {},
     "output_type": "display_data"
    },
    {
     "name": "stdout",
     "output_type": "stream",
     "text": [
      "epoch 7, step 7616, loss: 0.5652563306463867\n"
     ]
    },
    {
     "data": {
      "application/vnd.jupyter.widget-view+json": {
       "model_id": "9e066b7abe1c41bd85d2c151d024c305",
       "version_major": 2,
       "version_minor": 0
      },
      "text/plain": [
       "testing:   0%|          | 0/238 [00:00<?, ?it/s]"
      ]
     },
     "metadata": {},
     "output_type": "display_data"
    },
    {
     "name": "stdout",
     "output_type": "stream",
     "text": [
      "epoch 7, step 7616, loss: 0.5759857296943665\n",
      "start of epoch 8 with lr=[0.021523360500000012]\n"
     ]
    },
    {
     "data": {
      "application/vnd.jupyter.widget-view+json": {
       "model_id": "a862a15424984ecc89e9bd21551e225a",
       "version_major": 2,
       "version_minor": 0
      },
      "text/plain": [
       "training:   0%|          | 0/952 [00:00<?, ?it/s]"
      ]
     },
     "metadata": {},
     "output_type": "display_data"
    },
    {
     "name": "stdout",
     "output_type": "stream",
     "text": [
      "epoch 8, step 8568, loss: 0.561161810360035\n"
     ]
    },
    {
     "data": {
      "application/vnd.jupyter.widget-view+json": {
       "model_id": "adf580afa0cb46d985a006cc6d5aaab1",
       "version_major": 2,
       "version_minor": 0
      },
      "text/plain": [
       "testing:   0%|          | 0/238 [00:00<?, ?it/s]"
      ]
     },
     "metadata": {},
     "output_type": "display_data"
    },
    {
     "name": "stdout",
     "output_type": "stream",
     "text": [
      "epoch 8, step 8568, loss: 0.545063316822052\n",
      "start of epoch 9 with lr=[0.01937102445000001]\n"
     ]
    },
    {
     "data": {
      "application/vnd.jupyter.widget-view+json": {
       "model_id": "a4a141ddcb1e4ba2bd7ffc788e018738",
       "version_major": 2,
       "version_minor": 0
      },
      "text/plain": [
       "training:   0%|          | 0/952 [00:00<?, ?it/s]"
      ]
     },
     "metadata": {},
     "output_type": "display_data"
    },
    {
     "name": "stdout",
     "output_type": "stream",
     "text": [
      "epoch 9, step 9520, loss: 0.5376251209683779\n"
     ]
    },
    {
     "data": {
      "application/vnd.jupyter.widget-view+json": {
       "model_id": "4b0d374c5a4244b79bab3946ba1ba327",
       "version_major": 2,
       "version_minor": 0
      },
      "text/plain": [
       "testing:   0%|          | 0/238 [00:00<?, ?it/s]"
      ]
     },
     "metadata": {},
     "output_type": "display_data"
    },
    {
     "name": "stdout",
     "output_type": "stream",
     "text": [
      "epoch 9, step 9520, loss: 0.5345255732536316\n",
      "start of epoch 10 with lr=[0.01743392200500001]\n"
     ]
    },
    {
     "data": {
      "application/vnd.jupyter.widget-view+json": {
       "model_id": "0f68287c4d064c4c929c94eb73ca4492",
       "version_major": 2,
       "version_minor": 0
      },
      "text/plain": [
       "training:   0%|          | 0/952 [00:00<?, ?it/s]"
      ]
     },
     "metadata": {},
     "output_type": "display_data"
    },
    {
     "name": "stdout",
     "output_type": "stream",
     "text": [
      "epoch 10, step 10472, loss: 0.511550185059299\n"
     ]
    },
    {
     "data": {
      "application/vnd.jupyter.widget-view+json": {
       "model_id": "eafaffa2b8124c7abb8c479f02db5624",
       "version_major": 2,
       "version_minor": 0
      },
      "text/plain": [
       "testing:   0%|          | 0/238 [00:00<?, ?it/s]"
      ]
     },
     "metadata": {},
     "output_type": "display_data"
    },
    {
     "name": "stdout",
     "output_type": "stream",
     "text": [
      "epoch 10, step 10472, loss: 0.5164874792098999\n",
      "start of epoch 11 with lr=[0.015690529804500006]\n"
     ]
    },
    {
     "data": {
      "application/vnd.jupyter.widget-view+json": {
       "model_id": "623bf77b54f148d58531ace871389557",
       "version_major": 2,
       "version_minor": 0
      },
      "text/plain": [
       "training:   0%|          | 0/952 [00:00<?, ?it/s]"
      ]
     },
     "metadata": {},
     "output_type": "display_data"
    },
    {
     "name": "stdout",
     "output_type": "stream",
     "text": [
      "epoch 11, step 11424, loss: 0.5173695267749434\n"
     ]
    },
    {
     "data": {
      "application/vnd.jupyter.widget-view+json": {
       "model_id": "bc3c34c49f9b4cc7aabd2bb9ccb5803b",
       "version_major": 2,
       "version_minor": 0
      },
      "text/plain": [
       "testing:   0%|          | 0/238 [00:00<?, ?it/s]"
      ]
     },
     "metadata": {},
     "output_type": "display_data"
    },
    {
     "name": "stdout",
     "output_type": "stream",
     "text": [
      "epoch 11, step 11424, loss: 0.5046509504318237\n",
      "start of epoch 12 with lr=[0.014121476824050006]\n"
     ]
    },
    {
     "data": {
      "application/vnd.jupyter.widget-view+json": {
       "model_id": "f90ca7cdc4034af29c205a5ae5272eb3",
       "version_major": 2,
       "version_minor": 0
      },
      "text/plain": [
       "training:   0%|          | 0/952 [00:00<?, ?it/s]"
      ]
     },
     "metadata": {},
     "output_type": "display_data"
    },
    {
     "name": "stdout",
     "output_type": "stream",
     "text": [
      "epoch 12, step 12376, loss: 0.5010530765817947\n"
     ]
    },
    {
     "data": {
      "application/vnd.jupyter.widget-view+json": {
       "model_id": "a728115f615547899b3901d751eafe6e",
       "version_major": 2,
       "version_minor": 0
      },
      "text/plain": [
       "testing:   0%|          | 0/238 [00:00<?, ?it/s]"
      ]
     },
     "metadata": {},
     "output_type": "display_data"
    },
    {
     "name": "stdout",
     "output_type": "stream",
     "text": [
      "epoch 12, step 12376, loss: 0.4609981179237366\n",
      "start of epoch 13 with lr=[0.012709329141645007]\n"
     ]
    },
    {
     "data": {
      "application/vnd.jupyter.widget-view+json": {
       "model_id": "a6a06fca4e3b482194294458b6747ba0",
       "version_major": 2,
       "version_minor": 0
      },
      "text/plain": [
       "training:   0%|          | 0/952 [00:00<?, ?it/s]"
      ]
     },
     "metadata": {},
     "output_type": "display_data"
    },
    {
     "name": "stdout",
     "output_type": "stream",
     "text": [
      "epoch 13, step 13328, loss: 0.503267662865775\n"
     ]
    },
    {
     "data": {
      "application/vnd.jupyter.widget-view+json": {
       "model_id": "b15ccafdfbaf4a3db706b8dc3202c56e",
       "version_major": 2,
       "version_minor": 0
      },
      "text/plain": [
       "testing:   0%|          | 0/238 [00:00<?, ?it/s]"
      ]
     },
     "metadata": {},
     "output_type": "display_data"
    },
    {
     "name": "stdout",
     "output_type": "stream",
     "text": [
      "epoch 13, step 13328, loss: 0.5161920785903931\n",
      "start of epoch 14 with lr=[0.011438396227480507]\n"
     ]
    },
    {
     "data": {
      "application/vnd.jupyter.widget-view+json": {
       "model_id": "871dc0a281f54a9d8a7349147a7d9ca0",
       "version_major": 2,
       "version_minor": 0
      },
      "text/plain": [
       "training:   0%|          | 0/952 [00:00<?, ?it/s]"
      ]
     },
     "metadata": {},
     "output_type": "display_data"
    },
    {
     "name": "stdout",
     "output_type": "stream",
     "text": [
      "epoch 14, step 14280, loss: 0.49548084320140484\n"
     ]
    },
    {
     "data": {
      "application/vnd.jupyter.widget-view+json": {
       "model_id": "ad26f7d47cf6441a80fa481c2d283e67",
       "version_major": 2,
       "version_minor": 0
      },
      "text/plain": [
       "testing:   0%|          | 0/238 [00:00<?, ?it/s]"
      ]
     },
     "metadata": {},
     "output_type": "display_data"
    },
    {
     "name": "stdout",
     "output_type": "stream",
     "text": [
      "epoch 14, step 14280, loss: 0.7433789968490601\n",
      "start of epoch 15 with lr=[0.010294556604732457]\n"
     ]
    },
    {
     "data": {
      "application/vnd.jupyter.widget-view+json": {
       "model_id": "2f64c5bc7f4b4dfa919cdf1453ec1ab8",
       "version_major": 2,
       "version_minor": 0
      },
      "text/plain": [
       "training:   0%|          | 0/952 [00:00<?, ?it/s]"
      ]
     },
     "metadata": {},
     "output_type": "display_data"
    },
    {
     "name": "stdout",
     "output_type": "stream",
     "text": [
      "epoch 15, step 15232, loss: 0.4716814097737064\n"
     ]
    },
    {
     "data": {
      "application/vnd.jupyter.widget-view+json": {
       "model_id": "c42ad255554f4a4da8592e2997d18839",
       "version_major": 2,
       "version_minor": 0
      },
      "text/plain": [
       "testing:   0%|          | 0/238 [00:00<?, ?it/s]"
      ]
     },
     "metadata": {},
     "output_type": "display_data"
    },
    {
     "name": "stdout",
     "output_type": "stream",
     "text": [
      "epoch 15, step 15232, loss: 0.6108147501945496\n",
      "start of epoch 16 with lr=[0.00926510094425921]\n"
     ]
    },
    {
     "data": {
      "application/vnd.jupyter.widget-view+json": {
       "model_id": "1e6b4a80d8d74f3cb5fe055163d9f91c",
       "version_major": 2,
       "version_minor": 0
      },
      "text/plain": [
       "training:   0%|          | 0/952 [00:00<?, ?it/s]"
      ]
     },
     "metadata": {},
     "output_type": "display_data"
    },
    {
     "name": "stdout",
     "output_type": "stream",
     "text": [
      "epoch 16, step 16184, loss: 0.49632299246908235\n"
     ]
    },
    {
     "data": {
      "application/vnd.jupyter.widget-view+json": {
       "model_id": "f1984402e59d4a24b3286e2fa8574c9b",
       "version_major": 2,
       "version_minor": 0
      },
      "text/plain": [
       "testing:   0%|          | 0/238 [00:00<?, ?it/s]"
      ]
     },
     "metadata": {},
     "output_type": "display_data"
    },
    {
     "name": "stdout",
     "output_type": "stream",
     "text": [
      "epoch 16, step 16184, loss: 0.4197086989879608\n",
      "start of epoch 17 with lr=[0.00833859084983329]\n"
     ]
    },
    {
     "data": {
      "application/vnd.jupyter.widget-view+json": {
       "model_id": "60ec85be1eaf4971b07ce254254a342f",
       "version_major": 2,
       "version_minor": 0
      },
      "text/plain": [
       "training:   0%|          | 0/952 [00:00<?, ?it/s]"
      ]
     },
     "metadata": {},
     "output_type": "display_data"
    },
    {
     "name": "stdout",
     "output_type": "stream",
     "text": [
      "epoch 17, step 17136, loss: 0.5002007391773352\n"
     ]
    },
    {
     "data": {
      "application/vnd.jupyter.widget-view+json": {
       "model_id": "0163d39776c64ef58b134931cc04954e",
       "version_major": 2,
       "version_minor": 0
      },
      "text/plain": [
       "testing:   0%|          | 0/238 [00:00<?, ?it/s]"
      ]
     },
     "metadata": {},
     "output_type": "display_data"
    },
    {
     "name": "stdout",
     "output_type": "stream",
     "text": [
      "epoch 17, step 17136, loss: 0.4159199893474579\n",
      "start of epoch 18 with lr=[0.007504731764849962]\n"
     ]
    },
    {
     "data": {
      "application/vnd.jupyter.widget-view+json": {
       "model_id": "8dc6a9794aea403e90e17b75764be44c",
       "version_major": 2,
       "version_minor": 0
      },
      "text/plain": [
       "training:   0%|          | 0/952 [00:00<?, ?it/s]"
      ]
     },
     "metadata": {},
     "output_type": "display_data"
    },
    {
     "name": "stdout",
     "output_type": "stream",
     "text": [
      "epoch 18, step 18088, loss: 0.4793736761858483\n"
     ]
    },
    {
     "data": {
      "application/vnd.jupyter.widget-view+json": {
       "model_id": "f6e61b071c394d6d99e862583a00aa73",
       "version_major": 2,
       "version_minor": 0
      },
      "text/plain": [
       "testing:   0%|          | 0/238 [00:00<?, ?it/s]"
      ]
     },
     "metadata": {},
     "output_type": "display_data"
    },
    {
     "name": "stdout",
     "output_type": "stream",
     "text": [
      "epoch 18, step 18088, loss: 0.38457509875297546\n",
      "start of epoch 19 with lr=[0.006754258588364966]\n"
     ]
    },
    {
     "data": {
      "application/vnd.jupyter.widget-view+json": {
       "model_id": "6a8189b6ad384739b39de53f6753460e",
       "version_major": 2,
       "version_minor": 0
      },
      "text/plain": [
       "training:   0%|          | 0/952 [00:00<?, ?it/s]"
      ]
     },
     "metadata": {},
     "output_type": "display_data"
    },
    {
     "name": "stdout",
     "output_type": "stream",
     "text": [
      "epoch 19, step 19040, loss: 0.47329800018743307\n"
     ]
    },
    {
     "data": {
      "application/vnd.jupyter.widget-view+json": {
       "model_id": "ef8cdef817834f61b41c2fa0a00eb351",
       "version_major": 2,
       "version_minor": 0
      },
      "text/plain": [
       "testing:   0%|          | 0/238 [00:00<?, ?it/s]"
      ]
     },
     "metadata": {},
     "output_type": "display_data"
    },
    {
     "name": "stdout",
     "output_type": "stream",
     "text": [
      "epoch 19, step 19040, loss: 0.3743506968021393\n",
      "start of epoch 20 with lr=[0.00607883272952847]\n"
     ]
    },
    {
     "data": {
      "application/vnd.jupyter.widget-view+json": {
       "model_id": "2557dd0388534f5ba4b648f7cd51c13f",
       "version_major": 2,
       "version_minor": 0
      },
      "text/plain": [
       "training:   0%|          | 0/952 [00:00<?, ?it/s]"
      ]
     },
     "metadata": {},
     "output_type": "display_data"
    },
    {
     "name": "stdout",
     "output_type": "stream",
     "text": [
      "epoch 20, step 19992, loss: 0.46528839363771324\n"
     ]
    },
    {
     "data": {
      "application/vnd.jupyter.widget-view+json": {
       "model_id": "56a4efa018624d86bf2117de9c341705",
       "version_major": 2,
       "version_minor": 0
      },
      "text/plain": [
       "testing:   0%|          | 0/238 [00:00<?, ?it/s]"
      ]
     },
     "metadata": {},
     "output_type": "display_data"
    },
    {
     "name": "stdout",
     "output_type": "stream",
     "text": [
      "epoch 20, step 19992, loss: 0.39829787611961365\n",
      "start of epoch 21 with lr=[0.005470949456575623]\n"
     ]
    },
    {
     "data": {
      "application/vnd.jupyter.widget-view+json": {
       "model_id": "87b1270ef13849b1bccc80287e57631d",
       "version_major": 2,
       "version_minor": 0
      },
      "text/plain": [
       "training:   0%|          | 0/952 [00:00<?, ?it/s]"
      ]
     },
     "metadata": {},
     "output_type": "display_data"
    },
    {
     "name": "stdout",
     "output_type": "stream",
     "text": [
      "epoch 21, step 20944, loss: 0.45185564395760286\n"
     ]
    },
    {
     "data": {
      "application/vnd.jupyter.widget-view+json": {
       "model_id": "f0cd2552585742f0a7b3605285b2a5c9",
       "version_major": 2,
       "version_minor": 0
      },
      "text/plain": [
       "testing:   0%|          | 0/238 [00:00<?, ?it/s]"
      ]
     },
     "metadata": {},
     "output_type": "display_data"
    },
    {
     "name": "stdout",
     "output_type": "stream",
     "text": [
      "epoch 21, step 20944, loss: 0.39986076951026917\n",
      "start of epoch 22 with lr=[0.0049238545109180605]\n"
     ]
    },
    {
     "data": {
      "application/vnd.jupyter.widget-view+json": {
       "model_id": "852d1fbb4d86446f8bab7ea56092ebe8",
       "version_major": 2,
       "version_minor": 0
      },
      "text/plain": [
       "training:   0%|          | 0/952 [00:00<?, ?it/s]"
      ]
     },
     "metadata": {},
     "output_type": "display_data"
    },
    {
     "name": "stdout",
     "output_type": "stream",
     "text": [
      "epoch 22, step 21896, loss: 0.4624898601479891\n"
     ]
    },
    {
     "data": {
      "application/vnd.jupyter.widget-view+json": {
       "model_id": "691e284d3dbd4f37b4f575a80e4cb515",
       "version_major": 2,
       "version_minor": 0
      },
      "text/plain": [
       "testing:   0%|          | 0/238 [00:00<?, ?it/s]"
      ]
     },
     "metadata": {},
     "output_type": "display_data"
    },
    {
     "name": "stdout",
     "output_type": "stream",
     "text": [
      "epoch 22, step 21896, loss: 0.3760313391685486\n",
      "start of epoch 23 with lr=[0.004431469059826255]\n"
     ]
    },
    {
     "data": {
      "application/vnd.jupyter.widget-view+json": {
       "model_id": "ff9f740f970648e496ebe7085ccb72e8",
       "version_major": 2,
       "version_minor": 0
      },
      "text/plain": [
       "training:   0%|          | 0/952 [00:00<?, ?it/s]"
      ]
     },
     "metadata": {},
     "output_type": "display_data"
    },
    {
     "name": "stdout",
     "output_type": "stream",
     "text": [
      "epoch 23, step 22848, loss: 0.47710076300036003\n"
     ]
    },
    {
     "data": {
      "application/vnd.jupyter.widget-view+json": {
       "model_id": "fe853809d2874cf3b2ff7a9922ba5ddb",
       "version_major": 2,
       "version_minor": 0
      },
      "text/plain": [
       "testing:   0%|          | 0/238 [00:00<?, ?it/s]"
      ]
     },
     "metadata": {},
     "output_type": "display_data"
    },
    {
     "name": "stdout",
     "output_type": "stream",
     "text": [
      "epoch 23, step 22848, loss: 0.37766358256340027\n",
      "start of epoch 24 with lr=[0.0039883221538436296]\n"
     ]
    },
    {
     "data": {
      "application/vnd.jupyter.widget-view+json": {
       "model_id": "fc893b18df104cd998c67d8db4c45088",
       "version_major": 2,
       "version_minor": 0
      },
      "text/plain": [
       "training:   0%|          | 0/952 [00:00<?, ?it/s]"
      ]
     },
     "metadata": {},
     "output_type": "display_data"
    },
    {
     "name": "stdout",
     "output_type": "stream",
     "text": [
      "epoch 24, step 23800, loss: 0.475955489803763\n"
     ]
    },
    {
     "data": {
      "application/vnd.jupyter.widget-view+json": {
       "model_id": "9a9b5a01c3144e2882d43a530d6780d7",
       "version_major": 2,
       "version_minor": 0
      },
      "text/plain": [
       "testing:   0%|          | 0/238 [00:00<?, ?it/s]"
      ]
     },
     "metadata": {},
     "output_type": "display_data"
    },
    {
     "name": "stdout",
     "output_type": "stream",
     "text": [
      "epoch 24, step 23800, loss: 0.38311973214149475\n",
      "start of epoch 25 with lr=[0.003589489938459267]\n"
     ]
    },
    {
     "data": {
      "application/vnd.jupyter.widget-view+json": {
       "model_id": "20dfbb30755c43a59e7426014e8337f7",
       "version_major": 2,
       "version_minor": 0
      },
      "text/plain": [
       "training:   0%|          | 0/952 [00:00<?, ?it/s]"
      ]
     },
     "metadata": {},
     "output_type": "display_data"
    },
    {
     "name": "stdout",
     "output_type": "stream",
     "text": [
      "epoch 25, step 24752, loss: 0.4563235640525818\n"
     ]
    },
    {
     "data": {
      "application/vnd.jupyter.widget-view+json": {
       "model_id": "d0d4921bf5b14263b3008b76b229ed0a",
       "version_major": 2,
       "version_minor": 0
      },
      "text/plain": [
       "testing:   0%|          | 0/238 [00:00<?, ?it/s]"
      ]
     },
     "metadata": {},
     "output_type": "display_data"
    },
    {
     "name": "stdout",
     "output_type": "stream",
     "text": [
      "epoch 25, step 24752, loss: 0.38932815194129944\n",
      "start of epoch 26 with lr=[0.0032305409446133403]\n"
     ]
    },
    {
     "data": {
      "application/vnd.jupyter.widget-view+json": {
       "model_id": "0f869f1f28dd4089ac6bc6fcdb4580d2",
       "version_major": 2,
       "version_minor": 0
      },
      "text/plain": [
       "training:   0%|          | 0/952 [00:00<?, ?it/s]"
      ]
     },
     "metadata": {},
     "output_type": "display_data"
    },
    {
     "name": "stdout",
     "output_type": "stream",
     "text": [
      "epoch 26, step 25704, loss: 0.44842053987398867\n"
     ]
    },
    {
     "data": {
      "application/vnd.jupyter.widget-view+json": {
       "model_id": "b81b85e4990c42ccb4efc7bcba03f32d",
       "version_major": 2,
       "version_minor": 0
      },
      "text/plain": [
       "testing:   0%|          | 0/238 [00:00<?, ?it/s]"
      ]
     },
     "metadata": {},
     "output_type": "display_data"
    },
    {
     "name": "stdout",
     "output_type": "stream",
     "text": [
      "epoch 26, step 25704, loss: 0.38198620080947876\n",
      "start of epoch 27 with lr=[0.0029074868501520064]\n"
     ]
    },
    {
     "data": {
      "application/vnd.jupyter.widget-view+json": {
       "model_id": "e3682123da7548d6a3789fdeb1cd55dc",
       "version_major": 2,
       "version_minor": 0
      },
      "text/plain": [
       "training:   0%|          | 0/952 [00:00<?, ?it/s]"
      ]
     },
     "metadata": {},
     "output_type": "display_data"
    },
    {
     "name": "stdout",
     "output_type": "stream",
     "text": [
      "epoch 27, step 26656, loss: 0.4533607659219694\n"
     ]
    },
    {
     "data": {
      "application/vnd.jupyter.widget-view+json": {
       "model_id": "b82ad56985944454b9ec1c8cc5937c2f",
       "version_major": 2,
       "version_minor": 0
      },
      "text/plain": [
       "testing:   0%|          | 0/238 [00:00<?, ?it/s]"
      ]
     },
     "metadata": {},
     "output_type": "display_data"
    },
    {
     "name": "stdout",
     "output_type": "stream",
     "text": [
      "epoch 27, step 26656, loss: 0.37893208861351013\n",
      "start of epoch 28 with lr=[0.0026167381651368057]\n"
     ]
    },
    {
     "data": {
      "application/vnd.jupyter.widget-view+json": {
       "model_id": "60877f019ca449cc92d5454569f6a321",
       "version_major": 2,
       "version_minor": 0
      },
      "text/plain": [
       "training:   0%|          | 0/952 [00:00<?, ?it/s]"
      ]
     },
     "metadata": {},
     "output_type": "display_data"
    },
    {
     "name": "stdout",
     "output_type": "stream",
     "text": [
      "epoch 28, step 27608, loss: 0.449771509951904\n"
     ]
    },
    {
     "data": {
      "application/vnd.jupyter.widget-view+json": {
       "model_id": "31a7a7237cb945dbb686c641e504cd90",
       "version_major": 2,
       "version_minor": 0
      },
      "text/plain": [
       "testing:   0%|          | 0/238 [00:00<?, ?it/s]"
      ]
     },
     "metadata": {},
     "output_type": "display_data"
    },
    {
     "name": "stdout",
     "output_type": "stream",
     "text": [
      "epoch 28, step 27608, loss: 0.38985762000083923\n",
      "start of epoch 29 with lr=[0.002355064348623125]\n"
     ]
    },
    {
     "data": {
      "application/vnd.jupyter.widget-view+json": {
       "model_id": "645e5a1797284a0aa2b8d8d99e305f79",
       "version_major": 2,
       "version_minor": 0
      },
      "text/plain": [
       "training:   0%|          | 0/952 [00:00<?, ?it/s]"
      ]
     },
     "metadata": {},
     "output_type": "display_data"
    },
    {
     "name": "stdout",
     "output_type": "stream",
     "text": [
      "epoch 29, step 28560, loss: 0.4622250029018947\n"
     ]
    },
    {
     "data": {
      "application/vnd.jupyter.widget-view+json": {
       "model_id": "5fb17931d4124c198ff019dba6eaeb8d",
       "version_major": 2,
       "version_minor": 0
      },
      "text/plain": [
       "testing:   0%|          | 0/238 [00:00<?, ?it/s]"
      ]
     },
     "metadata": {},
     "output_type": "display_data"
    },
    {
     "name": "stdout",
     "output_type": "stream",
     "text": [
      "epoch 29, step 28560, loss: 0.3948102295398712\n",
      "start of epoch 30 with lr=[0.002119557913760813]\n"
     ]
    },
    {
     "data": {
      "application/vnd.jupyter.widget-view+json": {
       "model_id": "4e0c4233ab454742b18c136679fd3507",
       "version_major": 2,
       "version_minor": 0
      },
      "text/plain": [
       "training:   0%|          | 0/952 [00:00<?, ?it/s]"
      ]
     },
     "metadata": {},
     "output_type": "display_data"
    },
    {
     "name": "stdout",
     "output_type": "stream",
     "text": [
      "epoch 30, step 29512, loss: 0.475065165708045\n"
     ]
    },
    {
     "data": {
      "application/vnd.jupyter.widget-view+json": {
       "model_id": "c8810d693ec844e0a8e24f17c0ec42e3",
       "version_major": 2,
       "version_minor": 0
      },
      "text/plain": [
       "testing:   0%|          | 0/238 [00:00<?, ?it/s]"
      ]
     },
     "metadata": {},
     "output_type": "display_data"
    },
    {
     "name": "stdout",
     "output_type": "stream",
     "text": [
      "epoch 30, step 29512, loss: 0.38972631096839905\n",
      "start of epoch 31 with lr=[0.0019076021223847317]\n"
     ]
    },
    {
     "data": {
      "application/vnd.jupyter.widget-view+json": {
       "model_id": "334ecf44a98144c5ab85d690281b8fd1",
       "version_major": 2,
       "version_minor": 0
      },
      "text/plain": [
       "training:   0%|          | 0/952 [00:00<?, ?it/s]"
      ]
     },
     "metadata": {},
     "output_type": "display_data"
    },
    {
     "name": "stdout",
     "output_type": "stream",
     "text": [
      "epoch 31, step 30464, loss: 0.44445966697540606\n"
     ]
    },
    {
     "data": {
      "application/vnd.jupyter.widget-view+json": {
       "model_id": "4493045c4cf647309a7b6a29b523f4c1",
       "version_major": 2,
       "version_minor": 0
      },
      "text/plain": [
       "testing:   0%|          | 0/238 [00:00<?, ?it/s]"
      ]
     },
     "metadata": {},
     "output_type": "display_data"
    },
    {
     "name": "stdout",
     "output_type": "stream",
     "text": [
      "epoch 31, step 30464, loss: 0.38788461685180664\n",
      "start of epoch 32 with lr=[0.0017168419101462585]\n"
     ]
    },
    {
     "data": {
      "application/vnd.jupyter.widget-view+json": {
       "model_id": "eb5acb9493ec434097d0f497b58302d0",
       "version_major": 2,
       "version_minor": 0
      },
      "text/plain": [
       "training:   0%|          | 0/952 [00:00<?, ?it/s]"
      ]
     },
     "metadata": {},
     "output_type": "display_data"
    },
    {
     "name": "stdout",
     "output_type": "stream",
     "text": [
      "epoch 32, step 31416, loss: 0.4404194537831956\n"
     ]
    },
    {
     "data": {
      "application/vnd.jupyter.widget-view+json": {
       "model_id": "af0adcccaab04a58bbf73cf89751cea5",
       "version_major": 2,
       "version_minor": 0
      },
      "text/plain": [
       "testing:   0%|          | 0/238 [00:00<?, ?it/s]"
      ]
     },
     "metadata": {},
     "output_type": "display_data"
    },
    {
     "name": "stdout",
     "output_type": "stream",
     "text": [
      "epoch 32, step 31416, loss: 0.3854020833969116\n",
      "start of epoch 33 with lr=[0.0015451577191316326]\n"
     ]
    },
    {
     "data": {
      "application/vnd.jupyter.widget-view+json": {
       "model_id": "5d9bd0e9e87149fba6482cd8cdbb87f2",
       "version_major": 2,
       "version_minor": 0
      },
      "text/plain": [
       "training:   0%|          | 0/952 [00:00<?, ?it/s]"
      ]
     },
     "metadata": {},
     "output_type": "display_data"
    },
    {
     "name": "stdout",
     "output_type": "stream",
     "text": [
      "epoch 33, step 32368, loss: 0.44950441477679404\n"
     ]
    },
    {
     "data": {
      "application/vnd.jupyter.widget-view+json": {
       "model_id": "a2204599d77a4af2acfc300d928dc8cd",
       "version_major": 2,
       "version_minor": 0
      },
      "text/plain": [
       "testing:   0%|          | 0/238 [00:00<?, ?it/s]"
      ]
     },
     "metadata": {},
     "output_type": "display_data"
    },
    {
     "name": "stdout",
     "output_type": "stream",
     "text": [
      "epoch 33, step 32368, loss: 0.3784148097038269\n",
      "start of epoch 34 with lr=[0.0013906419472184694]\n"
     ]
    },
    {
     "data": {
      "application/vnd.jupyter.widget-view+json": {
       "model_id": "64ff1254aaf84d408f9a6b23d8d6e689",
       "version_major": 2,
       "version_minor": 0
      },
      "text/plain": [
       "training:   0%|          | 0/952 [00:00<?, ?it/s]"
      ]
     },
     "metadata": {},
     "output_type": "display_data"
    },
    {
     "name": "stdout",
     "output_type": "stream",
     "text": [
      "epoch 34, step 33320, loss: 0.4410919945280091\n"
     ]
    },
    {
     "data": {
      "application/vnd.jupyter.widget-view+json": {
       "model_id": "639c8bf0f2b74ea183ae89788b81e4e5",
       "version_major": 2,
       "version_minor": 0
      },
      "text/plain": [
       "testing:   0%|          | 0/238 [00:00<?, ?it/s]"
      ]
     },
     "metadata": {},
     "output_type": "display_data"
    },
    {
     "name": "stdout",
     "output_type": "stream",
     "text": [
      "epoch 34, step 33320, loss: 0.3745565414428711\n",
      "start of epoch 35 with lr=[0.0012515777524966226]\n"
     ]
    },
    {
     "data": {
      "application/vnd.jupyter.widget-view+json": {
       "model_id": "dc44ac4725eb4160a0206a29b3ae7138",
       "version_major": 2,
       "version_minor": 0
      },
      "text/plain": [
       "training:   0%|          | 0/952 [00:00<?, ?it/s]"
      ]
     },
     "metadata": {},
     "output_type": "display_data"
    },
    {
     "name": "stdout",
     "output_type": "stream",
     "text": [
      "epoch 35, step 34272, loss: 0.4550817704000393\n"
     ]
    },
    {
     "data": {
      "application/vnd.jupyter.widget-view+json": {
       "model_id": "5e7fc32f0c8d497cbdb968137f4606ea",
       "version_major": 2,
       "version_minor": 0
      },
      "text/plain": [
       "testing:   0%|          | 0/238 [00:00<?, ?it/s]"
      ]
     },
     "metadata": {},
     "output_type": "display_data"
    },
    {
     "name": "stdout",
     "output_type": "stream",
     "text": [
      "epoch 35, step 34272, loss: 0.3741723895072937\n",
      "start of epoch 36 with lr=[0.0011264199772469603]\n"
     ]
    },
    {
     "data": {
      "application/vnd.jupyter.widget-view+json": {
       "model_id": "b3957d2a54034248bc0cf50b2444ca0b",
       "version_major": 2,
       "version_minor": 0
      },
      "text/plain": [
       "training:   0%|          | 0/952 [00:00<?, ?it/s]"
      ]
     },
     "metadata": {},
     "output_type": "display_data"
    },
    {
     "name": "stdout",
     "output_type": "stream",
     "text": [
      "epoch 36, step 35224, loss: 0.44981224772309053\n"
     ]
    },
    {
     "data": {
      "application/vnd.jupyter.widget-view+json": {
       "model_id": "b4eb2009ef33482191c2932a1d946ae3",
       "version_major": 2,
       "version_minor": 0
      },
      "text/plain": [
       "testing:   0%|          | 0/238 [00:00<?, ?it/s]"
      ]
     },
     "metadata": {},
     "output_type": "display_data"
    },
    {
     "name": "stdout",
     "output_type": "stream",
     "text": [
      "epoch 36, step 35224, loss: 0.37540459632873535\n",
      "start of epoch 37 with lr=[0.0010137779795222643]\n"
     ]
    },
    {
     "data": {
      "application/vnd.jupyter.widget-view+json": {
       "model_id": "33125bb268974438a6c58cf980b6a760",
       "version_major": 2,
       "version_minor": 0
      },
      "text/plain": [
       "training:   0%|          | 0/952 [00:00<?, ?it/s]"
      ]
     },
     "metadata": {},
     "output_type": "display_data"
    },
    {
     "name": "stdout",
     "output_type": "stream",
     "text": [
      "epoch 37, step 36176, loss: 0.4363525860449847\n"
     ]
    },
    {
     "data": {
      "application/vnd.jupyter.widget-view+json": {
       "model_id": "99c8f49e630e4e2098e244bf6a650773",
       "version_major": 2,
       "version_minor": 0
      },
      "text/plain": [
       "testing:   0%|          | 0/238 [00:00<?, ?it/s]"
      ]
     },
     "metadata": {},
     "output_type": "display_data"
    },
    {
     "name": "stdout",
     "output_type": "stream",
     "text": [
      "epoch 37, step 36176, loss: 0.3717918395996094\n",
      "start of epoch 38 with lr=[0.0009124001815700379]\n"
     ]
    },
    {
     "data": {
      "application/vnd.jupyter.widget-view+json": {
       "model_id": "5ec50d3ce7384a608ff4975b3acbdbb0",
       "version_major": 2,
       "version_minor": 0
      },
      "text/plain": [
       "training:   0%|          | 0/952 [00:00<?, ?it/s]"
      ]
     },
     "metadata": {},
     "output_type": "display_data"
    },
    {
     "name": "stdout",
     "output_type": "stream",
     "text": [
      "epoch 38, step 37128, loss: 0.46082722489573374\n"
     ]
    },
    {
     "data": {
      "application/vnd.jupyter.widget-view+json": {
       "model_id": "343b70495de246068bb5bef5c6fb3fe9",
       "version_major": 2,
       "version_minor": 0
      },
      "text/plain": [
       "testing:   0%|          | 0/238 [00:00<?, ?it/s]"
      ]
     },
     "metadata": {},
     "output_type": "display_data"
    },
    {
     "name": "stdout",
     "output_type": "stream",
     "text": [
      "epoch 38, step 37128, loss: 0.37069863080978394\n",
      "start of epoch 39 with lr=[0.0008211601634130341]\n"
     ]
    },
    {
     "data": {
      "application/vnd.jupyter.widget-view+json": {
       "model_id": "f6a4bb639cc2459982f8d113761173d4",
       "version_major": 2,
       "version_minor": 0
      },
      "text/plain": [
       "training:   0%|          | 0/952 [00:00<?, ?it/s]"
      ]
     },
     "metadata": {},
     "output_type": "display_data"
    },
    {
     "name": "stdout",
     "output_type": "stream",
     "text": [
      "epoch 39, step 38080, loss: 0.42583020945557026\n"
     ]
    },
    {
     "data": {
      "application/vnd.jupyter.widget-view+json": {
       "model_id": "f50da8fea8fe4a0b882d65aa435a782a",
       "version_major": 2,
       "version_minor": 0
      },
      "text/plain": [
       "testing:   0%|          | 0/238 [00:00<?, ?it/s]"
      ]
     },
     "metadata": {},
     "output_type": "display_data"
    },
    {
     "name": "stdout",
     "output_type": "stream",
     "text": [
      "epoch 39, step 38080, loss: 0.3704501688480377\n",
      "start of epoch 40 with lr=[0.0007390441470717307]\n"
     ]
    },
    {
     "data": {
      "application/vnd.jupyter.widget-view+json": {
       "model_id": "f65cb2e9a94b483b8311d399563dfe63",
       "version_major": 2,
       "version_minor": 0
      },
      "text/plain": [
       "training:   0%|          | 0/952 [00:00<?, ?it/s]"
      ]
     },
     "metadata": {},
     "output_type": "display_data"
    },
    {
     "name": "stdout",
     "output_type": "stream",
     "text": [
      "epoch 40, step 39032, loss: 0.4435733186096704\n"
     ]
    },
    {
     "data": {
      "application/vnd.jupyter.widget-view+json": {
       "model_id": "ddeefa884c4f4abfa4bb008013098906",
       "version_major": 2,
       "version_minor": 0
      },
      "text/plain": [
       "testing:   0%|          | 0/238 [00:00<?, ?it/s]"
      ]
     },
     "metadata": {},
     "output_type": "display_data"
    },
    {
     "name": "stdout",
     "output_type": "stream",
     "text": [
      "epoch 40, step 39032, loss: 0.3711872696876526\n",
      "start of epoch 41 with lr=[0.0006651397323645576]\n"
     ]
    },
    {
     "data": {
      "application/vnd.jupyter.widget-view+json": {
       "model_id": "3b05e003cb924dd4be34b05cd20b2767",
       "version_major": 2,
       "version_minor": 0
      },
      "text/plain": [
       "training:   0%|          | 0/952 [00:00<?, ?it/s]"
      ]
     },
     "metadata": {},
     "output_type": "display_data"
    },
    {
     "name": "stdout",
     "output_type": "stream",
     "text": [
      "epoch 41, step 39984, loss: 0.4345057120844096\n"
     ]
    },
    {
     "data": {
      "application/vnd.jupyter.widget-view+json": {
       "model_id": "d84b4c2d72cc44a5987d7f06aeda5638",
       "version_major": 2,
       "version_minor": 0
      },
      "text/plain": [
       "testing:   0%|          | 0/238 [00:00<?, ?it/s]"
      ]
     },
     "metadata": {},
     "output_type": "display_data"
    },
    {
     "name": "stdout",
     "output_type": "stream",
     "text": [
      "epoch 41, step 39984, loss: 0.3732183575630188\n",
      "start of epoch 42 with lr=[0.0005986257591281018]\n"
     ]
    },
    {
     "data": {
      "application/vnd.jupyter.widget-view+json": {
       "model_id": "13330255de4449089d1ecee67f4375f0",
       "version_major": 2,
       "version_minor": 0
      },
      "text/plain": [
       "training:   0%|          | 0/952 [00:00<?, ?it/s]"
      ]
     },
     "metadata": {},
     "output_type": "display_data"
    },
    {
     "name": "stdout",
     "output_type": "stream",
     "text": [
      "epoch 42, step 40936, loss: 0.4539611815404491\n"
     ]
    },
    {
     "data": {
      "application/vnd.jupyter.widget-view+json": {
       "model_id": "27481f37a01c4126930f6d2d4942d833",
       "version_major": 2,
       "version_minor": 0
      },
      "text/plain": [
       "testing:   0%|          | 0/238 [00:00<?, ?it/s]"
      ]
     },
     "metadata": {},
     "output_type": "display_data"
    },
    {
     "name": "stdout",
     "output_type": "stream",
     "text": [
      "epoch 42, step 40936, loss: 0.37431517243385315\n",
      "start of epoch 43 with lr=[0.0005387631832152916]\n"
     ]
    },
    {
     "data": {
      "application/vnd.jupyter.widget-view+json": {
       "model_id": "cda68dcfd7ca46f788d79092bb360e30",
       "version_major": 2,
       "version_minor": 0
      },
      "text/plain": [
       "training:   0%|          | 0/952 [00:00<?, ?it/s]"
      ]
     },
     "metadata": {},
     "output_type": "display_data"
    },
    {
     "name": "stdout",
     "output_type": "stream",
     "text": [
      "epoch 43, step 41888, loss: 0.44719398722929116\n"
     ]
    },
    {
     "data": {
      "application/vnd.jupyter.widget-view+json": {
       "model_id": "919de5f6cca64b979ed75e74a129f93b",
       "version_major": 2,
       "version_minor": 0
      },
      "text/plain": [
       "testing:   0%|          | 0/238 [00:00<?, ?it/s]"
      ]
     },
     "metadata": {},
     "output_type": "display_data"
    },
    {
     "name": "stdout",
     "output_type": "stream",
     "text": [
      "epoch 43, step 41888, loss: 0.3753204941749573\n",
      "start of epoch 44 with lr=[0.0004848868648937625]\n"
     ]
    },
    {
     "data": {
      "application/vnd.jupyter.widget-view+json": {
       "model_id": "c4c730567a7845409e3fbfe1f2bb3f4c",
       "version_major": 2,
       "version_minor": 0
      },
      "text/plain": [
       "training:   0%|          | 0/952 [00:00<?, ?it/s]"
      ]
     },
     "metadata": {},
     "output_type": "display_data"
    },
    {
     "name": "stdout",
     "output_type": "stream",
     "text": [
      "epoch 44, step 42840, loss: 0.45396704934224363\n"
     ]
    },
    {
     "data": {
      "application/vnd.jupyter.widget-view+json": {
       "model_id": "3dc728be462749f8959113d7cb520415",
       "version_major": 2,
       "version_minor": 0
      },
      "text/plain": [
       "testing:   0%|          | 0/238 [00:00<?, ?it/s]"
      ]
     },
     "metadata": {},
     "output_type": "display_data"
    },
    {
     "name": "stdout",
     "output_type": "stream",
     "text": [
      "epoch 44, step 42840, loss: 0.3743535578250885\n",
      "start of epoch 45 with lr=[0.0004363981784043862]\n"
     ]
    },
    {
     "data": {
      "application/vnd.jupyter.widget-view+json": {
       "model_id": "c15ba7e8ef714ccc8f49faf1337ef8df",
       "version_major": 2,
       "version_minor": 0
      },
      "text/plain": [
       "training:   0%|          | 0/952 [00:00<?, ?it/s]"
      ]
     },
     "metadata": {},
     "output_type": "display_data"
    },
    {
     "name": "stdout",
     "output_type": "stream",
     "text": [
      "epoch 45, step 43792, loss: 0.42890295812061857\n"
     ]
    },
    {
     "data": {
      "application/vnd.jupyter.widget-view+json": {
       "model_id": "eae340034f19485eb44267fbcaf16375",
       "version_major": 2,
       "version_minor": 0
      },
      "text/plain": [
       "testing:   0%|          | 0/238 [00:00<?, ?it/s]"
      ]
     },
     "metadata": {},
     "output_type": "display_data"
    },
    {
     "name": "stdout",
     "output_type": "stream",
     "text": [
      "epoch 45, step 43792, loss: 0.374823659658432\n",
      "start of epoch 46 with lr=[0.0003927583605639476]\n"
     ]
    },
    {
     "data": {
      "application/vnd.jupyter.widget-view+json": {
       "model_id": "c001a1a2e1dc46d7aeed5564424eddc7",
       "version_major": 2,
       "version_minor": 0
      },
      "text/plain": [
       "training:   0%|          | 0/952 [00:00<?, ?it/s]"
      ]
     },
     "metadata": {},
     "output_type": "display_data"
    },
    {
     "name": "stdout",
     "output_type": "stream",
     "text": [
      "epoch 46, step 44744, loss: 0.438993586462085\n"
     ]
    },
    {
     "data": {
      "application/vnd.jupyter.widget-view+json": {
       "model_id": "a14ccde92f844a9c9d873150a6bd093c",
       "version_major": 2,
       "version_minor": 0
      },
      "text/plain": [
       "testing:   0%|          | 0/238 [00:00<?, ?it/s]"
      ]
     },
     "metadata": {},
     "output_type": "display_data"
    },
    {
     "name": "stdout",
     "output_type": "stream",
     "text": [
      "epoch 46, step 44744, loss: 0.3750154674053192\n",
      "start of epoch 47 with lr=[0.00035348252450755286]\n"
     ]
    },
    {
     "data": {
      "application/vnd.jupyter.widget-view+json": {
       "model_id": "af5b3102ee624a01b232c7a186f6698b",
       "version_major": 2,
       "version_minor": 0
      },
      "text/plain": [
       "training:   0%|          | 0/952 [00:00<?, ?it/s]"
      ]
     },
     "metadata": {},
     "output_type": "display_data"
    },
    {
     "name": "stdout",
     "output_type": "stream",
     "text": [
      "epoch 47, step 45696, loss: 0.4501321859219495\n"
     ]
    },
    {
     "data": {
      "application/vnd.jupyter.widget-view+json": {
       "model_id": "152d31c9e390490cb1adbac207b3c395",
       "version_major": 2,
       "version_minor": 0
      },
      "text/plain": [
       "testing:   0%|          | 0/238 [00:00<?, ?it/s]"
      ]
     },
     "metadata": {},
     "output_type": "display_data"
    },
    {
     "name": "stdout",
     "output_type": "stream",
     "text": [
      "epoch 47, step 45696, loss: 0.3757668137550354\n",
      "start of epoch 48 with lr=[0.0003181342720567976]\n"
     ]
    },
    {
     "data": {
      "application/vnd.jupyter.widget-view+json": {
       "model_id": "2bfc208eb485404387eef92c8b83d394",
       "version_major": 2,
       "version_minor": 0
      },
      "text/plain": [
       "training:   0%|          | 0/952 [00:00<?, ?it/s]"
      ]
     },
     "metadata": {},
     "output_type": "display_data"
    },
    {
     "name": "stdout",
     "output_type": "stream",
     "text": [
      "epoch 48, step 46648, loss: 0.460707620161922\n"
     ]
    },
    {
     "data": {
      "application/vnd.jupyter.widget-view+json": {
       "model_id": "0840ec0c16c9444790a4ed7cae698e0f",
       "version_major": 2,
       "version_minor": 0
      },
      "text/plain": [
       "testing:   0%|          | 0/238 [00:00<?, ?it/s]"
      ]
     },
     "metadata": {},
     "output_type": "display_data"
    },
    {
     "name": "stdout",
     "output_type": "stream",
     "text": [
      "epoch 48, step 46648, loss: 0.37656912207603455\n",
      "start of epoch 49 with lr=[0.00028632084485111784]\n"
     ]
    },
    {
     "data": {
      "application/vnd.jupyter.widget-view+json": {
       "model_id": "590f54dc34da4d30964552bd66f365d4",
       "version_major": 2,
       "version_minor": 0
      },
      "text/plain": [
       "training:   0%|          | 0/952 [00:00<?, ?it/s]"
      ]
     },
     "metadata": {},
     "output_type": "display_data"
    },
    {
     "name": "stdout",
     "output_type": "stream",
     "text": [
      "epoch 49, step 47600, loss: 0.4535960289610534\n"
     ]
    },
    {
     "data": {
      "application/vnd.jupyter.widget-view+json": {
       "model_id": "64e1c891dfa941ff895e993ed1fe6561",
       "version_major": 2,
       "version_minor": 0
      },
      "text/plain": [
       "testing:   0%|          | 0/238 [00:00<?, ?it/s]"
      ]
     },
     "metadata": {},
     "output_type": "display_data"
    },
    {
     "name": "stdout",
     "output_type": "stream",
     "text": [
      "epoch 49, step 47600, loss: 0.3766978979110718\n",
      "start of epoch 50 with lr=[0.00025768876036600606]\n"
     ]
    },
    {
     "data": {
      "application/vnd.jupyter.widget-view+json": {
       "model_id": "b5064cd680aa457eb95f137a1baeba6b",
       "version_major": 2,
       "version_minor": 0
      },
      "text/plain": [
       "training:   0%|          | 0/952 [00:00<?, ?it/s]"
      ]
     },
     "metadata": {},
     "output_type": "display_data"
    },
    {
     "name": "stdout",
     "output_type": "stream",
     "text": [
      "epoch 50, step 48552, loss: 0.447632096645211\n"
     ]
    },
    {
     "data": {
      "application/vnd.jupyter.widget-view+json": {
       "model_id": "010c8a4b90ef4aa69f463e03a5341207",
       "version_major": 2,
       "version_minor": 0
      },
      "text/plain": [
       "testing:   0%|          | 0/238 [00:00<?, ?it/s]"
      ]
     },
     "metadata": {},
     "output_type": "display_data"
    },
    {
     "name": "stdout",
     "output_type": "stream",
     "text": [
      "epoch 50, step 48552, loss: 0.3765569031238556\n",
      "start of epoch 51 with lr=[0.00023191988432940547]\n"
     ]
    },
    {
     "data": {
      "application/vnd.jupyter.widget-view+json": {
       "model_id": "56d7c866ef914091b08a4c807c6cdf8c",
       "version_major": 2,
       "version_minor": 0
      },
      "text/plain": [
       "training:   0%|          | 0/952 [00:00<?, ?it/s]"
      ]
     },
     "metadata": {},
     "output_type": "display_data"
    },
    {
     "name": "stdout",
     "output_type": "stream",
     "text": [
      "epoch 51, step 49504, loss: 0.43443103497769653\n"
     ]
    },
    {
     "data": {
      "application/vnd.jupyter.widget-view+json": {
       "model_id": "49801fe248e249208e5fd9af59c9582b",
       "version_major": 2,
       "version_minor": 0
      },
      "text/plain": [
       "testing:   0%|          | 0/238 [00:00<?, ?it/s]"
      ]
     },
     "metadata": {},
     "output_type": "display_data"
    },
    {
     "name": "stdout",
     "output_type": "stream",
     "text": [
      "epoch 51, step 49504, loss: 0.3768986463546753\n",
      "start of epoch 52 with lr=[0.00020872789589646492]\n"
     ]
    },
    {
     "data": {
      "application/vnd.jupyter.widget-view+json": {
       "model_id": "e4618ea5dfcf406c86e1c52734e4cfe0",
       "version_major": 2,
       "version_minor": 0
      },
      "text/plain": [
       "training:   0%|          | 0/952 [00:00<?, ?it/s]"
      ]
     },
     "metadata": {},
     "output_type": "display_data"
    },
    {
     "name": "stdout",
     "output_type": "stream",
     "text": [
      "epoch 52, step 50456, loss: 0.4466426199724694\n"
     ]
    },
    {
     "data": {
      "application/vnd.jupyter.widget-view+json": {
       "model_id": "5b2fd7d0254543188d52d39bd8e34a98",
       "version_major": 2,
       "version_minor": 0
      },
      "text/plain": [
       "testing:   0%|          | 0/238 [00:00<?, ?it/s]"
      ]
     },
     "metadata": {},
     "output_type": "display_data"
    },
    {
     "name": "stdout",
     "output_type": "stream",
     "text": [
      "epoch 52, step 50456, loss: 0.37709853053092957\n",
      "start of epoch 53 with lr=[0.00018785510630681842]\n"
     ]
    },
    {
     "data": {
      "application/vnd.jupyter.widget-view+json": {
       "model_id": "c8091b4590f74f8b8a9d6d5a6d75b485",
       "version_major": 2,
       "version_minor": 0
      },
      "text/plain": [
       "training:   0%|          | 0/952 [00:00<?, ?it/s]"
      ]
     },
     "metadata": {},
     "output_type": "display_data"
    },
    {
     "name": "stdout",
     "output_type": "stream",
     "text": [
      "epoch 53, step 51408, loss: 0.4270082526848096\n"
     ]
    },
    {
     "data": {
      "application/vnd.jupyter.widget-view+json": {
       "model_id": "fb0db20ed7d94e7cb8118bd5f4509e2d",
       "version_major": 2,
       "version_minor": 0
      },
      "text/plain": [
       "testing:   0%|          | 0/238 [00:00<?, ?it/s]"
      ]
     },
     "metadata": {},
     "output_type": "display_data"
    },
    {
     "name": "stdout",
     "output_type": "stream",
     "text": [
      "epoch 53, step 51408, loss: 0.3772277235984802\n",
      "start of epoch 54 with lr=[0.00016906959567613658]\n"
     ]
    },
    {
     "data": {
      "application/vnd.jupyter.widget-view+json": {
       "model_id": "326abe4ba6c04870a22a6955faa3b6aa",
       "version_major": 2,
       "version_minor": 0
      },
      "text/plain": [
       "training:   0%|          | 0/952 [00:00<?, ?it/s]"
      ]
     },
     "metadata": {},
     "output_type": "display_data"
    },
    {
     "name": "stdout",
     "output_type": "stream",
     "text": [
      "epoch 54, step 52360, loss: 0.4421479724535421\n"
     ]
    },
    {
     "data": {
      "application/vnd.jupyter.widget-view+json": {
       "model_id": "35c1d83a64e842fa8f5863219bc942aa",
       "version_major": 2,
       "version_minor": 0
      },
      "text/plain": [
       "testing:   0%|          | 0/238 [00:00<?, ?it/s]"
      ]
     },
     "metadata": {},
     "output_type": "display_data"
    },
    {
     "name": "stdout",
     "output_type": "stream",
     "text": [
      "epoch 54, step 52360, loss: 0.37717100977897644\n",
      "start of epoch 55 with lr=[0.00015216263610852294]\n"
     ]
    },
    {
     "data": {
      "application/vnd.jupyter.widget-view+json": {
       "model_id": "374e2e19a9f74ab886925d5dc793bd30",
       "version_major": 2,
       "version_minor": 0
      },
      "text/plain": [
       "training:   0%|          | 0/952 [00:00<?, ?it/s]"
      ]
     },
     "metadata": {},
     "output_type": "display_data"
    },
    {
     "name": "stdout",
     "output_type": "stream",
     "text": [
      "epoch 55, step 53312, loss: 0.43234344315128165\n"
     ]
    },
    {
     "data": {
      "application/vnd.jupyter.widget-view+json": {
       "model_id": "644a491e996145fba8252f40f75ab7b4",
       "version_major": 2,
       "version_minor": 0
      },
      "text/plain": [
       "testing:   0%|          | 0/238 [00:00<?, ?it/s]"
      ]
     },
     "metadata": {},
     "output_type": "display_data"
    },
    {
     "name": "stdout",
     "output_type": "stream",
     "text": [
      "epoch 55, step 53312, loss: 0.37616559863090515\n",
      "start of epoch 56 with lr=[0.00013694637249767063]\n"
     ]
    },
    {
     "data": {
      "application/vnd.jupyter.widget-view+json": {
       "model_id": "19106cf4d2c449cca5c76c0f2e50183e",
       "version_major": 2,
       "version_minor": 0
      },
      "text/plain": [
       "training:   0%|          | 0/952 [00:00<?, ?it/s]"
      ]
     },
     "metadata": {},
     "output_type": "display_data"
    },
    {
     "name": "stdout",
     "output_type": "stream",
     "text": [
      "epoch 56, step 54264, loss: 0.4439856615387091\n"
     ]
    },
    {
     "data": {
      "application/vnd.jupyter.widget-view+json": {
       "model_id": "dc6954520792413aaa6bed39966f7de0",
       "version_major": 2,
       "version_minor": 0
      },
      "text/plain": [
       "testing:   0%|          | 0/238 [00:00<?, ?it/s]"
      ]
     },
     "metadata": {},
     "output_type": "display_data"
    },
    {
     "name": "stdout",
     "output_type": "stream",
     "text": [
      "epoch 56, step 54264, loss: 0.3754260838031769\n",
      "start of epoch 57 with lr=[0.00012325173524790358]\n"
     ]
    },
    {
     "data": {
      "application/vnd.jupyter.widget-view+json": {
       "model_id": "fcd2c1ff0bb243c5a8fd539a3170b7f3",
       "version_major": 2,
       "version_minor": 0
      },
      "text/plain": [
       "training:   0%|          | 0/952 [00:00<?, ?it/s]"
      ]
     },
     "metadata": {},
     "output_type": "display_data"
    },
    {
     "name": "stdout",
     "output_type": "stream",
     "text": [
      "epoch 57, step 55216, loss: 0.4444753903300822\n"
     ]
    },
    {
     "data": {
      "application/vnd.jupyter.widget-view+json": {
       "model_id": "fa2845de986f4001956df2445a62a7b2",
       "version_major": 2,
       "version_minor": 0
      },
      "text/plain": [
       "testing:   0%|          | 0/238 [00:00<?, ?it/s]"
      ]
     },
     "metadata": {},
     "output_type": "display_data"
    },
    {
     "name": "stdout",
     "output_type": "stream",
     "text": [
      "epoch 57, step 55216, loss: 0.3749924302101135\n",
      "start of epoch 58 with lr=[0.00011092656172311323]\n"
     ]
    },
    {
     "data": {
      "application/vnd.jupyter.widget-view+json": {
       "model_id": "46893102d7104d50a8410813c81ce79a",
       "version_major": 2,
       "version_minor": 0
      },
      "text/plain": [
       "training:   0%|          | 0/952 [00:00<?, ?it/s]"
      ]
     },
     "metadata": {},
     "output_type": "display_data"
    },
    {
     "name": "stdout",
     "output_type": "stream",
     "text": [
      "epoch 58, step 56168, loss: 0.4392565924580358\n"
     ]
    },
    {
     "data": {
      "application/vnd.jupyter.widget-view+json": {
       "model_id": "18e2e42adf5846dda05037e392ae18d6",
       "version_major": 2,
       "version_minor": 0
      },
      "text/plain": [
       "testing:   0%|          | 0/238 [00:00<?, ?it/s]"
      ]
     },
     "metadata": {},
     "output_type": "display_data"
    },
    {
     "name": "stdout",
     "output_type": "stream",
     "text": [
      "epoch 58, step 56168, loss: 0.37510278820991516\n",
      "start of epoch 59 with lr=[9.983390555080191e-05]\n"
     ]
    },
    {
     "data": {
      "application/vnd.jupyter.widget-view+json": {
       "model_id": "1ed56fb2f64a4bf7a0a661c292cc960d",
       "version_major": 2,
       "version_minor": 0
      },
      "text/plain": [
       "training:   0%|          | 0/952 [00:00<?, ?it/s]"
      ]
     },
     "metadata": {},
     "output_type": "display_data"
    },
    {
     "name": "stdout",
     "output_type": "stream",
     "text": [
      "epoch 59, step 57120, loss: 0.44760881802615\n"
     ]
    },
    {
     "data": {
      "application/vnd.jupyter.widget-view+json": {
       "model_id": "634c86223c7b4744ae6433932af91e53",
       "version_major": 2,
       "version_minor": 0
      },
      "text/plain": [
       "testing:   0%|          | 0/238 [00:00<?, ?it/s]"
      ]
     },
     "metadata": {},
     "output_type": "display_data"
    },
    {
     "name": "stdout",
     "output_type": "stream",
     "text": [
      "epoch 59, step 57120, loss: 0.37512633204460144\n",
      "start of epoch 60 with lr=[8.985051499572172e-05]\n"
     ]
    },
    {
     "data": {
      "application/vnd.jupyter.widget-view+json": {
       "model_id": "897cafb2d6124502a699519173801fb2",
       "version_major": 2,
       "version_minor": 0
      },
      "text/plain": [
       "training:   0%|          | 0/952 [00:00<?, ?it/s]"
      ]
     },
     "metadata": {},
     "output_type": "display_data"
    },
    {
     "name": "stdout",
     "output_type": "stream",
     "text": [
      "epoch 60, step 58072, loss: 0.42194044439732525\n"
     ]
    },
    {
     "data": {
      "application/vnd.jupyter.widget-view+json": {
       "model_id": "2001e82e41304f9fb66ac1ce95bd1372",
       "version_major": 2,
       "version_minor": 0
      },
      "text/plain": [
       "testing:   0%|          | 0/238 [00:00<?, ?it/s]"
      ]
     },
     "metadata": {},
     "output_type": "display_data"
    },
    {
     "name": "stdout",
     "output_type": "stream",
     "text": [
      "epoch 60, step 58072, loss: 0.37516579031944275\n",
      "start of epoch 61 with lr=[8.086546349614955e-05]\n"
     ]
    },
    {
     "data": {
      "application/vnd.jupyter.widget-view+json": {
       "model_id": "08971cef0de247d88b071ebb56b4e614",
       "version_major": 2,
       "version_minor": 0
      },
      "text/plain": [
       "training:   0%|          | 0/952 [00:00<?, ?it/s]"
      ]
     },
     "metadata": {},
     "output_type": "display_data"
    },
    {
     "name": "stdout",
     "output_type": "stream",
     "text": [
      "epoch 61, step 59024, loss: 0.4576652227830486\n"
     ]
    },
    {
     "data": {
      "application/vnd.jupyter.widget-view+json": {
       "model_id": "bce190175f0a4e8d9ccb3217836fff6f",
       "version_major": 2,
       "version_minor": 0
      },
      "text/plain": [
       "testing:   0%|          | 0/238 [00:00<?, ?it/s]"
      ]
     },
     "metadata": {},
     "output_type": "display_data"
    },
    {
     "name": "stdout",
     "output_type": "stream",
     "text": [
      "epoch 61, step 59024, loss: 0.3759452998638153\n",
      "start of epoch 62 with lr=[7.27789171465346e-05]\n"
     ]
    },
    {
     "data": {
      "application/vnd.jupyter.widget-view+json": {
       "model_id": "e2bc5966d49744808d2960751adcfc8f",
       "version_major": 2,
       "version_minor": 0
      },
      "text/plain": [
       "training:   0%|          | 0/952 [00:00<?, ?it/s]"
      ]
     },
     "metadata": {},
     "output_type": "display_data"
    },
    {
     "name": "stdout",
     "output_type": "stream",
     "text": [
      "epoch 62, step 59976, loss: 0.4183615684008398\n"
     ]
    },
    {
     "data": {
      "application/vnd.jupyter.widget-view+json": {
       "model_id": "2a7f99c9f6724686b98f508f0dcd425d",
       "version_major": 2,
       "version_minor": 0
      },
      "text/plain": [
       "testing:   0%|          | 0/238 [00:00<?, ?it/s]"
      ]
     },
     "metadata": {},
     "output_type": "display_data"
    },
    {
     "name": "stdout",
     "output_type": "stream",
     "text": [
      "epoch 62, step 59976, loss: 0.37608802318573\n",
      "start of epoch 63 with lr=[6.550102543188114e-05]\n"
     ]
    },
    {
     "data": {
      "application/vnd.jupyter.widget-view+json": {
       "model_id": "36261022786945b7ac3a191d47050a58",
       "version_major": 2,
       "version_minor": 0
      },
      "text/plain": [
       "training:   0%|          | 0/952 [00:00<?, ?it/s]"
      ]
     },
     "metadata": {},
     "output_type": "display_data"
    },
    {
     "name": "stdout",
     "output_type": "stream",
     "text": [
      "epoch 63, step 60928, loss: 0.44440802731433837\n"
     ]
    },
    {
     "data": {
      "application/vnd.jupyter.widget-view+json": {
       "model_id": "99b849ccaae3418098163f784eeb0dfe",
       "version_major": 2,
       "version_minor": 0
      },
      "text/plain": [
       "testing:   0%|          | 0/238 [00:00<?, ?it/s]"
      ]
     },
     "metadata": {},
     "output_type": "display_data"
    },
    {
     "name": "stdout",
     "output_type": "stream",
     "text": [
      "epoch 63, step 60928, loss: 0.3756846487522125\n",
      "start of epoch 64 with lr=[5.895092288869303e-05]\n"
     ]
    },
    {
     "data": {
      "application/vnd.jupyter.widget-view+json": {
       "model_id": "647a103707a646ebbbf0dd8f519877bf",
       "version_major": 2,
       "version_minor": 0
      },
      "text/plain": [
       "training:   0%|          | 0/952 [00:00<?, ?it/s]"
      ]
     },
     "metadata": {},
     "output_type": "display_data"
    },
    {
     "name": "stdout",
     "output_type": "stream",
     "text": [
      "epoch 64, step 61880, loss: 0.44663958589569863\n"
     ]
    },
    {
     "data": {
      "application/vnd.jupyter.widget-view+json": {
       "model_id": "2e6628ad5ba94e9590f2f69a9245aaa9",
       "version_major": 2,
       "version_minor": 0
      },
      "text/plain": [
       "testing:   0%|          | 0/238 [00:00<?, ?it/s]"
      ]
     },
     "metadata": {},
     "output_type": "display_data"
    },
    {
     "name": "stdout",
     "output_type": "stream",
     "text": [
      "epoch 64, step 61880, loss: 0.37582969665527344\n",
      "start of epoch 65 with lr=[5.305583059982373e-05]\n"
     ]
    },
    {
     "data": {
      "application/vnd.jupyter.widget-view+json": {
       "model_id": "23776587aa724c7b85520009b827bb00",
       "version_major": 2,
       "version_minor": 0
      },
      "text/plain": [
       "training:   0%|          | 0/952 [00:00<?, ?it/s]"
      ]
     },
     "metadata": {},
     "output_type": "display_data"
    },
    {
     "name": "stdout",
     "output_type": "stream",
     "text": [
      "epoch 65, step 62832, loss: 0.45419046182592376\n"
     ]
    },
    {
     "data": {
      "application/vnd.jupyter.widget-view+json": {
       "model_id": "d1f6dd82e4a44a6582321aa4f93c8050",
       "version_major": 2,
       "version_minor": 0
      },
      "text/plain": [
       "testing:   0%|          | 0/238 [00:00<?, ?it/s]"
      ]
     },
     "metadata": {},
     "output_type": "display_data"
    },
    {
     "name": "stdout",
     "output_type": "stream",
     "text": [
      "epoch 65, step 62832, loss: 0.3753261864185333\n",
      "start of epoch 66 with lr=[4.7750247539841356e-05]\n"
     ]
    },
    {
     "data": {
      "application/vnd.jupyter.widget-view+json": {
       "model_id": "af4c6979700047d48fe2f7d485202ae2",
       "version_major": 2,
       "version_minor": 0
      },
      "text/plain": [
       "training:   0%|          | 0/952 [00:00<?, ?it/s]"
      ]
     },
     "metadata": {},
     "output_type": "display_data"
    },
    {
     "name": "stdout",
     "output_type": "stream",
     "text": [
      "epoch 66, step 63784, loss: 0.4431389833197874\n"
     ]
    },
    {
     "data": {
      "application/vnd.jupyter.widget-view+json": {
       "model_id": "ab339ef81daa456db651938b460e4d98",
       "version_major": 2,
       "version_minor": 0
      },
      "text/plain": [
       "testing:   0%|          | 0/238 [00:00<?, ?it/s]"
      ]
     },
     "metadata": {},
     "output_type": "display_data"
    },
    {
     "name": "stdout",
     "output_type": "stream",
     "text": [
      "epoch 66, step 63784, loss: 0.3751108944416046\n",
      "start of epoch 67 with lr=[4.297522278585722e-05]\n"
     ]
    },
    {
     "data": {
      "application/vnd.jupyter.widget-view+json": {
       "model_id": "f370a159bf77479d873df7d6f04ee316",
       "version_major": 2,
       "version_minor": 0
      },
      "text/plain": [
       "training:   0%|          | 0/952 [00:00<?, ?it/s]"
      ]
     },
     "metadata": {},
     "output_type": "display_data"
    },
    {
     "name": "stdout",
     "output_type": "stream",
     "text": [
      "epoch 67, step 64736, loss: 0.44109662666040306\n"
     ]
    },
    {
     "data": {
      "application/vnd.jupyter.widget-view+json": {
       "model_id": "05cb87ed92b74daf93f991f19405d211",
       "version_major": 2,
       "version_minor": 0
      },
      "text/plain": [
       "testing:   0%|          | 0/238 [00:00<?, ?it/s]"
      ]
     },
     "metadata": {},
     "output_type": "display_data"
    },
    {
     "name": "stdout",
     "output_type": "stream",
     "text": [
      "epoch 67, step 64736, loss: 0.3757072985172272\n",
      "start of epoch 68 with lr=[3.86777005072715e-05]\n"
     ]
    },
    {
     "data": {
      "application/vnd.jupyter.widget-view+json": {
       "model_id": "19c61e5c21484cb0b53ab1ae15925382",
       "version_major": 2,
       "version_minor": 0
      },
      "text/plain": [
       "training:   0%|          | 0/952 [00:00<?, ?it/s]"
      ]
     },
     "metadata": {},
     "output_type": "display_data"
    },
    {
     "name": "stdout",
     "output_type": "stream",
     "text": [
      "epoch 68, step 65688, loss: 0.4447381160840267\n"
     ]
    },
    {
     "data": {
      "application/vnd.jupyter.widget-view+json": {
       "model_id": "615a7eb5f4f14757bde90d7cd18851bc",
       "version_major": 2,
       "version_minor": 0
      },
      "text/plain": [
       "testing:   0%|          | 0/238 [00:00<?, ?it/s]"
      ]
     },
     "metadata": {},
     "output_type": "display_data"
    },
    {
     "name": "stdout",
     "output_type": "stream",
     "text": [
      "epoch 68, step 65688, loss: 0.37557992339134216\n",
      "start of epoch 69 with lr=[3.480993045654435e-05]\n"
     ]
    },
    {
     "data": {
      "application/vnd.jupyter.widget-view+json": {
       "model_id": "4e79dcb788944f87a593490e94092bbf",
       "version_major": 2,
       "version_minor": 0
      },
      "text/plain": [
       "training:   0%|          | 0/952 [00:00<?, ?it/s]"
      ]
     },
     "metadata": {},
     "output_type": "display_data"
    },
    {
     "name": "stdout",
     "output_type": "stream",
     "text": [
      "epoch 69, step 66640, loss: 0.4574848731525806\n"
     ]
    },
    {
     "data": {
      "application/vnd.jupyter.widget-view+json": {
       "model_id": "d52f449c52f5465a9eb3caa31f0785da",
       "version_major": 2,
       "version_minor": 0
      },
      "text/plain": [
       "testing:   0%|          | 0/238 [00:00<?, ?it/s]"
      ]
     },
     "metadata": {},
     "output_type": "display_data"
    },
    {
     "name": "stdout",
     "output_type": "stream",
     "text": [
      "epoch 69, step 66640, loss: 0.3759711980819702\n",
      "start of epoch 70 with lr=[3.1328937410889915e-05]\n"
     ]
    },
    {
     "data": {
      "application/vnd.jupyter.widget-view+json": {
       "model_id": "b00e844389394116a3f614c701390a8e",
       "version_major": 2,
       "version_minor": 0
      },
      "text/plain": [
       "training:   0%|          | 0/952 [00:00<?, ?it/s]"
      ]
     },
     "metadata": {},
     "output_type": "display_data"
    },
    {
     "name": "stdout",
     "output_type": "stream",
     "text": [
      "epoch 70, step 67592, loss: 0.4313421269424823\n"
     ]
    },
    {
     "data": {
      "application/vnd.jupyter.widget-view+json": {
       "model_id": "3e8770a465c0419d82d52307eef65516",
       "version_major": 2,
       "version_minor": 0
      },
      "text/plain": [
       "testing:   0%|          | 0/238 [00:00<?, ?it/s]"
      ]
     },
     "metadata": {},
     "output_type": "display_data"
    },
    {
     "name": "stdout",
     "output_type": "stream",
     "text": [
      "epoch 70, step 67592, loss: 0.3758336007595062\n",
      "start of epoch 71 with lr=[2.8196043669800925e-05]\n"
     ]
    },
    {
     "data": {
      "application/vnd.jupyter.widget-view+json": {
       "model_id": "34f2cdd835664642a3b1b45fde726f09",
       "version_major": 2,
       "version_minor": 0
      },
      "text/plain": [
       "training:   0%|          | 0/952 [00:00<?, ?it/s]"
      ]
     },
     "metadata": {},
     "output_type": "display_data"
    },
    {
     "name": "stdout",
     "output_type": "stream",
     "text": [
      "epoch 71, step 68544, loss: 0.45607158992470814\n"
     ]
    },
    {
     "data": {
      "application/vnd.jupyter.widget-view+json": {
       "model_id": "2abad24de3c841ccaa402cca3f75c432",
       "version_major": 2,
       "version_minor": 0
      },
      "text/plain": [
       "testing:   0%|          | 0/238 [00:00<?, ?it/s]"
      ]
     },
     "metadata": {},
     "output_type": "display_data"
    },
    {
     "name": "stdout",
     "output_type": "stream",
     "text": [
      "epoch 71, step 68544, loss: 0.3759220540523529\n",
      "start of epoch 72 with lr=[2.5376439302820835e-05]\n"
     ]
    },
    {
     "data": {
      "application/vnd.jupyter.widget-view+json": {
       "model_id": "9dc929ce06414f38aacf954b45fedd8d",
       "version_major": 2,
       "version_minor": 0
      },
      "text/plain": [
       "training:   0%|          | 0/952 [00:00<?, ?it/s]"
      ]
     },
     "metadata": {},
     "output_type": "display_data"
    },
    {
     "name": "stdout",
     "output_type": "stream",
     "text": [
      "epoch 72, step 69496, loss: 0.43370305565224976\n"
     ]
    },
    {
     "data": {
      "application/vnd.jupyter.widget-view+json": {
       "model_id": "93eddfde7b8e4a29a5607803643e4d2a",
       "version_major": 2,
       "version_minor": 0
      },
      "text/plain": [
       "testing:   0%|          | 0/238 [00:00<?, ?it/s]"
      ]
     },
     "metadata": {},
     "output_type": "display_data"
    },
    {
     "name": "stdout",
     "output_type": "stream",
     "text": [
      "epoch 72, step 69496, loss: 0.3756502568721771\n",
      "start of epoch 73 with lr=[2.2838795372538753e-05]\n"
     ]
    },
    {
     "data": {
      "application/vnd.jupyter.widget-view+json": {
       "model_id": "e87e10f0ae1e43e49421aa36fcc30727",
       "version_major": 2,
       "version_minor": 0
      },
      "text/plain": [
       "training:   0%|          | 0/952 [00:00<?, ?it/s]"
      ]
     },
     "metadata": {},
     "output_type": "display_data"
    },
    {
     "name": "stdout",
     "output_type": "stream",
     "text": [
      "epoch 73, step 70448, loss: 0.44310395807779135\n"
     ]
    },
    {
     "data": {
      "application/vnd.jupyter.widget-view+json": {
       "model_id": "7e8b11568d854de29bf7dfcb315cfa18",
       "version_major": 2,
       "version_minor": 0
      },
      "text/plain": [
       "testing:   0%|          | 0/238 [00:00<?, ?it/s]"
      ]
     },
     "metadata": {},
     "output_type": "display_data"
    },
    {
     "name": "stdout",
     "output_type": "stream",
     "text": [
      "epoch 73, step 70448, loss: 0.37460124492645264\n",
      "start of epoch 74 with lr=[2.0554915835284878e-05]\n"
     ]
    },
    {
     "data": {
      "application/vnd.jupyter.widget-view+json": {
       "model_id": "e6dca45343534d60b466f6a3fb567dd1",
       "version_major": 2,
       "version_minor": 0
      },
      "text/plain": [
       "training:   0%|          | 0/952 [00:00<?, ?it/s]"
      ]
     },
     "metadata": {},
     "output_type": "display_data"
    },
    {
     "name": "stdout",
     "output_type": "stream",
     "text": [
      "epoch 74, step 71400, loss: 0.45023143617044975\n"
     ]
    },
    {
     "data": {
      "application/vnd.jupyter.widget-view+json": {
       "model_id": "f2ae626ce4e849fbaf6b909cf2fa12db",
       "version_major": 2,
       "version_minor": 0
      },
      "text/plain": [
       "testing:   0%|          | 0/238 [00:00<?, ?it/s]"
      ]
     },
     "metadata": {},
     "output_type": "display_data"
    },
    {
     "name": "stdout",
     "output_type": "stream",
     "text": [
      "epoch 74, step 71400, loss: 0.3745705485343933\n",
      "start of epoch 75 with lr=[1.849942425175639e-05]\n"
     ]
    },
    {
     "data": {
      "application/vnd.jupyter.widget-view+json": {
       "model_id": "b02405abc73347968df5e76601005c4c",
       "version_major": 2,
       "version_minor": 0
      },
      "text/plain": [
       "training:   0%|          | 0/952 [00:00<?, ?it/s]"
      ]
     },
     "metadata": {},
     "output_type": "display_data"
    },
    {
     "name": "stdout",
     "output_type": "stream",
     "text": [
      "epoch 75, step 72352, loss: 0.44592080271544576\n"
     ]
    },
    {
     "data": {
      "application/vnd.jupyter.widget-view+json": {
       "model_id": "9db53a0968214826a4e5138a0ab3f578",
       "version_major": 2,
       "version_minor": 0
      },
      "text/plain": [
       "testing:   0%|          | 0/238 [00:00<?, ?it/s]"
      ]
     },
     "metadata": {},
     "output_type": "display_data"
    },
    {
     "name": "stdout",
     "output_type": "stream",
     "text": [
      "epoch 75, step 72352, loss: 0.37476032972335815\n",
      "start of epoch 76 with lr=[1.6649481826580752e-05]\n"
     ]
    },
    {
     "data": {
      "application/vnd.jupyter.widget-view+json": {
       "model_id": "c7bccd03bc2e429a998e150f751beba7",
       "version_major": 2,
       "version_minor": 0
      },
      "text/plain": [
       "training:   0%|          | 0/952 [00:00<?, ?it/s]"
      ]
     },
     "metadata": {},
     "output_type": "display_data"
    },
    {
     "name": "stdout",
     "output_type": "stream",
     "text": [
      "epoch 76, step 73304, loss: 0.4410249207701002\n"
     ]
    },
    {
     "data": {
      "application/vnd.jupyter.widget-view+json": {
       "model_id": "3febf46f851d4e0398b5f68d8604032b",
       "version_major": 2,
       "version_minor": 0
      },
      "text/plain": [
       "testing:   0%|          | 0/238 [00:00<?, ?it/s]"
      ]
     },
     "metadata": {},
     "output_type": "display_data"
    },
    {
     "name": "stdout",
     "output_type": "stream",
     "text": [
      "epoch 76, step 73304, loss: 0.3744567930698395\n",
      "start of epoch 77 with lr=[1.4984533643922677e-05]\n"
     ]
    },
    {
     "data": {
      "application/vnd.jupyter.widget-view+json": {
       "model_id": "7ae165cf102b4139a47973ce5d65f741",
       "version_major": 2,
       "version_minor": 0
      },
      "text/plain": [
       "training:   0%|          | 0/952 [00:00<?, ?it/s]"
      ]
     },
     "metadata": {},
     "output_type": "display_data"
    },
    {
     "name": "stdout",
     "output_type": "stream",
     "text": [
      "epoch 77, step 74256, loss: 0.45851833379569173\n"
     ]
    },
    {
     "data": {
      "application/vnd.jupyter.widget-view+json": {
       "model_id": "412a4850494b4851bc2ce38031422656",
       "version_major": 2,
       "version_minor": 0
      },
      "text/plain": [
       "testing:   0%|          | 0/238 [00:00<?, ?it/s]"
      ]
     },
     "metadata": {},
     "output_type": "display_data"
    },
    {
     "name": "stdout",
     "output_type": "stream",
     "text": [
      "epoch 77, step 74256, loss: 0.3745795786380768\n",
      "start of epoch 78 with lr=[1.348608027953041e-05]\n"
     ]
    },
    {
     "data": {
      "application/vnd.jupyter.widget-view+json": {
       "model_id": "f72b7896d8234469bb31b7dac2b99b59",
       "version_major": 2,
       "version_minor": 0
      },
      "text/plain": [
       "training:   0%|          | 0/952 [00:00<?, ?it/s]"
      ]
     },
     "metadata": {},
     "output_type": "display_data"
    },
    {
     "name": "stdout",
     "output_type": "stream",
     "text": [
      "epoch 78, step 75208, loss: 0.42858628966227297\n"
     ]
    },
    {
     "data": {
      "application/vnd.jupyter.widget-view+json": {
       "model_id": "e4de21d4a2a34f17b3fd91b90778ecb1",
       "version_major": 2,
       "version_minor": 0
      },
      "text/plain": [
       "testing:   0%|          | 0/238 [00:00<?, ?it/s]"
      ]
     },
     "metadata": {},
     "output_type": "display_data"
    },
    {
     "name": "stdout",
     "output_type": "stream",
     "text": [
      "epoch 78, step 75208, loss: 0.3747699558734894\n",
      "start of epoch 79 with lr=[1.213747225157737e-05]\n"
     ]
    },
    {
     "data": {
      "application/vnd.jupyter.widget-view+json": {
       "model_id": "cc6a5cb9b8bd4602985497c98f5d073e",
       "version_major": 2,
       "version_minor": 0
      },
      "text/plain": [
       "training:   0%|          | 0/952 [00:00<?, ?it/s]"
      ]
     },
     "metadata": {},
     "output_type": "display_data"
    },
    {
     "name": "stdout",
     "output_type": "stream",
     "text": [
      "epoch 79, step 76160, loss: 0.4445956920375343\n"
     ]
    },
    {
     "data": {
      "application/vnd.jupyter.widget-view+json": {
       "model_id": "25d6e28d8b144becb948584002526d1c",
       "version_major": 2,
       "version_minor": 0
      },
      "text/plain": [
       "testing:   0%|          | 0/238 [00:00<?, ?it/s]"
      ]
     },
     "metadata": {},
     "output_type": "display_data"
    },
    {
     "name": "stdout",
     "output_type": "stream",
     "text": [
      "epoch 79, step 76160, loss: 0.374580979347229\n",
      "start of epoch 80 with lr=[1.0923725026419632e-05]\n"
     ]
    },
    {
     "data": {
      "application/vnd.jupyter.widget-view+json": {
       "model_id": "f25e488e733c469ca55a333803a44d2f",
       "version_major": 2,
       "version_minor": 0
      },
      "text/plain": [
       "training:   0%|          | 0/952 [00:00<?, ?it/s]"
      ]
     },
     "metadata": {},
     "output_type": "display_data"
    },
    {
     "name": "stdout",
     "output_type": "stream",
     "text": [
      "epoch 80, step 77112, loss: 0.43310541991426166\n"
     ]
    },
    {
     "data": {
      "application/vnd.jupyter.widget-view+json": {
       "model_id": "f0e42218c287461aa9d05f9d9c8bb0a0",
       "version_major": 2,
       "version_minor": 0
      },
      "text/plain": [
       "testing:   0%|          | 0/238 [00:00<?, ?it/s]"
      ]
     },
     "metadata": {},
     "output_type": "display_data"
    },
    {
     "name": "stdout",
     "output_type": "stream",
     "text": [
      "epoch 80, step 77112, loss: 0.37464073300361633\n",
      "start of epoch 81 with lr=[9.831352523777669e-06]\n"
     ]
    },
    {
     "data": {
      "application/vnd.jupyter.widget-view+json": {
       "model_id": "83986fe0c52149799be46c13dd08231b",
       "version_major": 2,
       "version_minor": 0
      },
      "text/plain": [
       "training:   0%|          | 0/952 [00:00<?, ?it/s]"
      ]
     },
     "metadata": {},
     "output_type": "display_data"
    },
    {
     "name": "stdout",
     "output_type": "stream",
     "text": [
      "epoch 81, step 78064, loss: 0.45711366819734334\n"
     ]
    },
    {
     "data": {
      "application/vnd.jupyter.widget-view+json": {
       "model_id": "d8092a84d3724393900bfbcb526293da",
       "version_major": 2,
       "version_minor": 0
      },
      "text/plain": [
       "testing:   0%|          | 0/238 [00:00<?, ?it/s]"
      ]
     },
     "metadata": {},
     "output_type": "display_data"
    },
    {
     "name": "stdout",
     "output_type": "stream",
     "text": [
      "epoch 81, step 78064, loss: 0.37457218766212463\n",
      "start of epoch 82 with lr=[8.848217271399903e-06]\n"
     ]
    },
    {
     "data": {
      "application/vnd.jupyter.widget-view+json": {
       "model_id": "a926e95c7fe648e0b52243b3ef7f7544",
       "version_major": 2,
       "version_minor": 0
      },
      "text/plain": [
       "training:   0%|          | 0/952 [00:00<?, ?it/s]"
      ]
     },
     "metadata": {},
     "output_type": "display_data"
    },
    {
     "name": "stdout",
     "output_type": "stream",
     "text": [
      "epoch 82, step 79016, loss: 0.44486709402388885\n"
     ]
    },
    {
     "data": {
      "application/vnd.jupyter.widget-view+json": {
       "model_id": "1a369de3feba4fd39078abc3da8793d6",
       "version_major": 2,
       "version_minor": 0
      },
      "text/plain": [
       "testing:   0%|          | 0/238 [00:00<?, ?it/s]"
      ]
     },
     "metadata": {},
     "output_type": "display_data"
    },
    {
     "name": "stdout",
     "output_type": "stream",
     "text": [
      "epoch 82, step 79016, loss: 0.3749770522117615\n",
      "start of epoch 83 with lr=[7.963395544259913e-06]\n"
     ]
    },
    {
     "data": {
      "application/vnd.jupyter.widget-view+json": {
       "model_id": "24581e9dc2fd4fd6aa8af7c3fa865808",
       "version_major": 2,
       "version_minor": 0
      },
      "text/plain": [
       "training:   0%|          | 0/952 [00:00<?, ?it/s]"
      ]
     },
     "metadata": {},
     "output_type": "display_data"
    },
    {
     "name": "stdout",
     "output_type": "stream",
     "text": [
      "epoch 83, step 79968, loss: 0.44246361235610576\n"
     ]
    },
    {
     "data": {
      "application/vnd.jupyter.widget-view+json": {
       "model_id": "2b8c160160a24484a6ade25886b89464",
       "version_major": 2,
       "version_minor": 0
      },
      "text/plain": [
       "testing:   0%|          | 0/238 [00:00<?, ?it/s]"
      ]
     },
     "metadata": {},
     "output_type": "display_data"
    },
    {
     "name": "stdout",
     "output_type": "stream",
     "text": [
      "epoch 83, step 79968, loss: 0.37441933155059814\n",
      "start of epoch 84 with lr=[7.167055989833922e-06]\n"
     ]
    },
    {
     "data": {
      "application/vnd.jupyter.widget-view+json": {
       "model_id": "7b62846c0018493e8def74797613c574",
       "version_major": 2,
       "version_minor": 0
      },
      "text/plain": [
       "training:   0%|          | 0/952 [00:00<?, ?it/s]"
      ]
     },
     "metadata": {},
     "output_type": "display_data"
    },
    {
     "name": "stdout",
     "output_type": "stream",
     "text": [
      "epoch 84, step 80920, loss: 0.44545999144305704\n"
     ]
    },
    {
     "data": {
      "application/vnd.jupyter.widget-view+json": {
       "model_id": "1691128f6016412184d96201efbaacd3",
       "version_major": 2,
       "version_minor": 0
      },
      "text/plain": [
       "testing:   0%|          | 0/238 [00:00<?, ?it/s]"
      ]
     },
     "metadata": {},
     "output_type": "display_data"
    },
    {
     "name": "stdout",
     "output_type": "stream",
     "text": [
      "epoch 84, step 80920, loss: 0.3751055896282196\n",
      "start of epoch 85 with lr=[6.4503503908505294e-06]\n"
     ]
    },
    {
     "data": {
      "application/vnd.jupyter.widget-view+json": {
       "model_id": "1d9f57b3fdbe445782e275b6951953d5",
       "version_major": 2,
       "version_minor": 0
      },
      "text/plain": [
       "training:   0%|          | 0/952 [00:00<?, ?it/s]"
      ]
     },
     "metadata": {},
     "output_type": "display_data"
    },
    {
     "name": "stdout",
     "output_type": "stream",
     "text": [
      "epoch 85, step 81872, loss: 0.44517198956313253\n"
     ]
    },
    {
     "data": {
      "application/vnd.jupyter.widget-view+json": {
       "model_id": "95f7de4e56c4448589dd9a77aa47aad7",
       "version_major": 2,
       "version_minor": 0
      },
      "text/plain": [
       "testing:   0%|          | 0/238 [00:00<?, ?it/s]"
      ]
     },
     "metadata": {},
     "output_type": "display_data"
    },
    {
     "name": "stdout",
     "output_type": "stream",
     "text": [
      "epoch 85, step 81872, loss: 0.3745340406894684\n",
      "start of epoch 86 with lr=[5.805315351765477e-06]\n"
     ]
    },
    {
     "data": {
      "application/vnd.jupyter.widget-view+json": {
       "model_id": "76560401d6c646ed855f49dd7e84cd76",
       "version_major": 2,
       "version_minor": 0
      },
      "text/plain": [
       "training:   0%|          | 0/952 [00:00<?, ?it/s]"
      ]
     },
     "metadata": {},
     "output_type": "display_data"
    },
    {
     "name": "stdout",
     "output_type": "stream",
     "text": [
      "epoch 86, step 82824, loss: 0.4276731249665012\n"
     ]
    },
    {
     "data": {
      "application/vnd.jupyter.widget-view+json": {
       "model_id": "9b728f9eaa4c444f82ea146ee7b8d288",
       "version_major": 2,
       "version_minor": 0
      },
      "text/plain": [
       "testing:   0%|          | 0/238 [00:00<?, ?it/s]"
      ]
     },
     "metadata": {},
     "output_type": "display_data"
    },
    {
     "name": "stdout",
     "output_type": "stream",
     "text": [
      "epoch 86, step 82824, loss: 0.3745717406272888\n",
      "start of epoch 87 with lr=[5.224783816588929e-06]\n"
     ]
    },
    {
     "data": {
      "application/vnd.jupyter.widget-view+json": {
       "model_id": "6abb5251f8f34bdba5ea74936398f4ad",
       "version_major": 2,
       "version_minor": 0
      },
      "text/plain": [
       "training:   0%|          | 0/952 [00:00<?, ?it/s]"
      ]
     },
     "metadata": {},
     "output_type": "display_data"
    },
    {
     "name": "stdout",
     "output_type": "stream",
     "text": [
      "epoch 87, step 83776, loss: 0.44686891952482594\n"
     ]
    },
    {
     "data": {
      "application/vnd.jupyter.widget-view+json": {
       "model_id": "3f3298418d82459f928b42cb9967314b",
       "version_major": 2,
       "version_minor": 0
      },
      "text/plain": [
       "testing:   0%|          | 0/238 [00:00<?, ?it/s]"
      ]
     },
     "metadata": {},
     "output_type": "display_data"
    },
    {
     "name": "stdout",
     "output_type": "stream",
     "text": [
      "epoch 87, step 83776, loss: 0.3750382363796234\n",
      "start of epoch 88 with lr=[4.702305434930037e-06]\n"
     ]
    },
    {
     "data": {
      "application/vnd.jupyter.widget-view+json": {
       "model_id": "47b017ae0aff41348edea9bc5eb1f8d8",
       "version_major": 2,
       "version_minor": 0
      },
      "text/plain": [
       "training:   0%|          | 0/952 [00:00<?, ?it/s]"
      ]
     },
     "metadata": {},
     "output_type": "display_data"
    },
    {
     "name": "stdout",
     "output_type": "stream",
     "text": [
      "epoch 88, step 84728, loss: 0.4446992190445171\n"
     ]
    },
    {
     "data": {
      "application/vnd.jupyter.widget-view+json": {
       "model_id": "b1efd17330f048c5a8787e25d37188de",
       "version_major": 2,
       "version_minor": 0
      },
      "text/plain": [
       "testing:   0%|          | 0/238 [00:00<?, ?it/s]"
      ]
     },
     "metadata": {},
     "output_type": "display_data"
    },
    {
     "name": "stdout",
     "output_type": "stream",
     "text": [
      "epoch 88, step 84728, loss: 0.37530994415283203\n",
      "start of epoch 89 with lr=[4.232074891437034e-06]\n"
     ]
    },
    {
     "data": {
      "application/vnd.jupyter.widget-view+json": {
       "model_id": "f32f410e249d4c50855b32ae79cb3e49",
       "version_major": 2,
       "version_minor": 0
      },
      "text/plain": [
       "training:   0%|          | 0/952 [00:00<?, ?it/s]"
      ]
     },
     "metadata": {},
     "output_type": "display_data"
    },
    {
     "name": "stdout",
     "output_type": "stream",
     "text": [
      "epoch 89, step 85680, loss: 0.4176674810778193\n"
     ]
    },
    {
     "data": {
      "application/vnd.jupyter.widget-view+json": {
       "model_id": "fc44c1e4e3ee47419fb67b88fb9ccc93",
       "version_major": 2,
       "version_minor": 0
      },
      "text/plain": [
       "testing:   0%|          | 0/238 [00:00<?, ?it/s]"
      ]
     },
     "metadata": {},
     "output_type": "display_data"
    },
    {
     "name": "stdout",
     "output_type": "stream",
     "text": [
      "epoch 89, step 85680, loss: 0.3750585615634918\n",
      "start of epoch 90 with lr=[3.8088674022933302e-06]\n"
     ]
    },
    {
     "data": {
      "application/vnd.jupyter.widget-view+json": {
       "model_id": "479eef4d51d44c46a8f9e9c79a3e18ad",
       "version_major": 2,
       "version_minor": 0
      },
      "text/plain": [
       "training:   0%|          | 0/952 [00:00<?, ?it/s]"
      ]
     },
     "metadata": {},
     "output_type": "display_data"
    },
    {
     "name": "stdout",
     "output_type": "stream",
     "text": [
      "epoch 90, step 86632, loss: 0.4408661828321569\n"
     ]
    },
    {
     "data": {
      "application/vnd.jupyter.widget-view+json": {
       "model_id": "849996d12a7d4c32b74ebb978f53997e",
       "version_major": 2,
       "version_minor": 0
      },
      "text/plain": [
       "testing:   0%|          | 0/238 [00:00<?, ?it/s]"
      ]
     },
     "metadata": {},
     "output_type": "display_data"
    },
    {
     "name": "stdout",
     "output_type": "stream",
     "text": [
      "epoch 90, step 86632, loss: 0.37441083788871765\n",
      "start of epoch 91 with lr=[3.427980662063997e-06]\n"
     ]
    },
    {
     "data": {
      "application/vnd.jupyter.widget-view+json": {
       "model_id": "278e0e6d936a4b6991665539509ef9f3",
       "version_major": 2,
       "version_minor": 0
      },
      "text/plain": [
       "training:   0%|          | 0/952 [00:00<?, ?it/s]"
      ]
     },
     "metadata": {},
     "output_type": "display_data"
    },
    {
     "name": "stdout",
     "output_type": "stream",
     "text": [
      "epoch 91, step 87584, loss: 0.4426187422095227\n"
     ]
    },
    {
     "data": {
      "application/vnd.jupyter.widget-view+json": {
       "model_id": "8482f3969d9841d6b348e2f2988897fe",
       "version_major": 2,
       "version_minor": 0
      },
      "text/plain": [
       "testing:   0%|          | 0/238 [00:00<?, ?it/s]"
      ]
     },
     "metadata": {},
     "output_type": "display_data"
    },
    {
     "name": "stdout",
     "output_type": "stream",
     "text": [
      "epoch 91, step 87584, loss: 0.3753316402435303\n",
      "start of epoch 92 with lr=[3.0851825958575973e-06]\n"
     ]
    },
    {
     "data": {
      "application/vnd.jupyter.widget-view+json": {
       "model_id": "9860adef7c3b43f7ac8f34b1e320668b",
       "version_major": 2,
       "version_minor": 0
      },
      "text/plain": [
       "training:   0%|          | 0/952 [00:00<?, ?it/s]"
      ]
     },
     "metadata": {},
     "output_type": "display_data"
    },
    {
     "name": "stdout",
     "output_type": "stream",
     "text": [
      "epoch 92, step 88536, loss: 0.4366549814448637\n"
     ]
    },
    {
     "data": {
      "application/vnd.jupyter.widget-view+json": {
       "model_id": "f80d9945b29f4b1095038006b726cdd7",
       "version_major": 2,
       "version_minor": 0
      },
      "text/plain": [
       "testing:   0%|          | 0/238 [00:00<?, ?it/s]"
      ]
     },
     "metadata": {},
     "output_type": "display_data"
    },
    {
     "name": "stdout",
     "output_type": "stream",
     "text": [
      "epoch 92, step 88536, loss: 0.37539228796958923\n",
      "start of epoch 93 with lr=[2.7766643362718377e-06]\n"
     ]
    },
    {
     "data": {
      "application/vnd.jupyter.widget-view+json": {
       "model_id": "b5ef462b647142a4bfd6bab1eb1f90f6",
       "version_major": 2,
       "version_minor": 0
      },
      "text/plain": [
       "training:   0%|          | 0/952 [00:00<?, ?it/s]"
      ]
     },
     "metadata": {},
     "output_type": "display_data"
    },
    {
     "name": "stdout",
     "output_type": "stream",
     "text": [
      "epoch 93, step 89488, loss: 0.456976423744394\n"
     ]
    },
    {
     "data": {
      "application/vnd.jupyter.widget-view+json": {
       "model_id": "01836951a64346228493f5c1c813ee0c",
       "version_major": 2,
       "version_minor": 0
      },
      "text/plain": [
       "testing:   0%|          | 0/238 [00:00<?, ?it/s]"
      ]
     },
     "metadata": {},
     "output_type": "display_data"
    },
    {
     "name": "stdout",
     "output_type": "stream",
     "text": [
      "epoch 93, step 89488, loss: 0.3751896023750305\n",
      "start of epoch 94 with lr=[2.498997902644654e-06]\n"
     ]
    },
    {
     "data": {
      "application/vnd.jupyter.widget-view+json": {
       "model_id": "5e1e701de1164c219db9596bcd328eb9",
       "version_major": 2,
       "version_minor": 0
      },
      "text/plain": [
       "training:   0%|          | 0/952 [00:00<?, ?it/s]"
      ]
     },
     "metadata": {},
     "output_type": "display_data"
    },
    {
     "name": "stdout",
     "output_type": "stream",
     "text": [
      "epoch 94, step 90440, loss: 0.4351181387901306\n"
     ]
    },
    {
     "data": {
      "application/vnd.jupyter.widget-view+json": {
       "model_id": "0f45ee7a57984835b93a20d24464794b",
       "version_major": 2,
       "version_minor": 0
      },
      "text/plain": [
       "testing:   0%|          | 0/238 [00:00<?, ?it/s]"
      ]
     },
     "metadata": {},
     "output_type": "display_data"
    },
    {
     "name": "stdout",
     "output_type": "stream",
     "text": [
      "epoch 94, step 90440, loss: 0.37526676058769226\n",
      "start of epoch 95 with lr=[2.2490981123801883e-06]\n"
     ]
    },
    {
     "data": {
      "application/vnd.jupyter.widget-view+json": {
       "model_id": "9a1c011dc470439e82d01fbfd589269b",
       "version_major": 2,
       "version_minor": 0
      },
      "text/plain": [
       "training:   0%|          | 0/952 [00:00<?, ?it/s]"
      ]
     },
     "metadata": {},
     "output_type": "display_data"
    },
    {
     "name": "stdout",
     "output_type": "stream",
     "text": [
      "epoch 95, step 91392, loss: 0.4375280036645777\n"
     ]
    },
    {
     "data": {
      "application/vnd.jupyter.widget-view+json": {
       "model_id": "89eb750a3ebd482596540d0b164deb71",
       "version_major": 2,
       "version_minor": 0
      },
      "text/plain": [
       "testing:   0%|          | 0/238 [00:00<?, ?it/s]"
      ]
     },
     "metadata": {},
     "output_type": "display_data"
    },
    {
     "name": "stdout",
     "output_type": "stream",
     "text": [
      "epoch 95, step 91392, loss: 0.37515807151794434\n",
      "start of epoch 96 with lr=[2.0241883011421697e-06]\n"
     ]
    },
    {
     "data": {
      "application/vnd.jupyter.widget-view+json": {
       "model_id": "b1cb02a04b0a4f40b98f475ef8f9bbc6",
       "version_major": 2,
       "version_minor": 0
      },
      "text/plain": [
       "training:   0%|          | 0/952 [00:00<?, ?it/s]"
      ]
     },
     "metadata": {},
     "output_type": "display_data"
    },
    {
     "name": "stdout",
     "output_type": "stream",
     "text": [
      "epoch 96, step 92344, loss: 0.4588573054105294\n"
     ]
    },
    {
     "data": {
      "application/vnd.jupyter.widget-view+json": {
       "model_id": "9f024a7ee16a4d6f9f3c94a5ec402cec",
       "version_major": 2,
       "version_minor": 0
      },
      "text/plain": [
       "testing:   0%|          | 0/238 [00:00<?, ?it/s]"
      ]
     },
     "metadata": {},
     "output_type": "display_data"
    },
    {
     "name": "stdout",
     "output_type": "stream",
     "text": [
      "epoch 96, step 92344, loss: 0.3753678798675537\n",
      "start of epoch 97 with lr=[1.8217694710279527e-06]\n"
     ]
    },
    {
     "data": {
      "application/vnd.jupyter.widget-view+json": {
       "model_id": "99e25088fd8446909087f2768cce627f",
       "version_major": 2,
       "version_minor": 0
      },
      "text/plain": [
       "training:   0%|          | 0/952 [00:00<?, ?it/s]"
      ]
     },
     "metadata": {},
     "output_type": "display_data"
    },
    {
     "name": "stdout",
     "output_type": "stream",
     "text": [
      "epoch 97, step 93296, loss: 0.4466814554038168\n"
     ]
    },
    {
     "data": {
      "application/vnd.jupyter.widget-view+json": {
       "model_id": "8f39b30946f244b79535a4c9fddfbccf",
       "version_major": 2,
       "version_minor": 0
      },
      "text/plain": [
       "testing:   0%|          | 0/238 [00:00<?, ?it/s]"
      ]
     },
     "metadata": {},
     "output_type": "display_data"
    },
    {
     "name": "stdout",
     "output_type": "stream",
     "text": [
      "epoch 97, step 93296, loss: 0.37512677907943726\n",
      "start of epoch 98 with lr=[1.6395925239251574e-06]\n"
     ]
    },
    {
     "data": {
      "application/vnd.jupyter.widget-view+json": {
       "model_id": "b5f22f3d4e5742db9256c5d53acbd093",
       "version_major": 2,
       "version_minor": 0
      },
      "text/plain": [
       "training:   0%|          | 0/952 [00:00<?, ?it/s]"
      ]
     },
     "metadata": {},
     "output_type": "display_data"
    },
    {
     "name": "stdout",
     "output_type": "stream",
     "text": [
      "epoch 98, step 94248, loss: 0.4349679478577205\n"
     ]
    },
    {
     "data": {
      "application/vnd.jupyter.widget-view+json": {
       "model_id": "ce743622c6444319a3a0aa3858d95eb1",
       "version_major": 2,
       "version_minor": 0
      },
      "text/plain": [
       "testing:   0%|          | 0/238 [00:00<?, ?it/s]"
      ]
     },
     "metadata": {},
     "output_type": "display_data"
    },
    {
     "name": "stdout",
     "output_type": "stream",
     "text": [
      "epoch 98, step 94248, loss: 0.3753323256969452\n",
      "start of epoch 99 with lr=[1.4756332715326416e-06]\n"
     ]
    },
    {
     "data": {
      "application/vnd.jupyter.widget-view+json": {
       "model_id": "d0d75120347d4313b5bc56010108a58a",
       "version_major": 2,
       "version_minor": 0
      },
      "text/plain": [
       "training:   0%|          | 0/952 [00:00<?, ?it/s]"
      ]
     },
     "metadata": {},
     "output_type": "display_data"
    },
    {
     "name": "stdout",
     "output_type": "stream",
     "text": [
      "epoch 99, step 95200, loss: 0.44833040087162945\n"
     ]
    },
    {
     "data": {
      "application/vnd.jupyter.widget-view+json": {
       "model_id": "b71df66bae11451eb796d0aad9f234a4",
       "version_major": 2,
       "version_minor": 0
      },
      "text/plain": [
       "testing:   0%|          | 0/238 [00:00<?, ?it/s]"
      ]
     },
     "metadata": {},
     "output_type": "display_data"
    },
    {
     "name": "stdout",
     "output_type": "stream",
     "text": [
      "epoch 99, step 95200, loss: 0.37572866678237915\n"
     ]
    }
   ],
   "source": [
    "manager.loop(epochs=100)"
   ]
  },
  {
   "cell_type": "code",
   "execution_count": 35,
   "metadata": {},
   "outputs": [],
   "source": [
    "manager.save('data/model.pth')"
   ]
  },
  {
   "cell_type": "code",
   "execution_count": 36,
   "metadata": {},
   "outputs": [
    {
     "data": {
      "text/plain": [
       "[0.37539228796958923,\n",
       " 0.3751896023750305,\n",
       " 0.37526676058769226,\n",
       " 0.37515807151794434,\n",
       " 0.3753678798675537,\n",
       " 0.37512677907943726,\n",
       " 0.3753323256969452,\n",
       " 0.37572866678237915]"
      ]
     },
     "execution_count": 36,
     "metadata": {},
     "output_type": "execute_result"
    }
   ],
   "source": [
    "manager.tst_loss.y[-8:]"
   ]
  },
  {
   "cell_type": "code",
   "execution_count": 37,
   "metadata": {},
   "outputs": [
    {
     "data": {
      "image/png": "[encoded data removed]",
      "text/plain": [
       "<Figure size 480x480 with 1 Axes>"
      ]
     },
     "execution_count": 37,
     "metadata": {},
     "output_type": "execute_result"
    }
   ],
   "source": [
    "fig, ax = plt.subplots(1, 1, squeeze=True, figsize=(6, 6))\n",
    "\n",
    "ax.plot(manager.trn_loss.x, manager.trn_loss.y, color='r', linewidth=1, label='train')\n",
    "ax.plot(manager.tst_loss.x, manager.tst_loss.y, color='b', linewidth=1, label='test')\n",
    "\n",
    "ax.set_xlabel('step')\n",
    "ax.set_ylabel('loss')\n",
    "\n",
    "ax.set_ylim(-0.1, 1.1)\n",
    "\n",
    "fig.suptitle('loss')\n",
    "fig.legend(loc='upper right')\n",
    "fig.tight_layout()\n",
    "fig"
   ]
  },
  {
   "cell_type": "markdown",
   "metadata": {},
   "source": [
    "# test"
   ]
  },
  {
   "cell_type": "code",
   "execution_count": 38,
   "metadata": {},
   "outputs": [],
   "source": [
    "manager_test = SampleModelManager(lr=0.001, device=torch.device('cpu'))\n",
    "manager_test.load('data/model.pth')"
   ]
  },
  {
   "cell_type": "code",
   "execution_count": 39,
   "metadata": {},
   "outputs": [],
   "source": [
    "actual, predicted = manager_test.sample(10000)"
   ]
  },
  {
   "cell_type": "code",
   "execution_count": 40,
   "metadata": {},
   "outputs": [
    {
     "data": {
      "text/plain": [
       "[0.0, 0.0, 0.0, 0.0]"
      ]
     },
     "execution_count": 40,
     "metadata": {},
     "output_type": "execute_result"
    }
   ],
   "source": [
    "actual[:4]"
   ]
  },
  {
   "cell_type": "code",
   "execution_count": 41,
   "metadata": {},
   "outputs": [
    {
     "data": {
      "text/plain": [
       "[0.70732087, 0.24746878, 0.29371127, 0.043599833]"
      ]
     },
     "execution_count": 41,
     "metadata": {},
     "output_type": "execute_result"
    }
   ],
   "source": [
    "predicted[:4]"
   ]
  },
  {
   "cell_type": "code",
   "execution_count": 42,
   "metadata": {},
   "outputs": [
    {
     "data": {
      "image/png": "[encoded data removed]",
      "text/plain": [
       "<Figure size 480x480 with 1 Axes>"
      ]
     },
     "execution_count": 42,
     "metadata": {},
     "output_type": "execute_result"
    }
   ],
   "source": [
    "fig, ax = plt.subplots(1, 1, squeeze=True, figsize=(6, 6))\n",
    "\n",
    "ax.scatter(actual, predicted, alpha=0.05)\n",
    "\n",
    "ax.plot([0.0, 1.0], [0.0, 1.0], linestyle='--', color='r', alpha=0.2)\n",
    "ax.plot([0.0, 1.0], [0.5, 0.5], linestyle='--', color='r', alpha=0.2)\n",
    "\n",
    "ax.set_xlim([-0.05, 1.05])\n",
    "ax.set_ylim([-0.05, 1.05])\n",
    "\n",
    "ax.set_xlabel('actual')\n",
    "ax.set_ylabel('predicted')\n",
    "\n",
    "fig.suptitle('ages')\n",
    "fig.tight_layout()\n",
    "fig"
   ]
  },
  {
   "cell_type": "code",
   "execution_count": 43,
   "metadata": {},
   "outputs": [
    {
     "data": {
      "image/png": "[encoded data removed]",
      "text/plain": [
       "<Figure size 480x480 with 2 Axes>"
      ]
     },
     "execution_count": 43,
     "metadata": {},
     "output_type": "execute_result"
    }
   ],
   "source": [
    "fig, ax = plt.subplots(1, 1, squeeze=True, figsize=(6, 6))\n",
    "\n",
    "sklearn.metrics.ConfusionMatrixDisplay.from_predictions(\n",
    "    [int(label >= 0.5) for label in actual], \n",
    "    [int(label >= 0.5) for label in predicted],\n",
    "    ax=ax, normalize='all', cmap='Accent'\n",
    ")\n",
    "\n",
    "\n",
    "fig.suptitle('ages')\n",
    "fig.tight_layout()\n",
    "fig"
   ]
  },
  {
   "cell_type": "code",
   "execution_count": null,
   "metadata": {},
   "outputs": [],
   "source": []
  }
 ],
 "metadata": {
  "kernelspec": {
   "display_name": "Python 3 (ipykernel)",
   "language": "python",
   "name": "python3"
  },
  "language_info": {
   "codemirror_mode": {
    "name": "ipython",
    "version": 3
   },
   "file_extension": ".py",
   "mimetype": "text/x-python",
   "name": "python",
   "nbconvert_exporter": "python",
   "pygments_lexer": "ipython3",
   "version": "3.10.16"
  }
 },
 "nbformat": 4,
 "nbformat_minor": 4
}
